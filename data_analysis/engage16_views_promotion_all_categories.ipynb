{
 "cells": [
  {
   "cell_type": "code",
   "execution_count": 1,
   "metadata": {},
   "outputs": [],
   "source": [
    "from __future__ import print_function, division\n",
    "import os, bz2, json, time, sys, csv\n",
    "from datetime import timedelta, datetime\n",
    "\n",
    "import math\n",
    "import collections\n",
    "import numpy as np\n",
    "import pandas as pd\n",
    "import matplotlib as mpl\n",
    "\n",
    "from matplotlib import pyplot as plt\n",
    "from tqdm import tqdm\n",
    "\n",
    "from util_read import engage_read, read_vids, engage_tweets_read, merge_engage_tweets, engage_metadata, compute_period_daily"
   ]
  },
  {
   "cell_type": "code",
   "execution_count": 2,
   "metadata": {},
   "outputs": [],
   "source": [
    "file_vids_filter_all = \"/home/users/u6314203/pyProject/hip-popularity/data/engage16/filtered/vids_filter_all.csv\" \n",
    "engage_dataset_base = \"/localdata/u6314203/dataset_engage16/tweeted_videos\" \n",
    "tweets_dataset_base = \"/localdata/u6314203/dataset_tweets_engage/dataset_tweets_fixTZ\"\n",
    "\n",
    "# file_vids_filter_all = \"C:/Users/u6314203/pyProjects/hip-popularity/data/engage16/filtered/vids_filter_all.csv\"\n",
    "# engage_dataset_base = \"G:/MLCV dataset/engagement'16/tweeted_videos\"\n",
    "# tweets_dataset_base = \"G:/MLCV dataset/engagement'16/tweets_dataset_fixTZ\""
   ]
  },
  {
   "cell_type": "code",
   "execution_count": 3,
   "metadata": {},
   "outputs": [],
   "source": [
    "categories_eligible = [\"autos\", \"comedy\",\"education\",\"entertainment\", \\\n",
    "                       \"film\",\"gaming\",\"howto\",\"music\",\\\n",
    "                       \"news\",\"people\",\"science\",\"sports\",\\\n",
    "                       \"travel\"]"
   ]
  },
  {
   "cell_type": "code",
   "execution_count": 4,
   "metadata": {},
   "outputs": [
    {
     "name": "stdout",
     "output_type": "stream",
     "text": [
      "Vids(filtered) in each category:\n",
      "autos:25712; comedy:31741; education:41191; entertainment:180128; film:43101; gaming:222236; howto:61027; music:118094; news:38249; people:222658; science:32278; sports:39649; travel:13112\n",
      "Engage autos size: 25139\n",
      "Tweets autos size: 25597\n",
      "Merged size: 25030\n",
      "Engage comedy size: 31519\n",
      "Tweets comedy size: 31678\n",
      "Merged size: 31456\n",
      "Engage education size: 40311\n",
      "Tweets education size: 41005\n",
      "Merged size: 40126\n",
      "Engage entertainment size: 177236\n",
      "Tweets entertainment size: 179517\n",
      "Merged size: 176636\n",
      "Engage film size: 42439\n",
      "Tweets film size: 42954\n",
      "Merged size: 42295\n",
      "Engage gaming size: 219709\n",
      "Tweets gaming size: 221470\n",
      "Merged size: 218958\n",
      "Engage howto size: 59965\n",
      "Tweets howto size: 60796\n",
      "Merged size: 59740\n",
      "Engage music size: 116884\n",
      "Tweets music size: 117764\n",
      "Merged size: 116559\n",
      "Engage news size: 37508\n",
      "Tweets news size: 38082\n",
      "Merged size: 37344\n",
      "Engage people size: 220100\n",
      "Tweets people size: 221975\n",
      "Merged size: 219427\n",
      "Engage science size: 31899\n",
      "Tweets science size: 32148\n",
      "Merged size: 31769\n",
      "Engage sports size: 39129\n",
      "Tweets sports size: 39537\n",
      "Merged size: 39020\n",
      "Engage travel size: 12921\n",
      "Tweets travel size: 13043\n",
      "Merged size: 12855\n",
      "Total size: 1051215\n"
     ]
    }
   ],
   "source": [
    "# vids from all category\n",
    "vids_filter_all = read_vids(file_vids_filter_all)\n",
    "\n",
    "merged_dataset = dict()\n",
    "# engage_metadata = dict() \n",
    "for category in categories_eligible[:]:\n",
    "    engage_dataset = engage_read(engage_dataset_base, category)\n",
    "    tweets_dataset = engage_tweets_read(tweets_dataset_base, category)\n",
    "    \n",
    "    curr_merged = merge_engage_tweets(engage_dataset, tweets_dataset)\n",
    "    merged_dataset.update(curr_merged)\n",
    "    \n",
    "#     curr_metadata = engage_metadata(engage_dataset_base, category)\n",
    "#     engage_metadata.update(curr_metadata)\n",
    "print(f\"Total size: {len(merged_dataset)}\")"
   ]
  },
  {
   "cell_type": "code",
   "execution_count": null,
   "metadata": {},
   "outputs": [],
   "source": [
    "stats = compute_period_daily(merged_dataset)"
   ]
  },
  {
   "cell_type": "code",
   "execution_count": null,
   "metadata": {},
   "outputs": [],
   "source": [
    "fig = plt.figure(figsize=(16, 16))\n",
    "\n",
    "daily_views_lt, daily_shares_lt = stats[\"daily_views_lt\"], stats[\"daily_shares_lt\"]\n",
    "ax = fig.add_subplot(221)\n",
    "ax.scatter(daily_views_lt, daily_shares_lt, s = 6.0)\n",
    "ax.set_xlabel(\"daily views (long-term)\")\n",
    "ax.set_ylabel(\"daily shares (long-term)\")\n",
    "\n",
    "perc_views_lt, daily_shares_lt = stats[\"perc_views_lt\"], stats[\"daily_shares_lt\"]\n",
    "ax = fig.add_subplot(222)\n",
    "ax.scatter(perc_views_lt, daily_shares_lt, s = 6.0)\n",
    "ax.set_xlabel(\"views percent (long-term)\")\n",
    "ax.set_ylabel(\"daily shares (long-term)\")\n",
    "\n",
    "daily_views_lt, daily_tweets_lt = stats[\"daily_views_lt\"], stats[\"daily_tweets_lt\"]\n",
    "ax = fig.add_subplot(223)\n",
    "ax.scatter(daily_views_lt, daily_tweets_lt, s = 6.0)\n",
    "ax.set_xlabel(\"daily views (long-term)\")\n",
    "ax.set_ylabel(\"daily tweets (long-term)\")\n",
    "\n",
    "perc_views_lt, daily_tweets_lt = stats[\"perc_views_lt\"], stats[\"daily_tweets_lt\"]\n",
    "ax = fig.add_subplot(224)\n",
    "ax.scatter(perc_views_lt, daily_tweets_lt, s = 6.0)\n",
    "ax.set_xlabel(\"views percent (long-term)\")\n",
    "ax.set_ylabel(\"daily tweets (long-term)\")"
   ]
  },
  {
   "cell_type": "code",
   "execution_count": null,
   "metadata": {},
   "outputs": [],
   "source": [
    "def outlier_remove_empirical(arr_att1, arr_att2):\n",
    "    arr1 = np.array(arr_att1)\n",
    "    arr2 = np.array(arr_att2)\n",
    "    \n",
    "    arr1[arr1 < 0] = np.nan\n",
    "    arr1[arr1 > 200000] = np.nan\n",
    "    arr2[np.isnan(arr1)] = np.nan\n",
    "    \n",
    "    arr2[arr2 < 0] = np.nan\n",
    "    arr2[arr2 > 20] = np.nan\n",
    "    arr1[np.isnan(arr2)] = np.nan\n",
    "    return arr1, arr2"
   ]
  },
  {
   "cell_type": "code",
   "execution_count": null,
   "metadata": {},
   "outputs": [],
   "source": [
    "fig = plt.figure(figsize=(16, 8))\n",
    "\n",
    "daily_views_lt, daily_tweets_lt = stats[\"daily_views_lt\"], stats[\"daily_tweets_lt\"]\n",
    "ax = fig.add_subplot(121)\n",
    "ax.scatter(daily_views_lt, daily_tweets_lt, s = 6.0)\n",
    "ax.set_xlabel(\"daily views (long-term)\")\n",
    "ax.set_ylabel(\"daily tweets (long-term)\")\n",
    "\n",
    "daily_views_lt, daily_tweets_lt = outlier_remove_empirical(stats[\"daily_views_lt\"], stats[\"daily_tweets_lt\"])\n",
    "ax = fig.add_subplot(122)\n",
    "ax.scatter(daily_views_lt, daily_tweets_lt, s = 6.0)\n",
    "ax.set_xlabel(\"daily views (long-term) (bottom-left)\")\n",
    "ax.set_ylabel(\"daily tweets (long-term) (bottom-left)\")"
   ]
  },
  {
   "cell_type": "code",
   "execution_count": null,
   "metadata": {},
   "outputs": [],
   "source": [
    "def percentile_views(viewcounts, promotions):\n",
    "    n = len(viewcounts)\n",
    "    arr = [(viewcounts[i], i) for i in range(n)]\n",
    "    arr.sort()\n",
    "    views_percentile = [(j+1)/n for j in range(n)]\n",
    "    promotions_reordered = [promotions[x[1]] for x in arr]\n",
    "    return views_percentile, promotions_reordered"
   ]
  },
  {
   "cell_type": "code",
   "execution_count": null,
   "metadata": {},
   "outputs": [],
   "source": [
    "fig = plt.figure(figsize=(16, 8))\n",
    "\n",
    "daily_views_lt, daily_tweets_lt = stats[\"daily_views_lt\"], stats[\"daily_tweets_lt\"]\n",
    "ax = fig.add_subplot(121)\n",
    "ax.scatter(daily_views_lt, daily_tweets_lt, s = 6.0)\n",
    "ax.set_xlabel(\"daily views (long-term)\")\n",
    "ax.set_ylabel(\"daily tweets (long-term)\")\n",
    "\n",
    "views_percentile, daily_tweets_lt = percentile_views(stats[\"daily_views_lt\"], stats[\"daily_tweets_lt\"])\n",
    "ax = fig.add_subplot(122)\n",
    "ax.scatter(views_percentile, daily_tweets_lt, s = 6.0)\n",
    "ax.set_xlabel(\"views percentile (long-term)\")\n",
    "ax.set_ylabel(\"daily tweets (long-term)\")"
   ]
  },
  {
   "cell_type": "code",
   "execution_count": null,
   "metadata": {},
   "outputs": [],
   "source": []
  }
 ],
 "metadata": {
  "kernelspec": {
   "display_name": "hip-long",
   "language": "python",
   "name": "hip-long"
  },
  "language_info": {
   "codemirror_mode": {
    "name": "ipython",
    "version": 3
   },
   "file_extension": ".py",
   "mimetype": "text/x-python",
   "name": "python",
   "nbconvert_exporter": "python",
   "pygments_lexer": "ipython3",
   "version": "3.8.5"
  }
 },
 "nbformat": 4,
 "nbformat_minor": 2
}
