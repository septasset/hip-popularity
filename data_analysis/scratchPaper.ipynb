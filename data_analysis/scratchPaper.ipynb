{
 "cells": [
  {
   "cell_type": "code",
   "execution_count": 5,
   "metadata": {},
   "outputs": [],
   "source": [
    "import os, sys, math, glob\n",
    "import json, csv, re, datetime\n",
    "import pickle\n",
    "import collections\n",
    "import numpy as np\n",
    "import pandas as pd\n",
    "\n",
    "from matplotlib import pyplot as plt\n",
    "from matplotlib import cm as cm\n",
    "from tqdm import tqdm\n",
    "from collections import Counter\n",
    "\n",
    "from util_read import read_vids, engage_read\n",
    "\n",
    "import my_util"
   ]
  },
  {
   "cell_type": "code",
   "execution_count": 2,
   "metadata": {},
   "outputs": [],
   "source": [
    "engage_dataset_base = \"G:/MLCV dataset/engagement'16/tweeted_videos\"\n",
    "\n",
    "categories_eligible = [\"autos\", \"comedy\",\"education\",\"entertainment\", \\\n",
    "                       \"film\",\"gaming\",\"howto\",\"music\",\\\n",
    "                       \"news\",\"people\",\"science\",\"sports\",\\\n",
    "                       \"travel\"]\n",
    "\n",
    "file_vids_filter_all = \"C:/Users/u6314203/pyProjects/hip-popularity/data/engage16/filtered/vids_filter_all.csv\""
   ]
  },
  {
   "cell_type": "code",
   "execution_count": 4,
   "metadata": {},
   "outputs": [
    {
     "name": "stdout",
     "output_type": "stream",
     "text": [
      "Vids(filtered) in each category:\n",
      "autos:25712; comedy:31741; education:41191; entertainment:180128; film:43101; gaming:222236; howto:61027; music:118094; news:38249; people:222658; science:32278; sports:39649; travel:13112\n"
     ]
    }
   ],
   "source": [
    "# vids from all category\n",
    "vids_filter_all = read_vids(file_vids_filter_all)\n",
    "\n",
    "category = categories_eligible[1]"
   ]
  },
  {
   "cell_type": "code",
   "execution_count": 8,
   "metadata": {},
   "outputs": [
    {
     "name": "stdout",
     "output_type": "stream",
     "text": [
      "Engage comedy size: 31519\n"
     ]
    }
   ],
   "source": [
    "dataset = engage_read(engage_dataset_base, category)"
   ]
  },
  {
   "cell_type": "code",
   "execution_count": 10,
   "metadata": {},
   "outputs": [
    {
     "data": {
      "text/plain": [
       "['uElpUPDGi9E',\n",
       " 'm5FPWgloFpo',\n",
       " 'e-3wUlcaTZA',\n",
       " '2yo0QImaHN0',\n",
       " 'J8AKJrWJqgM',\n",
       " 'KnjCURfP3wE',\n",
       " 'I_gfHPHeDgw',\n",
       " 'KsPNsE_VYV8',\n",
       " 'AhQxU8-aFTY',\n",
       " 'srHbB3SdIgw',\n",
       " '1EnB1A25nDA',\n",
       " 'ntB5M11SxB8',\n",
       " '5_q_K8aweo4',\n",
       " 'G7X3QWOlRas',\n",
       " '93AikFYlcZI']"
      ]
     },
     "execution_count": 10,
     "metadata": {},
     "output_type": "execute_result"
    }
   ],
   "source": [
    "list(dataset.keys())[:15]"
   ]
  },
  {
   "cell_type": "code",
   "execution_count": null,
   "metadata": {},
   "outputs": [],
   "source": []
  }
 ],
 "metadata": {
  "kernelspec": {
   "display_name": "hip-long",
   "language": "python",
   "name": "hip-long"
  },
  "language_info": {
   "codemirror_mode": {
    "name": "ipython",
    "version": 3
   },
   "file_extension": ".py",
   "mimetype": "text/x-python",
   "name": "python",
   "nbconvert_exporter": "python",
   "pygments_lexer": "ipython3",
   "version": "3.7.3"
  }
 },
 "nbformat": 4,
 "nbformat_minor": 2
}
