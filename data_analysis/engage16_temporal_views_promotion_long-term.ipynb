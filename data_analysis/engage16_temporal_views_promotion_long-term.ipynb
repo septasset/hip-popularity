{
 "cells": [
  {
   "cell_type": "code",
   "execution_count": 1,
   "metadata": {},
   "outputs": [],
   "source": [
    "from __future__ import print_function, division\n",
    "import os, bz2, json, time, sys, csv\n",
    "from datetime import timedelta, datetime\n",
    "\n",
    "import math\n",
    "import collections\n",
    "import numpy as np\n",
    "import pandas as pd\n",
    "import matplotlib as mpl\n",
    "import scipy.stats as stats\n",
    "\n",
    "from matplotlib import pyplot as plt\n",
    "from tqdm import tqdm\n",
    "\n",
    "from util_read import engage_read, read_vids, engage_tweets_read, merge_engage_tweets, engage_metadata, compute_period_daily"
   ]
  },
  {
   "cell_type": "code",
   "execution_count": 2,
   "metadata": {},
   "outputs": [],
   "source": [
    "file_vids_filter_all = \"C:/Users/u6314203/pyProjects/hip-popularity/data/engage16/filtered/vids_filter_all.csv\"\n",
    "engage_dataset_base = \"G:/MLCV dataset/engagement'16/tweeted_videos\"\n",
    "tweets_dataset_base = \"G:/MLCV dataset/engagement'16/tweets_dataset_fixTZ\"\n",
    "\n",
    "categories_eligible = [\"autos\", \"comedy\",\"education\",\"entertainment\", \\\n",
    "                       \"film\",\"gaming\",\"howto\",\"music\",\\\n",
    "                       \"news\",\"people\",\"science\",\"sports\",\\\n",
    "                       \"travel\"]"
   ]
  },
  {
   "cell_type": "code",
   "execution_count": 3,
   "metadata": {},
   "outputs": [
    {
     "name": "stdout",
     "output_type": "stream",
     "text": [
      "Vids(filtered) in each category:\n",
      "autos:25712; comedy:31741; education:41191; entertainment:180128; film:43101; gaming:222236; howto:61027; music:118094; news:38249; people:222658; science:32278; sports:39649; travel:13112\n",
      "Engage comedy size: 31519\n",
      "Tweets comedy size: 31678\n",
      "Merged size: 31456\n",
      "Total size: 31456\n"
     ]
    }
   ],
   "source": [
    "# vids from all category\n",
    "vids_filter_all = read_vids(file_vids_filter_all)\n",
    "\n",
    "merged_dataset = dict()\n",
    "# engage_metadata = dict() \n",
    "for category in categories_eligible[1:2]:\n",
    "    engage_dataset = engage_read(engage_dataset_base, category)\n",
    "    tweets_dataset = engage_tweets_read(tweets_dataset_base, category)\n",
    "    \n",
    "    curr_merged = merge_engage_tweets(engage_dataset, tweets_dataset)\n",
    "    merged_dataset.update(curr_merged)\n",
    "    \n",
    "print(f\"Total size: {len(merged_dataset)}\")"
   ]
  },
  {
   "cell_type": "code",
   "execution_count": 12,
   "metadata": {},
   "outputs": [
    {
     "data": {
      "text/html": [
       "<div>\n",
       "<style scoped>\n",
       "    .dataframe tbody tr th:only-of-type {\n",
       "        vertical-align: middle;\n",
       "    }\n",
       "\n",
       "    .dataframe tbody tr th {\n",
       "        vertical-align: top;\n",
       "    }\n",
       "\n",
       "    .dataframe thead th {\n",
       "        text-align: right;\n",
       "    }\n",
       "</style>\n",
       "<table border=\"1\" class=\"dataframe\">\n",
       "  <thead>\n",
       "    <tr style=\"text-align: right;\">\n",
       "      <th></th>\n",
       "      <th>r</th>\n",
       "      <th>p</th>\n",
       "    </tr>\n",
       "  </thead>\n",
       "  <tbody>\n",
       "    <tr>\n",
       "      <th>count</th>\n",
       "      <td>13923.000000</td>\n",
       "      <td>1.392300e+04</td>\n",
       "    </tr>\n",
       "    <tr>\n",
       "      <th>mean</th>\n",
       "      <td>0.095538</td>\n",
       "      <td>3.819990e-01</td>\n",
       "    </tr>\n",
       "    <tr>\n",
       "      <th>std</th>\n",
       "      <td>0.152413</td>\n",
       "      <td>3.314882e-01</td>\n",
       "    </tr>\n",
       "    <tr>\n",
       "      <th>min</th>\n",
       "      <td>-0.182968</td>\n",
       "      <td>2.686726e-223</td>\n",
       "    </tr>\n",
       "    <tr>\n",
       "      <th>25%</th>\n",
       "      <td>-0.005877</td>\n",
       "      <td>3.393569e-02</td>\n",
       "    </tr>\n",
       "    <tr>\n",
       "      <th>50%</th>\n",
       "      <td>0.056836</td>\n",
       "      <td>3.410854e-01</td>\n",
       "    </tr>\n",
       "    <tr>\n",
       "      <th>75%</th>\n",
       "      <td>0.149821</td>\n",
       "      <td>6.768821e-01</td>\n",
       "    </tr>\n",
       "    <tr>\n",
       "      <th>max</th>\n",
       "      <td>0.996776</td>\n",
       "      <td>1.000000e+00</td>\n",
       "    </tr>\n",
       "  </tbody>\n",
       "</table>\n",
       "</div>"
      ],
      "text/plain": [
       "                  r              p\n",
       "count  13923.000000   1.392300e+04\n",
       "mean       0.095538   3.819990e-01\n",
       "std        0.152413   3.314882e-01\n",
       "min       -0.182968  2.686726e-223\n",
       "25%       -0.005877   3.393569e-02\n",
       "50%        0.056836   3.410854e-01\n",
       "75%        0.149821   6.768821e-01\n",
       "max        0.996776   1.000000e+00"
      ]
     },
     "execution_count": 12,
     "metadata": {},
     "output_type": "execute_result"
    }
   ],
   "source": [
    "timepoint = 90\n",
    "pearsonr_vals = []\n",
    "vids = []\n",
    "for k, vals in merged_dataset.items():\n",
    "    series_views = vals[\"viewCounts\"][timepoint:]\n",
    "    series_tweets = vals[\"tweets\"][timepoint:]\n",
    "    r, p = stats.pearsonr(series_views, series_tweets)\n",
    "    pearsonr_vals.append([r,p])\n",
    "    vids.append(k)\n",
    "\n",
    "df_pearsonr = pd.DataFrame(pearsonr_vals, columns=[\"r\", \"p\"], index=vids)\n",
    "df_pearsonr = df_pearsonr[[not x for x in np.isnan(df_pearsonr[\"r\"])]]\n",
    "pd.DataFrame.describe(df_pearsonr)"
   ]
  },
  {
   "cell_type": "code",
   "execution_count": 7,
   "metadata": {},
   "outputs": [
    {
     "data": {
      "text/plain": [
       "Text(0, 0.5, 'Number of videos')"
      ]
     },
     "execution_count": 7,
     "metadata": {},
     "output_type": "execute_result"
    },
    {
     "data": {
      "image/png": "[encoded data removed]",
      "text/plain": [
       "<Figure size 432x432 with 1 Axes>"
      ]
     },
     "metadata": {
      "needs_background": "light"
     },
     "output_type": "display_data"
    }
   ],
   "source": [
    "fig = plt.figure(figsize=(6, 6))\n",
    "ax = fig.add_subplot(1,1,1)\n",
    "n, bins, patches = ax.hist(df_pearsonr[\"r\"], bins=20)\n",
    "ax.set_title(f\"Distribution of pearsonr results: comedy\")\n",
    "ax.set_xlabel(\"pearsonr r value\")\n",
    "ax.set_ylabel(\"Number of videos\")"
   ]
  },
  {
   "cell_type": "code",
   "execution_count": 8,
   "metadata": {},
   "outputs": [
    {
     "data": {
      "text/plain": [
       "Text(0, 0.5, 'pearsonr r value')"
      ]
     },
     "execution_count": 8,
     "metadata": {},
     "output_type": "execute_result"
    },
    {
     "data": {
      "image/png": "[encoded data removed]",
      "text/plain": [
       "<Figure size 432x432 with 1 Axes>"
      ]
     },
     "metadata": {
      "needs_background": "light"
     },
     "output_type": "display_data"
    }
   ],
   "source": [
    "fig = plt.figure(figsize=(6, 6))\n",
    "ax = fig.add_subplot(1,1,1)\n",
    "ax.scatter(df_pearsonr[\"p\"], df_pearsonr[\"r\"])\n",
    "# ax.set_title(f\"Distribution of pearsonr results: comedy\")\n",
    "ax.set_xlabel(\"pearsonr p value\")\n",
    "ax.set_ylabel(\"pearsonr r value\")"
   ]
  },
  {
   "cell_type": "code",
   "execution_count": 11,
   "metadata": {},
   "outputs": [
    {
     "data": {
      "text/html": [
       "<div>\n",
       "<style scoped>\n",
       "    .dataframe tbody tr th:only-of-type {\n",
       "        vertical-align: middle;\n",
       "    }\n",
       "\n",
       "    .dataframe tbody tr th {\n",
       "        vertical-align: top;\n",
       "    }\n",
       "\n",
       "    .dataframe thead th {\n",
       "        text-align: right;\n",
       "    }\n",
       "</style>\n",
       "<table border=\"1\" class=\"dataframe\">\n",
       "  <thead>\n",
       "    <tr style=\"text-align: right;\">\n",
       "      <th></th>\n",
       "      <th>r</th>\n",
       "      <th>p</th>\n",
       "    </tr>\n",
       "  </thead>\n",
       "  <tbody>\n",
       "    <tr>\n",
       "      <th>count</th>\n",
       "      <td>3796.000000</td>\n",
       "      <td>3.796000e+03</td>\n",
       "    </tr>\n",
       "    <tr>\n",
       "      <th>mean</th>\n",
       "      <td>0.286273</td>\n",
       "      <td>8.266623e-03</td>\n",
       "    </tr>\n",
       "    <tr>\n",
       "      <th>std</th>\n",
       "      <td>0.161185</td>\n",
       "      <td>1.303531e-02</td>\n",
       "    </tr>\n",
       "    <tr>\n",
       "      <th>min</th>\n",
       "      <td>-0.182968</td>\n",
       "      <td>2.686726e-223</td>\n",
       "    </tr>\n",
       "    <tr>\n",
       "      <th>25%</th>\n",
       "      <td>0.176524</td>\n",
       "      <td>8.272344e-07</td>\n",
       "    </tr>\n",
       "    <tr>\n",
       "      <th>50%</th>\n",
       "      <td>0.234324</td>\n",
       "      <td>8.283049e-04</td>\n",
       "    </tr>\n",
       "    <tr>\n",
       "      <th>75%</th>\n",
       "      <td>0.338021</td>\n",
       "      <td>1.170916e-02</td>\n",
       "    </tr>\n",
       "    <tr>\n",
       "      <th>max</th>\n",
       "      <td>0.996776</td>\n",
       "      <td>4.997525e-02</td>\n",
       "    </tr>\n",
       "  </tbody>\n",
       "</table>\n",
       "</div>"
      ],
      "text/plain": [
       "                 r              p\n",
       "count  3796.000000   3.796000e+03\n",
       "mean      0.286273   8.266623e-03\n",
       "std       0.161185   1.303531e-02\n",
       "min      -0.182968  2.686726e-223\n",
       "25%       0.176524   8.272344e-07\n",
       "50%       0.234324   8.283049e-04\n",
       "75%       0.338021   1.170916e-02\n",
       "max       0.996776   4.997525e-02"
      ]
     },
     "execution_count": 11,
     "metadata": {},
     "output_type": "execute_result"
    }
   ],
   "source": [
    "df_filter = df_pearsonr[df_pearsonr[\"p\"]<=0.05]\n",
    "\n",
    "pd.DataFrame.describe(df_filter)"
   ]
  },
  {
   "cell_type": "code",
   "execution_count": 10,
   "metadata": {},
   "outputs": [
    {
     "data": {
      "text/plain": [
       "Text(0, 0.5, 'Number of videos')"
      ]
     },
     "execution_count": 10,
     "metadata": {},
     "output_type": "execute_result"
    },
    {
     "data": {
      "image/png": "[encoded data removed]",
      "text/plain": [
       "<Figure size 432x432 with 1 Axes>"
      ]
     },
     "metadata": {
      "needs_background": "light"
     },
     "output_type": "display_data"
    }
   ],
   "source": [
    "fig = plt.figure(figsize=(6, 6))\n",
    "ax = fig.add_subplot(1,1,1)\n",
    "n, bins, patches = ax.hist(df_filter[\"r\"], bins=20)\n",
    "ax.set_title(f\"Distribution of pearsonr results(p<=0.05): comedy\")\n",
    "ax.set_xlabel(\"pearsonr r value\")\n",
    "ax.set_ylabel(\"Number of videos\")"
   ]
  },
  {
   "cell_type": "code",
   "execution_count": 9,
   "metadata": {},
   "outputs": [
    {
     "data": {
      "text/plain": [
       "Text(0, 0.5, 'pearsonr r value')"
      ]
     },
     "execution_count": 9,
     "metadata": {},
     "output_type": "execute_result"
    },
    {
     "data": {
      "image/png": "[encoded data removed]",
      "text/plain": [
       "<Figure size 432x432 with 1 Axes>"
      ]
     },
     "metadata": {
      "needs_background": "light"
     },
     "output_type": "display_data"
    }
   ],
   "source": [
    "fig = plt.figure(figsize=(6, 6))\n",
    "ax = fig.add_subplot(1,1,1)\n",
    "ax.scatter(df_filter[\"p\"], df_filter[\"r\"])\n",
    "# ax.set_title(f\"Distribution of pearsonr results: comedy\")\n",
    "ax.set_xlabel(\"pearsonr p value\")\n",
    "ax.set_ylabel(\"pearsonr r value\")"
   ]
  },
  {
   "cell_type": "code",
   "execution_count": null,
   "metadata": {},
   "outputs": [],
   "source": []
  }
 ],
 "metadata": {
  "kernelspec": {
   "display_name": "hip-long",
   "language": "python",
   "name": "hip-long"
  },
  "language_info": {
   "codemirror_mode": {
    "name": "ipython",
    "version": 3
   },
   "file_extension": ".py",
   "mimetype": "text/x-python",
   "name": "python",
   "nbconvert_exporter": "python",
   "pygments_lexer": "ipython3",
   "version": "3.7.3"
  }
 },
 "nbformat": 4,
 "nbformat_minor": 2
}
