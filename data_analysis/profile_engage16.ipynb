{
 "cells": [
  {
   "cell_type": "code",
   "execution_count": 1,
   "metadata": {},
   "outputs": [],
   "source": [
    "from __future__ import print_function, division\n",
    "import os, bz2, json, time, tqdm\n",
    "from datetime import timedelta, datetime\n",
    "\n",
    "import math\n",
    "import numpy as np\n",
    "import pandas as pd\n",
    "from matplotlib import pyplot as plt\n",
    "from matplotlib import colors\n",
    "\n",
    "import my_util"
   ]
  },
  {
   "cell_type": "code",
   "execution_count": 2,
   "metadata": {},
   "outputs": [],
   "source": [
    "# import importlib\n",
    "# importlib.reload(my_util)"
   ]
  },
  {
   "cell_type": "code",
   "execution_count": 3,
   "metadata": {},
   "outputs": [],
   "source": [
    "categories = [\"activism\",\"autos\",\"comedy\",\"education\",\"entertainment\", \\\n",
    "              \"film\",\"gaming\",\"howto\",\"movies\",\"music\",\\\n",
    "              \"news\",\"people\",\"pets\",\"science\",\"shows\",\\\n",
    "              \"sports\",\"trailers\",\"travel\"]\n",
    "# categories = [\"trailers\", \"movies\", \"shows\"]\n",
    "\n",
    "eval_days = [90, 135, 180, 225, 270]"
   ]
  },
  {
   "cell_type": "code",
   "execution_count": 4,
   "metadata": {},
   "outputs": [],
   "source": [
    "# dataset_base = \"G:/MLCV dataset/engagement'16/tweeted_videos\" \n",
    "# dataset_base = \"H:/engagement'16/tweeted_videos\"\n",
    "dataset_base = \"/Users/zhuxinqi/Documents/online_attention/engagement'16/tweeted_videos\"\n",
    "# dataset_base = \"G:/MLCV dataset/engagement'16/quality_videos\"\n",
    "dataset_jsons = {}"
   ]
  },
  {
   "cell_type": "code",
   "execution_count": 5,
   "metadata": {},
   "outputs": [],
   "source": [
    "# vid -> record\n",
    "dataset = {}\n",
    "# category -> vids\n",
    "info_category = {}\n",
    "# attributes\n",
    "vids_set = set()\n",
    "vids = []\n",
    "days = []\n",
    "views = []\n",
    "shares = []\n",
    "watches = []\n",
    "other_stats = [] # (publish time, history length)"
   ]
  },
  {
   "cell_type": "code",
   "execution_count": 6,
   "metadata": {},
   "outputs": [
    {
     "name": "stdout",
     "output_type": "stream",
     "text": [
      "activism ...\n"
     ]
    },
    {
     "name": "stderr",
     "output_type": "stream",
     "text": [
      "100%|█████████████████████████████████████████| 58787/58787 [00:01<00:00, 29628.81it/s]\n"
     ]
    },
    {
     "name": "stdout",
     "output_type": "stream",
     "text": [
      "autos ...\n"
     ]
    },
    {
     "name": "stderr",
     "output_type": "stream",
     "text": [
      "100%|█████████████████████████████████████████| 84796/84796 [00:03<00:00, 24819.36it/s]\n"
     ]
    },
    {
     "name": "stdout",
     "output_type": "stream",
     "text": [
      "comedy ...\n"
     ]
    },
    {
     "name": "stderr",
     "output_type": "stream",
     "text": [
      "100%|███████████████████████████████████████| 138068/138068 [00:05<00:00, 25017.70it/s]\n"
     ]
    },
    {
     "name": "stdout",
     "output_type": "stream",
     "text": [
      "education ...\n"
     ]
    },
    {
     "name": "stderr",
     "output_type": "stream",
     "text": [
      "100%|███████████████████████████████████████| 182849/182849 [00:07<00:00, 23990.23it/s]\n"
     ]
    },
    {
     "name": "stdout",
     "output_type": "stream",
     "text": [
      "entertainment ...\n"
     ]
    },
    {
     "name": "stderr",
     "output_type": "stream",
     "text": [
      "100%|███████████████████████████████████████| 775941/775941 [00:38<00:00, 20016.31it/s]\n"
     ]
    },
    {
     "name": "stdout",
     "output_type": "stream",
     "text": [
      "film ...\n"
     ]
    },
    {
     "name": "stderr",
     "output_type": "stream",
     "text": [
      "100%|███████████████████████████████████████| 194891/194891 [00:07<00:00, 27493.41it/s]\n"
     ]
    },
    {
     "name": "stdout",
     "output_type": "stream",
     "text": [
      "gaming ...\n"
     ]
    },
    {
     "name": "stderr",
     "output_type": "stream",
     "text": [
      "100%|██████████████████████████████████████| 1079434/1079434 [01:51<00:00, 9691.06it/s]\n"
     ]
    },
    {
     "name": "stdout",
     "output_type": "stream",
     "text": [
      "howto ...\n"
     ]
    },
    {
     "name": "stderr",
     "output_type": "stream",
     "text": [
      "100%|███████████████████████████████████████| 192931/192931 [00:08<00:00, 21888.30it/s]\n"
     ]
    },
    {
     "name": "stdout",
     "output_type": "stream",
     "text": [
      "movies ...\n"
     ]
    },
    {
     "name": "stderr",
     "output_type": "stream",
     "text": [
      "100%|█████████████████████████████████████████████| 158/158 [00:00<00:00, 19258.94it/s]\n"
     ]
    },
    {
     "name": "stdout",
     "output_type": "stream",
     "text": [
      "music ...\n"
     ]
    },
    {
     "name": "stderr",
     "output_type": "stream",
     "text": [
      "100%|███████████████████████████████████████| 449314/449314 [00:25<00:00, 17870.97it/s]\n"
     ]
    },
    {
     "name": "stdout",
     "output_type": "stream",
     "text": [
      "news ...\n"
     ]
    },
    {
     "name": "stderr",
     "output_type": "stream",
     "text": [
      "100%|███████████████████████████████████████| 459728/459728 [00:18<00:00, 24936.82it/s]\n"
     ]
    },
    {
     "name": "stdout",
     "output_type": "stream",
     "text": [
      "people ...\n"
     ]
    },
    {
     "name": "stderr",
     "output_type": "stream",
     "text": [
      "100%|█████████████████████████████████████| 1265805/1265805 [02:00<00:00, 10526.95it/s]\n"
     ]
    },
    {
     "name": "stdout",
     "output_type": "stream",
     "text": [
      "pets ...\n"
     ]
    },
    {
     "name": "stderr",
     "output_type": "stream",
     "text": [
      "100%|█████████████████████████████████████████| 27505/27505 [00:01<00:00, 25734.46it/s]\n"
     ]
    },
    {
     "name": "stdout",
     "output_type": "stream",
     "text": [
      "science ...\n"
     ]
    },
    {
     "name": "stderr",
     "output_type": "stream",
     "text": [
      "100%|███████████████████████████████████████| 110635/110635 [00:04<00:00, 23972.19it/s]\n"
     ]
    },
    {
     "name": "stdout",
     "output_type": "stream",
     "text": [
      "shows ...\n"
     ]
    },
    {
     "name": "stderr",
     "output_type": "stream",
     "text": [
      "100%|███████████████████████████████████████████| 1457/1457 [00:00<00:00, 21542.39it/s]\n"
     ]
    },
    {
     "name": "stdout",
     "output_type": "stream",
     "text": [
      "sports ...\n"
     ]
    },
    {
     "name": "stderr",
     "output_type": "stream",
     "text": [
      "100%|███████████████████████████████████████| 243650/243650 [00:09<00:00, 25930.77it/s]\n"
     ]
    },
    {
     "name": "stdout",
     "output_type": "stream",
     "text": [
      "trailers ...\n"
     ]
    },
    {
     "name": "stderr",
     "output_type": "stream",
     "text": [
      "100%|█████████████████████████████████████████████| 100/100 [00:00<00:00, 20858.88it/s]\n"
     ]
    },
    {
     "name": "stdout",
     "output_type": "stream",
     "text": [
      "travel ...\n"
     ]
    },
    {
     "name": "stderr",
     "output_type": "stream",
     "text": [
      "100%|█████████████████████████████████████████| 65155/65155 [00:02<00:00, 27336.23it/s]"
     ]
    },
    {
     "name": "stdout",
     "output_type": "stream",
     "text": [
      "dataset size: 1084326\n"
     ]
    },
    {
     "name": "stderr",
     "output_type": "stream",
     "text": [
      "\n"
     ]
    }
   ],
   "source": [
    "for test_category in categories:\n",
    "    print(test_category, \"...\")\n",
    "    dataset_json = None\n",
    "    with open(os.path.join(dataset_base, test_category+\".json\"), \"r\") as f:\n",
    "        dataset_json = f.readlines()\n",
    "    \n",
    "    info_category[test_category] = []\n",
    "    for line in tqdm.tqdm(dataset_json):\n",
    "        record = json.loads(line)\n",
    "        try:\n",
    "            category_id = int(record['snippet']['categoryId'])\n",
    "            day = [int(x) for x in record['insights']['days'].split(\",\")]                      \n",
    "            published_at = record['snippet']['publishedAt']\n",
    "            history_length = len(day)\n",
    "            \n",
    "            \"\"\"!!! filtering\"\"\"\n",
    "            if history_length < eval_days[-1]: continue\n",
    "                \n",
    "#             view = [int(x) for x in record['insights']['dailyView'].split(\",\")]\n",
    "#             share = [int(x) for x in record['insights']['dailyShare'].split(\",\")]\n",
    "#             watch = [float(x) for x in record['insights']['dailyWatch'].split(\",\")]\n",
    "        except:\n",
    "            continue\n",
    "#         dataset[record['id']] = (category_id, day, view, share, watch)\n",
    "\n",
    "        if record['id'] in vids_set:\n",
    "            continue\n",
    "        vids_set.add(record['id'])\n",
    "\n",
    "        vids.append(record['id'])\n",
    "#         days.append(day)\n",
    "#         views.append(view)\n",
    "#         shares.append(share)\n",
    "#         watches.append(watch)\n",
    "        \n",
    "#         info_category[test_category].append(record['id'])\n",
    "        \n",
    "        other_stats.append((published_at, history_length))\n",
    "        \n",
    "print(\"dataset size:\", len(vids))"
   ]
  },
  {
   "cell_type": "markdown",
   "metadata": {},
   "source": [
    "#### Stat"
   ]
  },
  {
   "cell_type": "code",
   "execution_count": 8,
   "metadata": {},
   "outputs": [
    {
     "data": {
      "image/png": "[encoded data removed]",
      "text/plain": [
       "<Figure size 1152x576 with 1 Axes>"
      ]
     },
     "metadata": {
      "needs_background": "light"
     },
     "output_type": "display_data"
    },
    {
     "data": {
      "image/png": "[encoded data removed]",
      "text/plain": [
       "<Figure size 576x576 with 1 Axes>"
      ]
     },
     "metadata": {
      "needs_background": "light"
     },
     "output_type": "display_data"
    }
   ],
   "source": [
    "# number of videos uploaded on each day, \n",
    "# and the histogram of the length of available history\n",
    "\n",
    "day_videos_map = dict()\n",
    "for published_at, _ in other_stats:\n",
    "    published_at = datetime.strptime(published_at,\"%Y-%m-%dT%H:%M:%S.%f%z\")\n",
    "    published_date = published_at.date()\n",
    "    if published_date not in day_videos_map:\n",
    "        day_videos_map[published_date] = 0\n",
    "    day_videos_map[published_date] += 1\n",
    "day_videos = sorted(day_videos_map.items(), key=lambda x: x[0])\n",
    "\n",
    "fig = plt.figure(figsize = (16,8))\n",
    "ax = fig.add_subplot(111)\n",
    "ax.plot([x[0] for x in day_videos], [x[1] for x in day_videos])\n",
    "ax.set_ylabel(\"No. Videos\", color=\"blue\", fontsize=16)\n",
    "ax.set_xlabel(\"Publish date\", color=\"blue\", fontsize=16)\n",
    "ax.set_title(\"Number of videos uploaded on each day\", color=\"blue\", fontsize=18)\n",
    "magic_dates = [16983, 16990, 16997, 17004, 17014, 17021, 17028, 17035, 17044]\n",
    "ax.set_xlim(magic_dates[0]-1, magic_dates[-1]+1)\n",
    "ax.set_xticks(magic_dates)\n",
    "plt.savefig('figs/profile_engage16/no_videos_upload_each_day(min-length).png', bbox_inches='tight')\n",
    "\n",
    "fig2 = plt.figure(figsize = (8,8))\n",
    "ax2 = fig2.add_subplot(111)\n",
    "n, bins, patches = ax2.hist([x[1] for x in other_stats],orientation=\"horizontal\", rwidth=0.8)\n",
    "# compute bar color\n",
    "percent = n / n.max()\n",
    "norm = colors.Normalize(percent.min(), percent.max())\n",
    "for thisfrac, thispatch in zip(percent, patches):\n",
    "    color = plt.cm.viridis(norm(thisfrac))\n",
    "    thispatch.set_facecolor(color)\n",
    "ax2.set_yticks(bins)\n",
    "ax2.set_xlabel(\"No. Videos\", color=\"blue\", fontsize=16)\n",
    "ax2.set_ylabel(\"History length\", color=\"blue\", fontsize=16)\n",
    "ax2.set_title(\"Histogram of the length of video history\", color=\"blue\", fontsize=18)\n",
    "ax2.set_yticklabels([round(x) for x in ax2.get_yticks()]) # beautify but inaccurate\n",
    "plt.savefig('figs/profile_engage16/hist_video_history_length(min-length).png', bbox_inches='tight')\n",
    "pass"
   ]
  },
  {
   "cell_type": "code",
   "execution_count": null,
   "metadata": {},
   "outputs": [],
   "source": [
    "for key, val in info_category.items():\n",
    "    print(key, len(val))"
   ]
  },
  {
   "cell_type": "code",
   "execution_count": null,
   "metadata": {},
   "outputs": [],
   "source": [
    "print(\"Min days\",np.min([len(x) for x in days]))\n",
    "print(\"Max days\",np.max([len(x) for x in days]))\n",
    "print(\"Average days\",np.average([len(x) for x in days]))"
   ]
  },
  {
   "cell_type": "markdown",
   "metadata": {},
   "source": [
    "#### Analysis"
   ]
  },
  {
   "cell_type": "code",
   "execution_count": null,
   "metadata": {},
   "outputs": [],
   "source": [
    "df_total_views_log = my_util.total_log_at(eval_days, views, vids, accumulate=False)"
   ]
  },
  {
   "cell_type": "code",
   "execution_count": null,
   "metadata": {
    "scrolled": true
   },
   "outputs": [],
   "source": [
    "fig = plt.figure(figsize=(12, 15))\n",
    "title = \"All categories ({}/{})\".format(len(df_total_views_log.index), len(vids))\n",
    "my_util.plot_fixed_window(eval_days, df_total_views_log, test_category, fig,\\\n",
    "                          title, average_daily=True)\n",
    "plt.savefig('figs/avg/all.png', bbox_inches='tight')"
   ]
  },
  {
   "cell_type": "code",
   "execution_count": null,
   "metadata": {
    "scrolled": true
   },
   "outputs": [],
   "source": [
    "# fig = plt.figure(figsize=(12, 15))\n",
    "# title = \"All categories ({}/{})\".format(len(df_total_views_log.index), len(vids))\n",
    "# my_util.plot_fixed_window(eval_days, df_total_views_log, test_category, fig,\\\n",
    "#                           title, average_daily=False)\n",
    "# plt.savefig('figs/total/all.png', bbox_inches='tight')"
   ]
  },
  {
   "cell_type": "code",
   "execution_count": null,
   "metadata": {},
   "outputs": [],
   "source": [
    "# info_category[\"all_vids\"] = vids\n",
    "# with open(\"./category_vids.json\", \"w\") as f:\n",
    "#     json.dump(info_category, f)"
   ]
  },
  {
   "cell_type": "code",
   "execution_count": null,
   "metadata": {},
   "outputs": [],
   "source": []
  }
 ],
 "metadata": {
  "kernelspec": {
   "display_name": "hip-long",
   "language": "python",
   "name": "hip-long"
  },
  "language_info": {
   "codemirror_mode": {
    "name": "ipython",
    "version": 3
   },
   "file_extension": ".py",
   "mimetype": "text/x-python",
   "name": "python",
   "nbconvert_exporter": "python",
   "pygments_lexer": "ipython3",
   "version": "3.9.7"
  }
 },
 "nbformat": 4,
 "nbformat_minor": 2
}
