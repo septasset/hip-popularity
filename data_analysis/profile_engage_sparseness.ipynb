{
 "cells": [
  {
   "cell_type": "code",
   "execution_count": 1,
   "metadata": {},
   "outputs": [],
   "source": [
    "from __future__ import print_function, division\n",
    "import os, bz2, json, time, sys, csv\n",
    "from datetime import timedelta, datetime\n",
    "\n",
    "import math\n",
    "import collections\n",
    "import numpy as np\n",
    "import pandas as pd\n",
    "import matplotlib as mpl\n",
    "import scipy.stats as stats\n",
    "\n",
    "from matplotlib import pyplot as plt\n",
    "from tqdm import tqdm\n",
    "\n",
    "from util_read import engage_read, read_vids, engage_tweets_read, merge_engage_tweets, engage_metadata, compute_period_daily"
   ]
  },
  {
   "cell_type": "code",
   "execution_count": 2,
   "metadata": {},
   "outputs": [],
   "source": [
    "file_vids_filter_all = \"/home/users/u6314203/pyProject/hip-popularity/data/engage16/filtered/vids_filter_all.csv\" \n",
    "engage_dataset_base = \"/localdata/u6314203/dataset_engage16/tweeted_videos\" \n",
    "tweets_dataset_base = \"/localdata/u6314203/dataset_tweets_engage/dataset_tweets_fixTZ\"\n",
    "\n",
    "# file_vids_filter_all = \"C:/Users/u6314203/pyProjects/hip-popularity/data/engage16/filtered/vids_filter_all.csv\"\n",
    "# engage_dataset_base = \"G:/MLCV dataset/engagement'16/tweeted_videos\"\n",
    "# tweets_dataset_base = \"G:/MLCV dataset/engagement'16/tweets_dataset_fixTZ\"\n",
    "\n",
    "categories_eligible = [\"autos\", \"comedy\",\"education\",\"entertainment\", \\\n",
    "                       \"film\",\"gaming\",\"howto\",\"music\",\\\n",
    "                       \"news\",\"people\",\"science\",\"sports\",\\\n",
    "                       \"travel\"]"
   ]
  },
  {
   "cell_type": "code",
   "execution_count": 4,
   "metadata": {},
   "outputs": [
    {
     "name": "stdout",
     "output_type": "stream",
     "text": [
      "Vids(filtered) in each category:\n",
      "autos:25712; comedy:31741; education:41191; entertainment:180128; film:43101; gaming:222236; howto:61027; music:118094; news:38249; people:222658; science:32278; sports:39649; travel:13112\n",
      "Engage autos size: 25139\n",
      "Engage comedy size: 31519\n",
      "Engage education size: 40311\n",
      "Engage entertainment size: 177236\n",
      "Engage film size: 42439\n",
      "Engage gaming size: 219709\n",
      "Engage howto size: 59965\n",
      "Engage music size: 116884\n",
      "Engage news size: 37508\n",
      "Engage people size: 220100\n",
      "Engage science size: 31899\n",
      "Engage sports size: 39129\n",
      "Engage travel size: 12921\n",
      "Total size: 1054759\n"
     ]
    }
   ],
   "source": [
    "# vids from all category\n",
    "vids_filter_all = read_vids(file_vids_filter_all)\n",
    "\n",
    "dataset = dict()\n",
    "# engage_metadata = dict() \n",
    "for category in categories_eligible[:]:\n",
    "    engage_dataset = engage_read(engage_dataset_base, category)    \n",
    "    dataset.update(engage_dataset)\n",
    "    \n",
    "print(f\"Total size: {len(dataset)}\")"
   ]
  },
  {
   "cell_type": "code",
   "execution_count": 12,
   "metadata": {},
   "outputs": [
    {
     "data": {
      "text/html": [
       "<div>\n",
       "<style scoped>\n",
       "    .dataframe tbody tr th:only-of-type {\n",
       "        vertical-align: middle;\n",
       "    }\n",
       "\n",
       "    .dataframe tbody tr th {\n",
       "        vertical-align: top;\n",
       "    }\n",
       "\n",
       "    .dataframe thead th {\n",
       "        text-align: right;\n",
       "    }\n",
       "</style>\n",
       "<table border=\"1\" class=\"dataframe\">\n",
       "  <thead>\n",
       "    <tr style=\"text-align: right;\">\n",
       "      <th></th>\n",
       "      <th>history length</th>\n",
       "      <th>final day</th>\n",
       "    </tr>\n",
       "  </thead>\n",
       "  <tbody>\n",
       "    <tr>\n",
       "      <th>count</th>\n",
       "      <td>1.054759e+06</td>\n",
       "      <td>1.054759e+06</td>\n",
       "    </tr>\n",
       "    <tr>\n",
       "      <th>mean</th>\n",
       "      <td>2.901436e+02</td>\n",
       "      <td>2.930943e+02</td>\n",
       "    </tr>\n",
       "    <tr>\n",
       "      <th>std</th>\n",
       "      <td>1.329206e+01</td>\n",
       "      <td>1.346336e+01</td>\n",
       "    </tr>\n",
       "    <tr>\n",
       "      <th>min</th>\n",
       "      <td>2.700000e+02</td>\n",
       "      <td>2.690000e+02</td>\n",
       "    </tr>\n",
       "    <tr>\n",
       "      <th>25%</th>\n",
       "      <td>2.790000e+02</td>\n",
       "      <td>2.820000e+02</td>\n",
       "    </tr>\n",
       "    <tr>\n",
       "      <th>50%</th>\n",
       "      <td>2.890000e+02</td>\n",
       "      <td>2.930000e+02</td>\n",
       "    </tr>\n",
       "    <tr>\n",
       "      <th>75%</th>\n",
       "      <td>3.000000e+02</td>\n",
       "      <td>3.030000e+02</td>\n",
       "    </tr>\n",
       "    <tr>\n",
       "      <th>max</th>\n",
       "      <td>3.280000e+02</td>\n",
       "      <td>3.270000e+02</td>\n",
       "    </tr>\n",
       "  </tbody>\n",
       "</table>\n",
       "</div>"
      ],
      "text/plain": [
       "       history length     final day\n",
       "count    1.054759e+06  1.054759e+06\n",
       "mean     2.901436e+02  2.930943e+02\n",
       "std      1.329206e+01  1.346336e+01\n",
       "min      2.700000e+02  2.690000e+02\n",
       "25%      2.790000e+02  2.820000e+02\n",
       "50%      2.890000e+02  2.930000e+02\n",
       "75%      3.000000e+02  3.030000e+02\n",
       "max      3.280000e+02  3.270000e+02"
      ]
     },
     "execution_count": 12,
     "metadata": {},
     "output_type": "execute_result"
    }
   ],
   "source": [
    "vids = []\n",
    "rows = []\n",
    "\n",
    "for vid, vals in dataset.items():\n",
    "    vids.append(vid)\n",
    "    \n",
    "    days = vals[\"days\"]\n",
    "    his_len = len(days) \n",
    "    final_day = days[-1]\n",
    "    rows.append([his_len, final_day])\n",
    "\n",
    "df = pd.DataFrame(rows, columns=[\"history length\", \"final day\"], index=vids)\n",
    "pd.DataFrame.describe(df)"
   ]
  },
  {
   "cell_type": "code",
   "execution_count": 13,
   "metadata": {},
   "outputs": [
    {
     "data": {
      "text/html": [
       "<div>\n",
       "<style scoped>\n",
       "    .dataframe tbody tr th:only-of-type {\n",
       "        vertical-align: middle;\n",
       "    }\n",
       "\n",
       "    .dataframe tbody tr th {\n",
       "        vertical-align: top;\n",
       "    }\n",
       "\n",
       "    .dataframe thead th {\n",
       "        text-align: right;\n",
       "    }\n",
       "</style>\n",
       "<table border=\"1\" class=\"dataframe\">\n",
       "  <thead>\n",
       "    <tr style=\"text-align: right;\">\n",
       "      <th></th>\n",
       "      <th>history length</th>\n",
       "      <th>final day</th>\n",
       "    </tr>\n",
       "  </thead>\n",
       "  <tbody>\n",
       "    <tr>\n",
       "      <th>nw6iUh-MxBk</th>\n",
       "      <td>285</td>\n",
       "      <td>302</td>\n",
       "    </tr>\n",
       "    <tr>\n",
       "      <th>LUu6lxQy36w</th>\n",
       "      <td>304</td>\n",
       "      <td>303</td>\n",
       "    </tr>\n",
       "    <tr>\n",
       "      <th>8iIKb8oYT5k</th>\n",
       "      <td>274</td>\n",
       "      <td>295</td>\n",
       "    </tr>\n",
       "    <tr>\n",
       "      <th>5PF88VYGBBg</th>\n",
       "      <td>297</td>\n",
       "      <td>296</td>\n",
       "    </tr>\n",
       "    <tr>\n",
       "      <th>kdSNY2_gYuk</th>\n",
       "      <td>288</td>\n",
       "      <td>303</td>\n",
       "    </tr>\n",
       "  </tbody>\n",
       "</table>\n",
       "</div>"
      ],
      "text/plain": [
       "             history length  final day\n",
       "nw6iUh-MxBk             285        302\n",
       "LUu6lxQy36w             304        303\n",
       "8iIKb8oYT5k             274        295\n",
       "5PF88VYGBBg             297        296\n",
       "kdSNY2_gYuk             288        303"
      ]
     },
     "execution_count": 13,
     "metadata": {},
     "output_type": "execute_result"
    }
   ],
   "source": [
    "df.head()"
   ]
  },
  {
   "cell_type": "code",
   "execution_count": 14,
   "metadata": {},
   "outputs": [
    {
     "data": {
      "text/plain": [
       "count    1.054759e+06\n",
       "mean     9.902931e-01\n",
       "std      2.561076e-02\n",
       "min      8.256881e-01\n",
       "25%      9.897959e-01\n",
       "50%      1.003268e+00\n",
       "75%      1.003484e+00\n",
       "max      1.003717e+00\n",
       "dtype: float64"
      ]
     },
     "execution_count": 14,
     "metadata": {},
     "output_type": "execute_result"
    }
   ],
   "source": [
    "ratio = (df[\"history length\"])/(df[\"final day\"])\n",
    "pd.DataFrame.describe(ratio)"
   ]
  },
  {
   "cell_type": "code",
   "execution_count": 33,
   "metadata": {},
   "outputs": [
    {
     "data": {
      "image/png": "[encoded data removed]",
      "text/plain": [
       "<Figure size 432x432 with 1 Axes>"
      ]
     },
     "metadata": {
      "needs_background": "light"
     },
     "output_type": "display_data"
    }
   ],
   "source": [
    "plt.rcParams.update({'axes.labelsize': 20, \n",
    "                     'xtick.labelsize': 14,\n",
    "                     'ytick.labelsize': 14})\n",
    "\n",
    "fig = plt.figure(figsize=(6, 6))\n",
    "\n",
    "ax = fig.add_subplot(1,1,1)\n",
    "ax.hist(ratio, bins=20, density=True, cumulative=1, histtype='step', linewidth=3)\n",
    "ax.set_xlabel(\"Ratio of $\\it{history\\_length}$ to $\\it{final\\_day}$\")\n",
    "ax.set_ylabel(r'$\\rho (X \\leq x)$',)\n",
    "\n",
    "fig.savefig(\"figs/sparsenessAfterRemoval.pdf\", bbox_inches='tight')"
   ]
  },
  {
   "cell_type": "code",
   "execution_count": null,
   "metadata": {},
   "outputs": [],
   "source": []
  }
 ],
 "metadata": {
  "kernelspec": {
   "display_name": "hip-long",
   "language": "python",
   "name": "hip-long"
  },
  "language_info": {
   "codemirror_mode": {
    "name": "ipython",
    "version": 3
   },
   "file_extension": ".py",
   "mimetype": "text/x-python",
   "name": "python",
   "nbconvert_exporter": "python",
   "pygments_lexer": "ipython3",
   "version": "3.8.5"
  }
 },
 "nbformat": 4,
 "nbformat_minor": 4
}
