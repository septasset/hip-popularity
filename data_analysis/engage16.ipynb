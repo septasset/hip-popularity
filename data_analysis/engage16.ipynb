{
 "cells": [
  {
   "cell_type": "code",
   "execution_count": null,
   "metadata": {},
   "outputs": [],
   "source": [
    "from __future__ import print_function, division\n",
    "import os, bz2, json, time\n",
    "from datetime import timedelta\n",
    "\n",
    "import math\n",
    "import numpy as np\n",
    "import pandas as pd\n",
    "from matplotlib import pyplot as plt\n",
    "\n",
    "import my_util"
   ]
  },
  {
   "cell_type": "code",
   "execution_count": null,
   "metadata": {},
   "outputs": [],
   "source": [
    "categories = [\"activism\",\"autos\",\"comedy\",\"education\",\"entertainment\", \\\n",
    "              \"film\",\"gaming\",\"howto\",\"movies\",\"music\",\\\n",
    "              \"news\",\"people\",\"pets\",\"science\",\"shows\",\\\n",
    "              \"sports\",\"trailers\",\"travel\"]\n",
    "\n",
    "eval_days = [90, 135, 180, 225, 270]"
   ]
  },
  {
   "cell_type": "code",
   "execution_count": null,
   "metadata": {},
   "outputs": [],
   "source": [
    "dataset_base = \"G:/MLCV dataset/engagement'16/tweeted_videos\" \n",
    "# dataset_base = \"G:/MLCV dataset/engagement'16/quality_videos\"\n",
    "# test_category = categories[10]\n",
    "# test_category = \"movies\"\n",
    "test_category = \"comedy\"\n",
    "# test_category = \"vevo\"\n",
    "\n",
    "with open(os.path.join(dataset_base, test_category+\".json\"), \"r\") as f:\n",
    "    dataset_json = f.readlines()"
   ]
  },
  {
   "cell_type": "markdown",
   "metadata": {},
   "source": [
    "#### Preprocess dataset"
   ]
  },
  {
   "cell_type": "code",
   "execution_count": null,
   "metadata": {},
   "outputs": [],
   "source": [
    "# dict-like dataset\n",
    "dataset = {}\n",
    "# attributes\n",
    "vids_set = set()\n",
    "vids = []\n",
    "days = []\n",
    "views = []\n",
    "shares = []\n",
    "watches = []\n",
    "for line in dataset_json:\n",
    "    record = json.loads(line)\n",
    "    try:\n",
    "        category_id = int(record['snippet']['categoryId'])\n",
    "        day = [int(x) for x in record['insights']['days'].split(\",\")]\n",
    "        \n",
    "        \"\"\"!!!\"\"\"\n",
    "        if len(day) < eval_days[-1]: continue\n",
    "\n",
    "        view = [int(x) for x in record['insights']['dailyView'].split(\",\")]\n",
    "        share = [int(x) for x in record['insights']['dailyShare'].split(\",\")]\n",
    "        watch = [float(x) for x in record['insights']['dailyWatch'].split(\",\")]\n",
    "    except:\n",
    "        continue\n",
    "    dataset[record['id']] = (category_id, day, view, share, watch)\n",
    "    \n",
    "    if record['id'] in vids_set:\n",
    "        continue\n",
    "    vids_set.add(record['id'])\n",
    "    \n",
    "    vids.append(record['id'])\n",
    "    days.append(day)\n",
    "    views.append(view)\n",
    "    shares.append(share)\n",
    "    watches.append(watch)\n",
    "print(\"dataset size:\", len(vids))"
   ]
  },
  {
   "cell_type": "markdown",
   "metadata": {},
   "source": [
    "#### Stats"
   ]
  },
  {
   "cell_type": "code",
   "execution_count": null,
   "metadata": {},
   "outputs": [],
   "source": [
    "print(\"Min days\",np.min([len(x) for x in days]))\n",
    "print(\"Max days\",np.max([len(x) for x in days]))\n",
    "print(\"Average days\",np.average([len(x) for x in days]))"
   ]
  },
  {
   "cell_type": "markdown",
   "metadata": {},
   "source": [
    "#### Analysis"
   ]
  },
  {
   "cell_type": "code",
   "execution_count": null,
   "metadata": {},
   "outputs": [],
   "source": [
    "# df_total_views_no_filter = my_util.total_at_no_filter(eval_days, views, vids, accumulate=True)\n",
    "# pop_percs = my_util.pop_perc_at(eval_days, views, vids, accumulate=True)"
   ]
  },
  {
   "cell_type": "code",
   "execution_count": null,
   "metadata": {},
   "outputs": [],
   "source": [
    "# fig = plt.figure(figsize=(12, 6))\n",
    "# total_views_binned = my_util.plot_popPerc_totalViews(eval_days[:2], df_total_views_no_filter, pop_percs, fig)"
   ]
  },
  {
   "cell_type": "code",
   "execution_count": null,
   "metadata": {},
   "outputs": [],
   "source": [
    "# df_total_views = my_util.total_at(eval_days, views, vids, accumulate=False)\n",
    "df_total_views_log = my_util.total_log_at(eval_days, views, vids, accumulate=False)"
   ]
  },
  {
   "cell_type": "code",
   "execution_count": null,
   "metadata": {},
   "outputs": [],
   "source": [
    "fig2 = plt.figure(figsize=(12, 15))\n",
    "title2 = \"All of {}({}/{})\".format(test_category, len(df_total_views_log.index), len(vids))\n",
    "res2 = my_util.plot_fixed_window_bin_smooth(eval_days, df_total_views_log, test_category, fig2,\\\n",
    "                          title2, average_daily=True, bin_smooth = True)\n",
    "plt.savefig('figs/bin_smooth/avg/{}.png'.format(test_category), bbox_inches='tight')"
   ]
  },
  {
   "cell_type": "code",
   "execution_count": null,
   "metadata": {},
   "outputs": [],
   "source": []
  }
 ],
 "metadata": {
  "kernelspec": {
   "display_name": "hip-long",
   "language": "python",
   "name": "hip-long"
  },
  "language_info": {
   "codemirror_mode": {
    "name": "ipython",
    "version": 3
   },
   "file_extension": ".py",
   "mimetype": "text/x-python",
   "name": "python",
   "nbconvert_exporter": "python",
   "pygments_lexer": "ipython3",
   "version": "3.9.7"
  }
 },
 "nbformat": 4,
 "nbformat_minor": 2
}
