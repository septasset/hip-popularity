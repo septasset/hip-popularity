{
 "cells": [
  {
   "cell_type": "code",
   "execution_count": 1,
   "metadata": {},
   "outputs": [],
   "source": [
    "from __future__ import print_function, division\n",
    "import os, bz2, json, time\n",
    "from datetime import timedelta\n",
    "\n",
    "import math\n",
    "import numpy as np\n",
    "import pandas as pd\n",
    "from matplotlib import pyplot as plt\n",
    "\n",
    "import my_util"
   ]
  },
  {
   "cell_type": "code",
   "execution_count": 2,
   "metadata": {},
   "outputs": [],
   "source": [
    "dataset_base = \"G:/MLCV dataset/engagement'16/tweeted_videos\" \n",
    "# dataset_base = \"G:/MLCV dataset/engagement'16/quality_videos\"\n",
    "test_category = \"music\"\n",
    "# test_category = \"movies\"\n",
    "# test_category = \"vevo\"\n",
    "\n",
    "categories = [\"activism\",\"autos\",\"comedy\",\"education\",\"entertainment\", \\\n",
    "              \"film\",\"gaming\",\"howto\",\"movies\",\"music\",\"news\",\"people\", \\\n",
    "              \"pets\",\"science\",\"shows\",\"sports\",\"trailers\",\"travel\"]\n",
    "\n",
    "with open(os.path.join(dataset_base, test_category+\".json\"), \"r\") as f:\n",
    "    dataset_json = f.readlines()"
   ]
  },
  {
   "cell_type": "markdown",
   "metadata": {},
   "source": [
    "#### Preprocess dataset"
   ]
  },
  {
   "cell_type": "code",
   "execution_count": 3,
   "metadata": {},
   "outputs": [],
   "source": [
    "eval_days = [90, 135, 180, 225, 270]"
   ]
  },
  {
   "cell_type": "code",
   "execution_count": 4,
   "metadata": {},
   "outputs": [
    {
     "name": "stdout",
     "output_type": "stream",
     "text": [
      "dataset size: 116884\n"
     ]
    }
   ],
   "source": [
    "# dict-like dataset\n",
    "dataset = {}\n",
    "# attributes\n",
    "vids_set = set()\n",
    "vids = []\n",
    "days = []\n",
    "views = []\n",
    "shares = []\n",
    "watches = []\n",
    "for line in dataset_json:\n",
    "    record = json.loads(line)\n",
    "    try:\n",
    "        category_id = int(record['snippet']['categoryId'])\n",
    "        day = [int(x) for x in record['insights']['days'].split(\",\")]\n",
    "        \"\"\"!!!\"\"\"\n",
    "        if len(day) < eval_days[-1]: continue\n",
    "        \"\"\"!!!\"\"\"\n",
    "        view = [int(x) for x in record['insights']['dailyView'].split(\",\")]\n",
    "        share = [int(x) for x in record['insights']['dailyShare'].split(\",\")]\n",
    "        watch = [float(x) for x in record['insights']['dailyWatch'].split(\",\")]\n",
    "    except:\n",
    "        continue\n",
    "    dataset[record['id']] = (category_id, day, view, share, watch)\n",
    "    \n",
    "    if record['id'] in vids_set:\n",
    "        continue\n",
    "    vids_set.add(record['id'])\n",
    "    \n",
    "    vids.append(record['id'])\n",
    "    days.append(day)\n",
    "    views.append(view)\n",
    "    shares.append(share)\n",
    "    watches.append(watch)\n",
    "print(\"dataset size:\", len(vids))"
   ]
  },
  {
   "cell_type": "markdown",
   "metadata": {},
   "source": [
    "#### Stats"
   ]
  },
  {
   "cell_type": "code",
   "execution_count": 5,
   "metadata": {},
   "outputs": [
    {
     "name": "stdout",
     "output_type": "stream",
     "text": [
      "Min days 270\n",
      "Max days 328\n",
      "Average days 290.44100133465656\n"
     ]
    }
   ],
   "source": [
    "print(\"Min days\",np.min([len(x) for x in days]))\n",
    "print(\"Max days\",np.max([len(x) for x in days]))\n",
    "print(\"Average days\",np.average([len(x) for x in days]))"
   ]
  },
  {
   "cell_type": "markdown",
   "metadata": {},
   "source": [
    "#### Analysis"
   ]
  },
  {
   "cell_type": "code",
   "execution_count": 6,
   "metadata": {},
   "outputs": [],
   "source": [
    "df_total_views = my_util.total_at(eval_days, views, vids, accumulate=False)\n",
    "# pop_percs = my_util.pop_perc_at(eval_days[:2], views, vids, accumulate=False)\n",
    "# _, popPerc_eval = my_util.plot_popPerc_totalViews(eval_days, df_total_views, pop_percs)"
   ]
  },
  {
   "cell_type": "code",
   "execution_count": 7,
   "metadata": {},
   "outputs": [],
   "source": [
    "# my_util.plot_popPerc_totalViews_Tvs2T(eval_days, popPerc_eval)"
   ]
  },
  {
   "cell_type": "code",
   "execution_count": 8,
   "metadata": {},
   "outputs": [],
   "source": [
    "def total_log_at(days, series, vids, accumulate=True):\n",
    "    \"\"\" compute total number of a series(views/shares...) at several evaluation days\n",
    "    :return: a dataframe\n",
    "    :param accumulate: when false, sum from last day to current day\n",
    "    \"\"\"\n",
    "    series_eval = []\n",
    "    for i in range(len(series)):\n",
    "        if accumulate:\n",
    "            series_accu = [np.sum(series[i][:day]) for day in days]\n",
    "        else:\n",
    "            series_accu = []\n",
    "            for j in range(len(days)):\n",
    "                if j==0: series_accu.append(math.log(max(np.sum(series[i][:days[j]]),1), 10))\n",
    "                else: series_accu.append(math.log(max(np.sum(series[i][days[j-1]:days[j]]), 1), 10))        \n",
    "        series_eval.append(series_accu)\n",
    "    \n",
    "    df_series_eval = pd.DataFrame(series_eval, columns =days, index = vids)\n",
    "    return df_series_eval"
   ]
  },
  {
   "cell_type": "code",
   "execution_count": 9,
   "metadata": {},
   "outputs": [],
   "source": [
    "df_total_views_log = total_log_at(eval_days, views, vids, accumulate=False)"
   ]
  },
  {
   "cell_type": "code",
   "execution_count": 10,
   "metadata": {},
   "outputs": [],
   "source": [
    "def plot_fixed_window(days, df):    \n",
    "    data = [dict() for x in days[1:]]\n",
    "    index = df.index\n",
    "    \n",
    "    for i in index:\n",
    "        for j, d in enumerate(days[1:]):\n",
    "            short_term = \"{:.1f}\".format(df.loc[i, days[0]])\n",
    "#             if short_term == '7.9': print(i)\n",
    "            if short_term not in data[j]:\n",
    "                data[j][short_term]=[]   \n",
    "            data[j][short_term].append(df.loc[i, d])\n",
    "                                     \n",
    "    fig = plt.figure(figsize=(12, 6))\n",
    "    ax = fig.add_subplot(111)\n",
    "    for j in range(len(data)):\n",
    "        xs = [float(x) for x in list(data[j].keys())]\n",
    "        xs.sort()\n",
    "        ys = [np.mean(data[j][str(x)]) for x in xs]\n",
    "        ax.plot(xs, ys)\n",
    "#         if j == 1:\n",
    "#             print(xs[-5:])\n",
    "#             print([data[j][str(x)] for x in xs][-5:])\n",
    "    ax.set_ylabel(\"Long-term average daily views(log)\", color=\"blue\")\n",
    "    ax.set_xlabel(\"Short-term average daily views(log)\", color=\"blue\")    "
   ]
  },
  {
   "cell_type": "code",
   "execution_count": 11,
   "metadata": {},
   "outputs": [
    {
     "data": {
      "image/png": "[encoded data removed]",
      "text/plain": [
       "<Figure size 864x432 with 1 Axes>"
      ]
     },
     "metadata": {
      "needs_background": "light"
     },
     "output_type": "display_data"
    }
   ],
   "source": [
    "plot_fixed_window(eval_days, df_total_views_log)"
   ]
  },
  {
   "cell_type": "code",
   "execution_count": 12,
   "metadata": {},
   "outputs": [
    {
     "data": {
      "text/html": [
       "<div>\n",
       "<style scoped>\n",
       "    .dataframe tbody tr th:only-of-type {\n",
       "        vertical-align: middle;\n",
       "    }\n",
       "\n",
       "    .dataframe tbody tr th {\n",
       "        vertical-align: top;\n",
       "    }\n",
       "\n",
       "    .dataframe thead th {\n",
       "        text-align: right;\n",
       "    }\n",
       "</style>\n",
       "<table border=\"1\" class=\"dataframe\">\n",
       "  <thead>\n",
       "    <tr style=\"text-align: right;\">\n",
       "      <th></th>\n",
       "      <th>90</th>\n",
       "      <th>135</th>\n",
       "      <th>180</th>\n",
       "      <th>225</th>\n",
       "      <th>270</th>\n",
       "    </tr>\n",
       "  </thead>\n",
       "  <tbody>\n",
       "    <tr>\n",
       "      <th>WqBLeWiUiek</th>\n",
       "      <td>67338</td>\n",
       "      <td>3066</td>\n",
       "      <td>2107</td>\n",
       "      <td>2927</td>\n",
       "      <td>2988</td>\n",
       "    </tr>\n",
       "    <tr>\n",
       "      <th>h3ap5dOT8l0</th>\n",
       "      <td>3835</td>\n",
       "      <td>1087</td>\n",
       "      <td>896</td>\n",
       "      <td>762</td>\n",
       "      <td>660</td>\n",
       "    </tr>\n",
       "    <tr>\n",
       "      <th>ejxl8xUYyIU</th>\n",
       "      <td>1243</td>\n",
       "      <td>198</td>\n",
       "      <td>124</td>\n",
       "      <td>133</td>\n",
       "      <td>147</td>\n",
       "    </tr>\n",
       "    <tr>\n",
       "      <th>aIsXGrFkpBo</th>\n",
       "      <td>2196</td>\n",
       "      <td>568</td>\n",
       "      <td>692</td>\n",
       "      <td>419</td>\n",
       "      <td>531</td>\n",
       "    </tr>\n",
       "    <tr>\n",
       "      <th>ppDudShVWP4</th>\n",
       "      <td>20383</td>\n",
       "      <td>2593</td>\n",
       "      <td>2172</td>\n",
       "      <td>1609</td>\n",
       "      <td>753</td>\n",
       "    </tr>\n",
       "  </tbody>\n",
       "</table>\n",
       "</div>"
      ],
      "text/plain": [
       "               90    135   180   225   270\n",
       "WqBLeWiUiek  67338  3066  2107  2927  2988\n",
       "h3ap5dOT8l0   3835  1087   896   762   660\n",
       "ejxl8xUYyIU   1243   198   124   133   147\n",
       "aIsXGrFkpBo   2196   568   692   419   531\n",
       "ppDudShVWP4  20383  2593  2172  1609   753"
      ]
     },
     "execution_count": 12,
     "metadata": {},
     "output_type": "execute_result"
    }
   ],
   "source": [
    "df_total_views.head()"
   ]
  },
  {
   "cell_type": "code",
   "execution_count": 15,
   "metadata": {},
   "outputs": [],
   "source": [
    "# dataset[\"8s_TrrIzA1I\"]"
   ]
  },
  {
   "cell_type": "code",
   "execution_count": null,
   "metadata": {},
   "outputs": [],
   "source": []
  }
 ],
 "metadata": {
  "kernelspec": {
   "display_name": "hip-long",
   "language": "python",
   "name": "hip-long"
  },
  "language_info": {
   "codemirror_mode": {
    "name": "ipython",
    "version": 3
   },
   "file_extension": ".py",
   "mimetype": "text/x-python",
   "name": "python",
   "nbconvert_exporter": "python",
   "pygments_lexer": "ipython3",
   "version": "3.7.3"
  }
 },
 "nbformat": 4,
 "nbformat_minor": 2
}
