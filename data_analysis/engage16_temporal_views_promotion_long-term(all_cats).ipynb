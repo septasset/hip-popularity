{
 "cells": [
  {
   "cell_type": "code",
   "execution_count": 1,
   "metadata": {},
   "outputs": [],
   "source": [
    "from __future__ import print_function, division\n",
    "import os, bz2, json, time, sys, csv\n",
    "from datetime import timedelta, datetime\n",
    "\n",
    "import math\n",
    "import collections\n",
    "import numpy as np\n",
    "import pandas as pd\n",
    "import matplotlib as mpl\n",
    "import scipy.stats as stats\n",
    "\n",
    "from matplotlib import pyplot as plt\n",
    "from tqdm import tqdm\n",
    "\n",
    "from util_read import engage_read, read_vids, engage_tweets_read, merge_engage_tweets, engage_metadata, compute_period_daily"
   ]
  },
  {
   "cell_type": "code",
   "execution_count": 2,
   "metadata": {},
   "outputs": [],
   "source": [
    "file_vids_filter_all = \"/home/users/u6314203/pyProject/hip-popularity/data/engage16/filtered/vids_filter_all.csv\" \n",
    "engage_dataset_base = \"/localdata/u6314203/dataset_engage16/tweeted_videos\" \n",
    "tweets_dataset_base = \"/localdata/u6314203/dataset_tweets_engage/dataset_tweets_fixTZ\"\n",
    "\n",
    "# file_vids_filter_all = \"C:/Users/u6314203/pyProjects/hip-popularity/data/engage16/filtered/vids_filter_all.csv\"\n",
    "# engage_dataset_base = \"G:/MLCV dataset/engagement'16/tweeted_videos\"\n",
    "# tweets_dataset_base = \"G:/MLCV dataset/engagement'16/tweets_dataset_fixTZ\"\n",
    "\n",
    "categories_eligible = [\"autos\", \"comedy\",\"education\",\"entertainment\", \\\n",
    "                       \"film\",\"gaming\",\"howto\",\"music\",\\\n",
    "                       \"news\",\"people\",\"science\",\"sports\",\\\n",
    "                       \"travel\"]"
   ]
  },
  {
   "cell_type": "code",
   "execution_count": 3,
   "metadata": {},
   "outputs": [
    {
     "name": "stdout",
     "output_type": "stream",
     "text": [
      "Vids(filtered) in each category:\n",
      "autos:25712; comedy:31741; education:41191; entertainment:180128; film:43101; gaming:222236; howto:61027; music:118094; news:38249; people:222658; science:32278; sports:39649; travel:13112\n",
      "Engage autos size: 25139\n",
      "Tweets autos size: 25597\n",
      "Merged size: 25030\n",
      "Engage comedy size: 31519\n",
      "Tweets comedy size: 31678\n",
      "Merged size: 31456\n",
      "Engage education size: 40311\n",
      "Tweets education size: 41005\n",
      "Merged size: 40126\n",
      "Engage entertainment size: 177236\n",
      "Tweets entertainment size: 179517\n",
      "Merged size: 176636\n",
      "Engage film size: 42439\n",
      "Tweets film size: 42954\n",
      "Merged size: 42295\n",
      "Engage gaming size: 219709\n",
      "Tweets gaming size: 221470\n",
      "Merged size: 218958\n",
      "Engage howto size: 59965\n",
      "Tweets howto size: 60796\n",
      "Merged size: 59740\n",
      "Engage music size: 116884\n",
      "Tweets music size: 117764\n",
      "Merged size: 116559\n",
      "Engage news size: 37508\n",
      "Tweets news size: 38082\n",
      "Merged size: 37344\n",
      "Engage people size: 220100\n",
      "Tweets people size: 221975\n",
      "Merged size: 219427\n",
      "Engage science size: 31899\n",
      "Tweets science size: 32148\n",
      "Merged size: 31769\n",
      "Engage sports size: 39129\n",
      "Tweets sports size: 39537\n",
      "Merged size: 39020\n",
      "Engage travel size: 12921\n",
      "Tweets travel size: 13043\n",
      "Merged size: 12855\n",
      "Total size: 1051215\n"
     ]
    }
   ],
   "source": [
    "# vids from all category\n",
    "vids_filter_all = read_vids(file_vids_filter_all)\n",
    "\n",
    "merged_dataset = dict()\n",
    "# engage_metadata = dict() \n",
    "for category in categories_eligible[:]:\n",
    "    engage_dataset = engage_read(engage_dataset_base, category)\n",
    "    tweets_dataset = engage_tweets_read(tweets_dataset_base, category)\n",
    "    \n",
    "    curr_merged = merge_engage_tweets(engage_dataset, tweets_dataset)\n",
    "    merged_dataset.update(curr_merged)\n",
    "    \n",
    "print(f\"Total size: {len(merged_dataset)}\")"
   ]
  },
  {
   "cell_type": "code",
   "execution_count": 4,
   "metadata": {},
   "outputs": [
    {
     "name": "stderr",
     "output_type": "stream",
     "text": [
      "/home/users/u6314203/anaconda3/lib/python3.8/site-packages/scipy/stats/stats.py:3845: PearsonRConstantInputWarning: An input array is constant; the correlation coefficent is not defined.\n",
      "  warnings.warn(PearsonRConstantInputWarning())\n"
     ]
    },
    {
     "data": {
      "text/html": [
       "<div>\n",
       "<style scoped>\n",
       "    .dataframe tbody tr th:only-of-type {\n",
       "        vertical-align: middle;\n",
       "    }\n",
       "\n",
       "    .dataframe tbody tr th {\n",
       "        vertical-align: top;\n",
       "    }\n",
       "\n",
       "    .dataframe thead th {\n",
       "        text-align: right;\n",
       "    }\n",
       "</style>\n",
       "<table border=\"1\" class=\"dataframe\">\n",
       "  <thead>\n",
       "    <tr style=\"text-align: right;\">\n",
       "      <th></th>\n",
       "      <th>r</th>\n",
       "      <th>p</th>\n",
       "      <th>daily views</th>\n",
       "      <th>daily tweets</th>\n",
       "    </tr>\n",
       "  </thead>\n",
       "  <tbody>\n",
       "    <tr>\n",
       "      <th>count</th>\n",
       "      <td>360823.000000</td>\n",
       "      <td>3.608230e+05</td>\n",
       "      <td>3.608230e+05</td>\n",
       "      <td>360823.000000</td>\n",
       "    </tr>\n",
       "    <tr>\n",
       "      <th>mean</th>\n",
       "      <td>0.073639</td>\n",
       "      <td>4.177376e-01</td>\n",
       "      <td>6.481652e+02</td>\n",
       "      <td>0.064733</td>\n",
       "    </tr>\n",
       "    <tr>\n",
       "      <th>std</th>\n",
       "      <td>0.138165</td>\n",
       "      <td>3.261082e-01</td>\n",
       "      <td>1.430357e+04</td>\n",
       "      <td>1.455822</td>\n",
       "    </tr>\n",
       "    <tr>\n",
       "      <th>min</th>\n",
       "      <td>-0.523183</td>\n",
       "      <td>4.220111e-319</td>\n",
       "      <td>4.587156e-03</td>\n",
       "      <td>0.004202</td>\n",
       "    </tr>\n",
       "    <tr>\n",
       "      <th>25%</th>\n",
       "      <td>-0.013536</td>\n",
       "      <td>8.644404e-02</td>\n",
       "      <td>1.702906e+01</td>\n",
       "      <td>0.005102</td>\n",
       "    </tr>\n",
       "    <tr>\n",
       "      <th>50%</th>\n",
       "      <td>0.041045</td>\n",
       "      <td>4.019324e-01</td>\n",
       "      <td>6.079621e+01</td>\n",
       "      <td>0.010000</td>\n",
       "    </tr>\n",
       "    <tr>\n",
       "      <th>75%</th>\n",
       "      <td>0.119346</td>\n",
       "      <td>7.081092e-01</td>\n",
       "      <td>2.360737e+02</td>\n",
       "      <td>0.024510</td>\n",
       "    </tr>\n",
       "    <tr>\n",
       "      <th>max</th>\n",
       "      <td>0.999506</td>\n",
       "      <td>1.000000e+00</td>\n",
       "      <td>4.997167e+06</td>\n",
       "      <td>436.808743</td>\n",
       "    </tr>\n",
       "  </tbody>\n",
       "</table>\n",
       "</div>"
      ],
      "text/plain": [
       "                   r              p   daily views   daily tweets\n",
       "count  360823.000000   3.608230e+05  3.608230e+05  360823.000000\n",
       "mean        0.073639   4.177376e-01  6.481652e+02       0.064733\n",
       "std         0.138165   3.261082e-01  1.430357e+04       1.455822\n",
       "min        -0.523183  4.220111e-319  4.587156e-03       0.004202\n",
       "25%        -0.013536   8.644404e-02  1.702906e+01       0.005102\n",
       "50%         0.041045   4.019324e-01  6.079621e+01       0.010000\n",
       "75%         0.119346   7.081092e-01  2.360737e+02       0.024510\n",
       "max         0.999506   1.000000e+00  4.997167e+06     436.808743"
      ]
     },
     "execution_count": 4,
     "metadata": {},
     "output_type": "execute_result"
    }
   ],
   "source": [
    "timepoint = 90\n",
    "pearsonr_vals = []\n",
    "vids = []\n",
    "for k, vals in merged_dataset.items():\n",
    "    series_views = vals[\"viewCounts\"][timepoint:]\n",
    "    series_tweets = vals[\"tweets\"][timepoint:]\n",
    "    r, p = stats.pearsonr(series_views, series_tweets)\n",
    "    pearsonr_vals.append([r,p,np.mean(series_views),np.mean(series_tweets)])\n",
    "    vids.append(k)\n",
    "\n",
    "df_pearsonr = pd.DataFrame(pearsonr_vals, columns=[\"r\", \"p\", \"daily views\", \"daily tweets\"], index=vids)\n",
    "df_pearsonr = df_pearsonr[[not x for x in np.isnan(df_pearsonr[\"r\"])]]\n",
    "pd.DataFrame.describe(df_pearsonr)"
   ]
  },
  {
   "cell_type": "code",
   "execution_count": 5,
   "metadata": {},
   "outputs": [
    {
     "data": {
      "text/plain": [
       "Text(0, 0.5, 'pearson r value')"
      ]
     },
     "execution_count": 5,
     "metadata": {},
     "output_type": "execute_result"
    },
    {
     "data": {
      "image/png": "[encoded data removed]",
      "text/plain": [
       "<Figure size 864x432 with 2 Axes>"
      ]
     },
     "metadata": {
      "needs_background": "light"
     },
     "output_type": "display_data"
    }
   ],
   "source": [
    "fig = plt.figure(figsize=(12, 6))\n",
    "\n",
    "ax = fig.add_subplot(1,2,1)\n",
    "n, bins, patches = ax.hist(df_pearsonr[\"r\"], bins=20)\n",
    "ax.set_title(f\"Distribution of pearsonr results\")\n",
    "ax.set_xlabel(\"pearson r value\")\n",
    "ax.set_ylabel(\"Number of videos\")\n",
    "\n",
    "ax = fig.add_subplot(1,2,2)\n",
    "ax.scatter(df_pearsonr[\"p\"], df_pearsonr[\"r\"])\n",
    "ax.set_xlabel(\"pearson p value\")\n",
    "ax.set_ylabel(\"pearson r value\")"
   ]
  },
  {
   "cell_type": "code",
   "execution_count": 6,
   "metadata": {},
   "outputs": [
    {
     "data": {
      "text/html": [
       "<div>\n",
       "<style scoped>\n",
       "    .dataframe tbody tr th:only-of-type {\n",
       "        vertical-align: middle;\n",
       "    }\n",
       "\n",
       "    .dataframe tbody tr th {\n",
       "        vertical-align: top;\n",
       "    }\n",
       "\n",
       "    .dataframe thead th {\n",
       "        text-align: right;\n",
       "    }\n",
       "</style>\n",
       "<table border=\"1\" class=\"dataframe\">\n",
       "  <thead>\n",
       "    <tr style=\"text-align: right;\">\n",
       "      <th></th>\n",
       "      <th>r</th>\n",
       "      <th>p</th>\n",
       "      <th>daily views</th>\n",
       "      <th>daily tweets</th>\n",
       "    </tr>\n",
       "  </thead>\n",
       "  <tbody>\n",
       "    <tr>\n",
       "      <th>count</th>\n",
       "      <td>76381.000000</td>\n",
       "      <td>7.638100e+04</td>\n",
       "      <td>7.638100e+04</td>\n",
       "      <td>76381.000000</td>\n",
       "    </tr>\n",
       "    <tr>\n",
       "      <th>mean</th>\n",
       "      <td>0.273429</td>\n",
       "      <td>9.702578e-03</td>\n",
       "      <td>1.499468e+03</td>\n",
       "      <td>0.173588</td>\n",
       "    </tr>\n",
       "    <tr>\n",
       "      <th>std</th>\n",
       "      <td>0.162700</td>\n",
       "      <td>1.378711e-02</td>\n",
       "      <td>3.038086e+04</td>\n",
       "      <td>2.865963</td>\n",
       "    </tr>\n",
       "    <tr>\n",
       "      <th>min</th>\n",
       "      <td>-0.523183</td>\n",
       "      <td>4.220111e-319</td>\n",
       "      <td>1.424084e+00</td>\n",
       "      <td>0.004202</td>\n",
       "    </tr>\n",
       "    <tr>\n",
       "      <th>25%</th>\n",
       "      <td>0.169993</td>\n",
       "      <td>3.668750e-06</td>\n",
       "      <td>2.177830e+01</td>\n",
       "      <td>0.009009</td>\n",
       "    </tr>\n",
       "    <tr>\n",
       "      <th>50%</th>\n",
       "      <td>0.219009</td>\n",
       "      <td>1.741270e-03</td>\n",
       "      <td>1.013661e+02</td>\n",
       "      <td>0.021390</td>\n",
       "    </tr>\n",
       "    <tr>\n",
       "      <th>75%</th>\n",
       "      <td>0.320137</td>\n",
       "      <td>1.574019e-02</td>\n",
       "      <td>4.966524e+02</td>\n",
       "      <td>0.072222</td>\n",
       "    </tr>\n",
       "    <tr>\n",
       "      <th>max</th>\n",
       "      <td>0.999506</td>\n",
       "      <td>4.999592e-02</td>\n",
       "      <td>4.997167e+06</td>\n",
       "      <td>436.808743</td>\n",
       "    </tr>\n",
       "  </tbody>\n",
       "</table>\n",
       "</div>"
      ],
      "text/plain": [
       "                  r              p   daily views  daily tweets\n",
       "count  76381.000000   7.638100e+04  7.638100e+04  76381.000000\n",
       "mean       0.273429   9.702578e-03  1.499468e+03      0.173588\n",
       "std        0.162700   1.378711e-02  3.038086e+04      2.865963\n",
       "min       -0.523183  4.220111e-319  1.424084e+00      0.004202\n",
       "25%        0.169993   3.668750e-06  2.177830e+01      0.009009\n",
       "50%        0.219009   1.741270e-03  1.013661e+02      0.021390\n",
       "75%        0.320137   1.574019e-02  4.966524e+02      0.072222\n",
       "max        0.999506   4.999592e-02  4.997167e+06    436.808743"
      ]
     },
     "execution_count": 6,
     "metadata": {},
     "output_type": "execute_result"
    }
   ],
   "source": [
    "df_filter = df_pearsonr[df_pearsonr[\"p\"]<=0.05]\n",
    "\n",
    "pd.DataFrame.describe(df_filter)"
   ]
  },
  {
   "cell_type": "code",
   "execution_count": 7,
   "metadata": {},
   "outputs": [
    {
     "data": {
      "text/plain": [
       "Text(0, 0.5, 'pearson r value')"
      ]
     },
     "execution_count": 7,
     "metadata": {},
     "output_type": "execute_result"
    },
    {
     "data": {
      "image/png": "[encoded data removed]",
      "text/plain": [
       "<Figure size 864x432 with 2 Axes>"
      ]
     },
     "metadata": {
      "needs_background": "light"
     },
     "output_type": "display_data"
    }
   ],
   "source": [
    "fig = plt.figure(figsize=(12, 6))\n",
    "\n",
    "ax = fig.add_subplot(1,2,1)\n",
    "n, bins, patches = ax.hist(df_filter[\"r\"], bins=20)\n",
    "ax.set_title(f\"Distribution of pearsonr results(p<=0.05)\")\n",
    "ax.set_xlabel(\"pearson r value\")\n",
    "ax.set_ylabel(\"Number of videos\")\n",
    "\n",
    "ax = fig.add_subplot(1,2,2)\n",
    "ax.scatter(df_filter[\"p\"], df_filter[\"r\"])\n",
    "# ax.set_title(f\"Distribution of pearsonr results: comedy\")\n",
    "ax.set_xlabel(\"pearson p value\")\n",
    "ax.set_ylabel(\"pearson r value\")"
   ]
  },
  {
   "cell_type": "code",
   "execution_count": 8,
   "metadata": {},
   "outputs": [
    {
     "data": {
      "image/png": "[encoded data removed]",
      "text/plain": [
       "<Figure size 576x432 with 1 Axes>"
      ]
     },
     "metadata": {
      "needs_background": "light"
     },
     "output_type": "display_data"
    }
   ],
   "source": [
    "pd1 = df_pearsonr.sort_values(by=['daily views'])\n",
    "edges = np.linspace(0, len(pd1.index), num=21)\n",
    "pd1_bins = [pd1.iloc[int(edges[x]):int(edges[x+1]),:][\"r\"] for x in range(len(edges)-1)]\n",
    "\n",
    "fig = plt.figure(figsize=(8, 6))\n",
    "ax = fig.add_subplot(1,1,1)\n",
    "ax.bar(list(range(20)), [np.mean(x) for x in pd1_bins])\n",
    "ax.set_xticks(np.array([0, 1, 2, 4, 8, 12, 16, 20])-0.5)\n",
    "ax.set_xticklabels([\"0%\", \"5%\", \"10%\", \"20%\", \"40%\", \"60%\", \"80%\", \"100%\"])\n",
    "ax.set_xlabel(\"Popularity percentile\")\n",
    "ax.set_ylabel(\"Averaged r value\")\n",
    "pass"
   ]
  },
  {
   "cell_type": "code",
   "execution_count": 9,
   "metadata": {},
   "outputs": [
    {
     "data": {
      "image/png": "[encoded data removed]",
      "text/plain": [
       "<Figure size 576x432 with 1 Axes>"
      ]
     },
     "metadata": {
      "needs_background": "light"
     },
     "output_type": "display_data"
    }
   ],
   "source": [
    "pd2 = df_pearsonr.sort_values(by=['daily tweets'])\n",
    "edges = np.linspace(0, len(pd2.index), num=21)\n",
    "pd2_bins = [pd2.iloc[int(edges[x]):int(edges[x+1]),:][\"r\"] for x in range(len(edges)-1)]\n",
    "\n",
    "fig = plt.figure(figsize=(8, 6))\n",
    "ax = fig.add_subplot(1,1,1)\n",
    "ax.bar(list(range(20)), [np.mean(x) for x in pd2_bins])\n",
    "ax.set_xticks(np.array([0, 1, 2, 4, 8, 12, 16, 20])-0.5)\n",
    "ax.set_xticklabels([\"0%\", \"5%\", \"10%\", \"20%\", \"40%\", \"60%\", \"80%\", \"100%\"])\n",
    "ax.set_xlabel(\"Promotion percentile\")\n",
    "ax.set_ylabel(\"Averaged r value\")\n",
    "pass"
   ]
  },
  {
   "cell_type": "code",
   "execution_count": null,
   "metadata": {},
   "outputs": [],
   "source": []
  }
 ],
 "metadata": {
  "kernelspec": {
   "display_name": "hip-long",
   "language": "python",
   "name": "hip-long"
  },
  "language_info": {
   "codemirror_mode": {
    "name": "ipython",
    "version": 3
   },
   "file_extension": ".py",
   "mimetype": "text/x-python",
   "name": "python",
   "nbconvert_exporter": "python",
   "pygments_lexer": "ipython3",
   "version": "3.8.5"
  }
 },
 "nbformat": 4,
 "nbformat_minor": 2
}
