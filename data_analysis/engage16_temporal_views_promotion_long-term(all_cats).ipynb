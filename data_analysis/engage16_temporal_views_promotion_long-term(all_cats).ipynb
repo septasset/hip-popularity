{
 "cells": [
  {
   "cell_type": "code",
   "execution_count": null,
   "metadata": {},
   "outputs": [],
   "source": [
    "from __future__ import print_function, division\n",
    "import os, bz2, json, time, sys, csv\n",
    "from datetime import timedelta, datetime\n",
    "\n",
    "import math\n",
    "import collections\n",
    "import numpy as np\n",
    "import pandas as pd\n",
    "import matplotlib as mpl\n",
    "import scipy.stats as stats\n",
    "\n",
    "from matplotlib import pyplot as plt\n",
    "from tqdm import tqdm\n",
    "\n",
    "from util_read import engage_read, read_vids, engage_tweets_read, merge_engage_tweets, engage_metadata, compute_period_daily"
   ]
  },
  {
   "cell_type": "code",
   "execution_count": null,
   "metadata": {},
   "outputs": [],
   "source": [
    "# file_vids_filter_all = \"/home/users/u6314203/pyProject/hip-popularity/data/engage16/filtered/vids_filter_all.csv\" \n",
    "# engage_dataset_base = \"/localdata/u6314203/dataset_engage16/tweeted_videos\" \n",
    "# tweets_dataset_base = \"/localdata/u6314203/dataset_tweets_engage/dataset_tweets_fixTZ\"\n",
    "\n",
    "file_vids_filter_all = \"C:/Users/u6314203/pyProjects/hip-popularity/data/engage16/filtered/vids_filter_all.csv\"\n",
    "engage_dataset_base = \"G:/MLCV dataset/engagement'16/tweeted_videos\"\n",
    "tweets_dataset_base = \"G:/MLCV dataset/engagement'16/tweets_dataset_fixTZ\"\n",
    "\n",
    "categories_eligible = [\"autos\", \"comedy\",\"education\",\"entertainment\", \\\n",
    "                       \"film\",\"gaming\",\"howto\",\"music\",\\\n",
    "                       \"news\",\"people\",\"science\",\"sports\",\\\n",
    "                       \"travel\"]"
   ]
  },
  {
   "cell_type": "code",
   "execution_count": null,
   "metadata": {},
   "outputs": [],
   "source": [
    "# vids from all category\n",
    "vids_filter_all = read_vids(file_vids_filter_all)\n",
    "\n",
    "merged_dataset = dict()\n",
    "# engage_metadata = dict() \n",
    "for category in categories_eligible[:]:\n",
    "    engage_dataset = engage_read(engage_dataset_base, category)\n",
    "    tweets_dataset = engage_tweets_read(tweets_dataset_base, category)\n",
    "    \n",
    "    curr_merged = merge_engage_tweets(engage_dataset, tweets_dataset)\n",
    "    merged_dataset.update(curr_merged)\n",
    "    \n",
    "print(f\"Total size: {len(merged_dataset)}\")"
   ]
  },
  {
   "cell_type": "code",
   "execution_count": null,
   "metadata": {},
   "outputs": [],
   "source": [
    "timepoint = 90\n",
    "pearsonr_vals = []\n",
    "vids = []\n",
    "for k, vals in merged_dataset.items():\n",
    "    series_views = vals[\"viewCounts\"][timepoint:]\n",
    "    series_tweets = vals[\"tweets\"][timepoint:]\n",
    "    r, p = stats.pearsonr(series_views, series_tweets)\n",
    "    pearsonr_vals.append([r,p])\n",
    "    vids.append(k)\n",
    "\n",
    "df_pearsonr = pd.DataFrame(pearsonr_vals, columns=[\"r\", \"p\"], index=vids)\n",
    "df_pearsonr = df_pearsonr[[not x for x in np.isnan(df_pearsonr[\"r\"])]]\n",
    "pd.DataFrame.describe(df_pearsonr)"
   ]
  },
  {
   "cell_type": "code",
   "execution_count": null,
   "metadata": {},
   "outputs": [],
   "source": [
    "fig = plt.figure(figsize=(12, 6))\n",
    "\n",
    "ax = fig.add_subplot(1,2,1)\n",
    "n, bins, patches = ax.hist(df_pearsonr[\"r\"], bins=20)\n",
    "ax.set_title(f\"Distribution of pearsonr results: comedy\")\n",
    "ax.set_xlabel(\"pearsonr r value\")\n",
    "ax.set_ylabel(\"Number of videos\")\n",
    "\n",
    "ax = fig.add_subplot(1,2,2)\n",
    "ax.scatter(df_pearsonr[\"p\"], df_pearsonr[\"r\"])\n",
    "# ax.set_title(f\"Distribution of pearsonr results: comedy\")\n",
    "ax.set_xlabel(\"pearsonr p value\")\n",
    "ax.set_ylabel(\"pearsonr r value\")"
   ]
  },
  {
   "cell_type": "code",
   "execution_count": null,
   "metadata": {},
   "outputs": [],
   "source": [
    "df_filter = df_pearsonr[df_pearsonr[\"p\"]<=0.05]\n",
    "\n",
    "pd.DataFrame.describe(df_filter)"
   ]
  },
  {
   "cell_type": "code",
   "execution_count": null,
   "metadata": {},
   "outputs": [],
   "source": [
    "fig = plt.figure(figsize=(12, 6))\n",
    "\n",
    "ax = fig.add_subplot(1,2,1)\n",
    "n, bins, patches = ax.hist(df_filter[\"r\"], bins=20)\n",
    "ax.set_title(f\"Distribution of pearsonr results(p<=0.05): comedy\")\n",
    "ax.set_xlabel(\"pearsonr r value\")\n",
    "ax.set_ylabel(\"Number of videos\")\n",
    "\n",
    "ax = fig.add_subplot(1,2,2)\n",
    "ax.scatter(df_filter[\"p\"], df_filter[\"r\"])\n",
    "# ax.set_title(f\"Distribution of pearsonr results: comedy\")\n",
    "ax.set_xlabel(\"pearsonr p value\")\n",
    "ax.set_ylabel(\"pearsonr r value\")"
   ]
  },
  {
   "cell_type": "code",
   "execution_count": null,
   "metadata": {},
   "outputs": [],
   "source": []
  }
 ],
 "metadata": {
  "kernelspec": {
   "display_name": "hip-long",
   "language": "python",
   "name": "hip-long"
  },
  "language_info": {
   "codemirror_mode": {
    "name": "ipython",
    "version": 3
   },
   "file_extension": ".py",
   "mimetype": "text/x-python",
   "name": "python",
   "nbconvert_exporter": "python",
   "pygments_lexer": "ipython3",
   "version": "3.7.3"
  }
 },
 "nbformat": 4,
 "nbformat_minor": 2
}
