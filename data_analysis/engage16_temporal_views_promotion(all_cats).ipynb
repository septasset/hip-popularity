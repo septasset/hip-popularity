{
 "cells": [
  {
   "cell_type": "code",
   "execution_count": 1,
   "metadata": {},
   "outputs": [],
   "source": [
    "from __future__ import print_function, division\n",
    "import os, bz2, json, time, sys, csv\n",
    "from datetime import timedelta, datetime\n",
    "\n",
    "import math\n",
    "import collections\n",
    "import numpy as np\n",
    "import pandas as pd\n",
    "import matplotlib as mpl\n",
    "import scipy.stats as stats\n",
    "\n",
    "from matplotlib import pyplot as plt\n",
    "from tqdm import tqdm\n",
    "\n",
    "from util_read import engage_read, read_vids, engage_tweets_read, merge_engage_tweets, engage_metadata, compute_period_daily"
   ]
  },
  {
   "cell_type": "code",
   "execution_count": 2,
   "metadata": {},
   "outputs": [],
   "source": [
    "file_vids_filter_all = \"/home/users/u6314203/pyProject/hip-popularity/data/engage16/filtered/vids_filter_all.csv\" \n",
    "engage_dataset_base = \"/localdata/u6314203/dataset_engage16/tweeted_videos\" \n",
    "tweets_dataset_base = \"/localdata/u6314203/dataset_tweets_engage/dataset_tweets_fixTZ\"\n",
    "\n",
    "# file_vids_filter_all = \"C:/Users/u6314203/pyProjects/hip-popularity/data/engage16/filtered/vids_filter_all.csv\"\n",
    "# engage_dataset_base = \"G:/MLCV dataset/engagement'16/tweeted_videos\"\n",
    "# tweets_dataset_base = \"G:/MLCV dataset/engagement'16/tweets_dataset_fixTZ\"\n",
    "\n",
    "categories_eligible = [\"autos\", \"comedy\",\"education\",\"entertainment\", \\\n",
    "                       \"film\",\"gaming\",\"howto\",\"music\",\\\n",
    "                       \"news\",\"people\",\"science\",\"sports\",\\\n",
    "                       \"travel\"]"
   ]
  },
  {
   "cell_type": "code",
   "execution_count": 3,
   "metadata": {},
   "outputs": [
    {
     "name": "stdout",
     "output_type": "stream",
     "text": [
      "Vids(filtered) in each category:\n",
      "autos:25712; comedy:31741; education:41191; entertainment:180128; film:43101; gaming:222236; howto:61027; music:118094; news:38249; people:222658; science:32278; sports:39649; travel:13112\n",
      "Engage autos size: 25139\n",
      "Tweets autos size: 25597\n",
      "Merged size: 25030\n",
      "Engage comedy size: 31519\n",
      "Tweets comedy size: 31678\n",
      "Merged size: 31456\n",
      "Engage education size: 40311\n",
      "Tweets education size: 41005\n",
      "Merged size: 40126\n",
      "Engage entertainment size: 177236\n",
      "Tweets entertainment size: 179517\n",
      "Merged size: 176636\n",
      "Engage film size: 42439\n",
      "Tweets film size: 42954\n",
      "Merged size: 42295\n",
      "Engage gaming size: 219709\n",
      "Tweets gaming size: 221470\n",
      "Merged size: 218958\n",
      "Engage howto size: 59965\n",
      "Tweets howto size: 60796\n",
      "Merged size: 59740\n",
      "Engage music size: 116884\n",
      "Tweets music size: 117764\n",
      "Merged size: 116559\n",
      "Engage news size: 37508\n",
      "Tweets news size: 38082\n",
      "Merged size: 37344\n",
      "Engage people size: 220100\n",
      "Tweets people size: 221975\n",
      "Merged size: 219427\n",
      "Engage science size: 31899\n",
      "Tweets science size: 32148\n",
      "Merged size: 31769\n",
      "Engage sports size: 39129\n",
      "Tweets sports size: 39537\n",
      "Merged size: 39020\n",
      "Engage travel size: 12921\n",
      "Tweets travel size: 13043\n",
      "Merged size: 12855\n",
      "Total size: 1051215\n"
     ]
    }
   ],
   "source": [
    "# vids from all category\n",
    "vids_filter_all = read_vids(file_vids_filter_all)\n",
    "\n",
    "merged_dataset = dict()\n",
    "# engage_metadata = dict() \n",
    "for category in categories_eligible[:]:\n",
    "    engage_dataset = engage_read(engage_dataset_base, category)\n",
    "    tweets_dataset = engage_tweets_read(tweets_dataset_base, category)\n",
    "    \n",
    "    curr_merged = merge_engage_tweets(engage_dataset, tweets_dataset)\n",
    "    merged_dataset.update(curr_merged)\n",
    "    \n",
    "print(f\"Total size: {len(merged_dataset)}\")"
   ]
  },
  {
   "cell_type": "code",
   "execution_count": 4,
   "metadata": {},
   "outputs": [
    {
     "name": "stderr",
     "output_type": "stream",
     "text": [
      "/home/users/u6314203/anaconda3/lib/python3.8/site-packages/scipy/stats/stats.py:3845: PearsonRConstantInputWarning: An input array is constant; the correlation coefficent is not defined.\n",
      "  warnings.warn(PearsonRConstantInputWarning())\n"
     ]
    },
    {
     "data": {
      "text/html": [
       "<div>\n",
       "<style scoped>\n",
       "    .dataframe tbody tr th:only-of-type {\n",
       "        vertical-align: middle;\n",
       "    }\n",
       "\n",
       "    .dataframe tbody tr th {\n",
       "        vertical-align: top;\n",
       "    }\n",
       "\n",
       "    .dataframe thead th {\n",
       "        text-align: right;\n",
       "    }\n",
       "</style>\n",
       "<table border=\"1\" class=\"dataframe\">\n",
       "  <thead>\n",
       "    <tr style=\"text-align: right;\">\n",
       "      <th></th>\n",
       "      <th>r</th>\n",
       "      <th>p</th>\n",
       "    </tr>\n",
       "  </thead>\n",
       "  <tbody>\n",
       "    <tr>\n",
       "      <th>count</th>\n",
       "      <td>1.050324e+06</td>\n",
       "      <td>1.050324e+06</td>\n",
       "    </tr>\n",
       "    <tr>\n",
       "      <th>mean</th>\n",
       "      <td>4.976815e-01</td>\n",
       "      <td>9.430820e-02</td>\n",
       "    </tr>\n",
       "    <tr>\n",
       "      <th>std</th>\n",
       "      <td>3.458273e-01</td>\n",
       "      <td>2.278837e-01</td>\n",
       "    </tr>\n",
       "    <tr>\n",
       "      <th>min</th>\n",
       "      <td>-7.229763e-01</td>\n",
       "      <td>0.000000e+00</td>\n",
       "    </tr>\n",
       "    <tr>\n",
       "      <th>25%</th>\n",
       "      <td>1.661497e-01</td>\n",
       "      <td>5.087910e-77</td>\n",
       "    </tr>\n",
       "    <tr>\n",
       "      <th>50%</th>\n",
       "      <td>5.192150e-01</td>\n",
       "      <td>2.281484e-21</td>\n",
       "    </tr>\n",
       "    <tr>\n",
       "      <th>75%</th>\n",
       "      <td>8.363860e-01</td>\n",
       "      <td>4.400941e-03</td>\n",
       "    </tr>\n",
       "    <tr>\n",
       "      <th>max</th>\n",
       "      <td>9.999977e-01</td>\n",
       "      <td>1.000000e+00</td>\n",
       "    </tr>\n",
       "  </tbody>\n",
       "</table>\n",
       "</div>"
      ],
      "text/plain": [
       "                  r             p\n",
       "count  1.050324e+06  1.050324e+06\n",
       "mean   4.976815e-01  9.430820e-02\n",
       "std    3.458273e-01  2.278837e-01\n",
       "min   -7.229763e-01  0.000000e+00\n",
       "25%    1.661497e-01  5.087910e-77\n",
       "50%    5.192150e-01  2.281484e-21\n",
       "75%    8.363860e-01  4.400941e-03\n",
       "max    9.999977e-01  1.000000e+00"
      ]
     },
     "execution_count": 4,
     "metadata": {},
     "output_type": "execute_result"
    }
   ],
   "source": [
    "timepoint = 90\n",
    "pearsonr_vals = []\n",
    "vids = []\n",
    "for k, vals in merged_dataset.items():\n",
    "    series_views = vals[\"viewCounts\"][:]\n",
    "    series_tweets = vals[\"tweets\"][:]\n",
    "    r, p = stats.pearsonr(series_views, series_tweets)\n",
    "    pearsonr_vals.append([r,p])\n",
    "    vids.append(k)\n",
    "\n",
    "df_pearsonr = pd.DataFrame(pearsonr_vals, columns=[\"r\", \"p\"], index=vids)\n",
    "df_pearsonr = df_pearsonr[[not x for x in np.isnan(df_pearsonr[\"r\"])]]\n",
    "pd.DataFrame.describe(df_pearsonr)"
   ]
  },
  {
   "cell_type": "code",
   "execution_count": 5,
   "metadata": {},
   "outputs": [
    {
     "data": {
      "text/plain": [
       "Text(0, 0.5, 'pearsonr r value')"
      ]
     },
     "execution_count": 5,
     "metadata": {},
     "output_type": "execute_result"
    },
    {
     "data": {
      "image/png": "[encoded data removed]",
      "text/plain": [
       "<Figure size 864x432 with 2 Axes>"
      ]
     },
     "metadata": {
      "needs_background": "light"
     },
     "output_type": "display_data"
    }
   ],
   "source": [
    "fig = plt.figure(figsize=(12, 6))\n",
    "\n",
    "ax = fig.add_subplot(1,2,1)\n",
    "n, bins, patches = ax.hist(df_pearsonr[\"r\"], bins=20)\n",
    "ax.set_title(f\"Distribution of pearsonr results\")\n",
    "ax.set_xlabel(\"pearsonr r value\")\n",
    "ax.set_ylabel(\"Number of videos\")\n",
    "\n",
    "ax = fig.add_subplot(1,2,2)\n",
    "ax.scatter(df_pearsonr[\"p\"], df_pearsonr[\"r\"])\n",
    "# ax.set_title(f\"Distribution of pearsonr results: comedy\")\n",
    "ax.set_xlabel(\"pearsonr p value\")\n",
    "ax.set_ylabel(\"pearsonr r value\")"
   ]
  },
  {
   "cell_type": "code",
   "execution_count": 6,
   "metadata": {},
   "outputs": [
    {
     "data": {
      "text/html": [
       "<div>\n",
       "<style scoped>\n",
       "    .dataframe tbody tr th:only-of-type {\n",
       "        vertical-align: middle;\n",
       "    }\n",
       "\n",
       "    .dataframe tbody tr th {\n",
       "        vertical-align: top;\n",
       "    }\n",
       "\n",
       "    .dataframe thead th {\n",
       "        text-align: right;\n",
       "    }\n",
       "</style>\n",
       "<table border=\"1\" class=\"dataframe\">\n",
       "  <thead>\n",
       "    <tr style=\"text-align: right;\">\n",
       "      <th></th>\n",
       "      <th>r</th>\n",
       "      <th>p</th>\n",
       "    </tr>\n",
       "  </thead>\n",
       "  <tbody>\n",
       "    <tr>\n",
       "      <th>count</th>\n",
       "      <td>841892.000000</td>\n",
       "      <td>8.418920e+05</td>\n",
       "    </tr>\n",
       "    <tr>\n",
       "      <th>mean</th>\n",
       "      <td>0.615059</td>\n",
       "      <td>1.410219e-03</td>\n",
       "    </tr>\n",
       "    <tr>\n",
       "      <th>std</th>\n",
       "      <td>0.281150</td>\n",
       "      <td>6.055092e-03</td>\n",
       "    </tr>\n",
       "    <tr>\n",
       "      <th>min</th>\n",
       "      <td>-0.722976</td>\n",
       "      <td>0.000000e+00</td>\n",
       "    </tr>\n",
       "    <tr>\n",
       "      <th>25%</th>\n",
       "      <td>0.363985</td>\n",
       "      <td>3.594948e-94</td>\n",
       "    </tr>\n",
       "    <tr>\n",
       "      <th>50%</th>\n",
       "      <td>0.660321</td>\n",
       "      <td>1.262581e-37</td>\n",
       "    </tr>\n",
       "    <tr>\n",
       "      <th>75%</th>\n",
       "      <td>0.878453</td>\n",
       "      <td>1.724794e-10</td>\n",
       "    </tr>\n",
       "    <tr>\n",
       "      <th>max</th>\n",
       "      <td>0.999998</td>\n",
       "      <td>4.999971e-02</td>\n",
       "    </tr>\n",
       "  </tbody>\n",
       "</table>\n",
       "</div>"
      ],
      "text/plain": [
       "                   r             p\n",
       "count  841892.000000  8.418920e+05\n",
       "mean        0.615059  1.410219e-03\n",
       "std         0.281150  6.055092e-03\n",
       "min        -0.722976  0.000000e+00\n",
       "25%         0.363985  3.594948e-94\n",
       "50%         0.660321  1.262581e-37\n",
       "75%         0.878453  1.724794e-10\n",
       "max         0.999998  4.999971e-02"
      ]
     },
     "execution_count": 6,
     "metadata": {},
     "output_type": "execute_result"
    }
   ],
   "source": [
    "df_filter = df_pearsonr[df_pearsonr[\"p\"]<=0.05]\n",
    "\n",
    "pd.DataFrame.describe(df_filter)"
   ]
  },
  {
   "cell_type": "code",
   "execution_count": 7,
   "metadata": {},
   "outputs": [
    {
     "data": {
      "text/plain": [
       "Text(0, 0.5, 'pearsonr r value')"
      ]
     },
     "execution_count": 7,
     "metadata": {},
     "output_type": "execute_result"
    },
    {
     "data": {
      "image/png": "[encoded data removed]",
      "text/plain": [
       "<Figure size 864x432 with 2 Axes>"
      ]
     },
     "metadata": {
      "needs_background": "light"
     },
     "output_type": "display_data"
    }
   ],
   "source": [
    "fig = plt.figure(figsize=(12, 6))\n",
    "\n",
    "ax = fig.add_subplot(1,2,1)\n",
    "n, bins, patches = ax.hist(df_filter[\"r\"], bins=20)\n",
    "ax.set_title(f\"Distribution of pearsonr results(p<=0.05)\")\n",
    "ax.set_xlabel(\"pearsonr r value\")\n",
    "ax.set_ylabel(\"Number of videos\")\n",
    "\n",
    "ax = fig.add_subplot(1,2,2)\n",
    "ax.scatter(df_filter[\"p\"], df_filter[\"r\"])\n",
    "# ax.set_title(f\"Distribution of pearsonr results: comedy\")\n",
    "ax.set_xlabel(\"pearsonr p value\")\n",
    "ax.set_ylabel(\"pearsonr r value\")"
   ]
  },
  {
   "cell_type": "code",
   "execution_count": null,
   "metadata": {},
   "outputs": [],
   "source": []
  }
 ],
 "metadata": {
  "kernelspec": {
   "display_name": "hip-long",
   "language": "python",
   "name": "hip-long"
  },
  "language_info": {
   "codemirror_mode": {
    "name": "ipython",
    "version": 3
   },
   "file_extension": ".py",
   "mimetype": "text/x-python",
   "name": "python",
   "nbconvert_exporter": "python",
   "pygments_lexer": "ipython3",
   "version": "3.8.5"
  }
 },
 "nbformat": 4,
 "nbformat_minor": 2
}
