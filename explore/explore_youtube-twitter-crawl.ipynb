{
 "cells": [
  {
   "cell_type": "code",
   "execution_count": 1,
   "metadata": {},
   "outputs": [],
   "source": [
    "import bz2, os, json\n",
    "\n",
    "crawl_path = \"/data2/proj/youtube-twitter-crawl/bz2-files_2015/\""
   ]
  },
  {
   "cell_type": "code",
   "execution_count": 2,
   "metadata": {},
   "outputs": [],
   "source": [
    "file = bz2.BZ2File(os.path.join(crawl_path, \"2019-07-31.bz2\"))"
   ]
  },
  {
   "cell_type": "code",
   "execution_count": 3,
   "metadata": {},
   "outputs": [
    {
     "name": "stdout",
     "output_type": "stream",
     "text": [
      "829585\n"
     ]
    }
   ],
   "source": [
    "file_lines = file.readlines()\n",
    "print(len(file_lines)) #829564"
   ]
  },
  {
   "cell_type": "code",
   "execution_count": 4,
   "metadata": {},
   "outputs": [
    {
     "name": "stdout",
     "output_type": "stream",
     "text": [
      "dict_keys(['created_at', 'id', 'id_str', 'text', 'source', 'truncated', 'in_reply_to_status_id', 'in_reply_to_status_id_str', 'in_reply_to_user_id', 'in_reply_to_user_id_str', 'in_reply_to_screen_name', 'user', 'geo', 'coordinates', 'place', 'contributors', 'retweeted_status', 'is_quote_status', 'quote_count', 'reply_count', 'retweet_count', 'favorite_count', 'entities', 'favorited', 'retweeted', 'filter_level', 'lang', 'timestamp_ms'])\n"
     ]
    }
   ],
   "source": [
    "record = None\n",
    "for line in file_lines:\n",
    "    record = json.loads(line)\n",
    "    break\n",
    "print(record.keys())"
   ]
  },
  {
   "cell_type": "code",
   "execution_count": 14,
   "metadata": {},
   "outputs": [
    {
     "name": "stdout",
     "output_type": "stream",
     "text": [
      "id: 1156202744794906625\n",
      "entities: {'hashtags': [], 'urls': [], 'user_mentions': [{'screen_name': 'yousuck2020', 'name': 'Yusaku Maezawa (MZ) 前澤友作', 'id': 137857547, 'id_str': '137857547', 'indices': [3, 15]}], 'symbols': []}\n",
      "reply_count: 0\n",
      "retweet_count: 0\n",
      "favorite_count: 0\n",
      "retweeted: False\n",
      "\n",
      "id: 1156202744740548610\n",
      "entities: {'hashtags': [{'text': 'DragonQuest', 'indices': [71, 83]}], 'urls': [], 'user_mentions': [{'screen_name': 'NintendoVS', 'name': 'Nintendo Versus', 'id': 870368466359812096, 'id_str': '870368466359812096', 'indices': [3, 14]}], 'symbols': []}\n",
      "reply_count: 0\n",
      "retweet_count: 0\n",
      "favorite_count: 0\n",
      "retweeted: False\n",
      "\n",
      "id: 1156202744581185536\n",
      "entities: {'hashtags': [], 'urls': [], 'user_mentions': [{'screen_name': 'JanaSenaParty', 'name': 'JanaSena Party', 'id': 783535484316319744, 'id_str': '783535484316319744', 'indices': [3, 17]}, {'screen_name': 'PawanKalyan', 'name': 'Pawan Kalyan', 'id': 2719753171, 'id_str': '2719753171', 'indices': [34, 46]}], 'symbols': []}\n",
      "reply_count: 0\n",
      "retweet_count: 0\n",
      "favorite_count: 0\n",
      "retweeted: False\n",
      "\n",
      "id: 1156202744887369729\n",
      "entities: {'hashtags': [], 'urls': [{'url': 'https://t.co/JBqOR2BY6X', 'expanded_url': 'https://youtu.be/Ji5ZlERZJp0', 'display_url': 'youtu.be/Ji5ZlERZJp0', 'indices': [84, 107]}], 'user_mentions': [{'screen_name': 'serbia_forever', 'name': 'адв.Владимир Ђукановић', 'id': 899603835425091588, 'id_str': '899603835425091588', 'indices': [3, 18]}], 'symbols': []}\n",
      "reply_count: 0\n",
      "retweet_count: 0\n",
      "favorite_count: 0\n",
      "retweeted: False\n",
      "\n",
      "id: 1156202744832757760\n",
      "entities: {'hashtags': [], 'urls': [{'url': 'https://t.co/kzV6Vj3dfZ', 'expanded_url': 'https://youtu.be/ZJ-Q3P21QNo', 'display_url': 'youtu.be/ZJ-Q3P21QNo', 'indices': [44, 67]}], 'user_mentions': [{'screen_name': 'flippter', 'name': 'Flipps', 'id': 111044864, 'id_str': '111044864', 'indices': [3, 12]}, {'screen_name': 'colorsxstudios', 'name': 'COLORS', 'id': 776814192015867904, 'id_str': '776814192015867904', 'indices': [71, 86]}, {'screen_name': 'Willy_Will___', 'name': 'WillyWill', 'id': 2663027612, 'id_str': '2663027612', 'indices': [96, 110]}], 'symbols': []}\n",
      "reply_count: 0\n",
      "retweet_count: 0\n",
      "favorite_count: 0\n",
      "retweeted: False\n",
      "\n",
      "id: 1156202744958595072\n",
      "entities: {'hashtags': [], 'urls': [{'url': 'https://t.co/buhmH0t4Zv', 'expanded_url': 'https://youtu.be/gw07IUwlp1s', 'display_url': 'youtu.be/gw07IUwlp1s', 'indices': [98, 121]}], 'user_mentions': [{'screen_name': 'NaserAlsufayan', 'name': 'جامع ناصر الصفيان', 'id': 838002055977529344, 'id_str': '838002055977529344', 'indices': [3, 18]}], 'symbols': []}\n",
      "reply_count: 0\n",
      "retweet_count: 0\n",
      "favorite_count: 0\n",
      "retweeted: False\n",
      "\n",
      "id: 1156202745067556865\n",
      "entities: {'hashtags': [{'text': 'スマブラSP', 'indices': [112, 119]}, {'text': 'SmashBros', 'indices': [120, 130]}], 'urls': [], 'user_mentions': [{'screen_name': 'SmashBrosJP', 'name': '大乱闘スマッシュブラザーズ【スマブラ公式】', 'id': 2420554465, 'id_str': '2420554465', 'indices': [3, 15]}], 'symbols': []}\n",
      "reply_count: 0\n",
      "retweet_count: 0\n",
      "favorite_count: 0\n",
      "retweeted: False\n",
      "\n",
      "id: 1156202744837038080\n",
      "entities: {'hashtags': [], 'urls': [], 'user_mentions': [{'screen_name': 'teamnavalny_mos', 'name': 'Штаб Навального в Москве', 'id': 869980130621390848, 'id_str': '869980130621390848', 'indices': [3, 19]}], 'symbols': []}\n",
      "reply_count: 0\n",
      "retweet_count: 0\n",
      "favorite_count: 0\n",
      "retweeted: False\n",
      "\n",
      "id: 1156202745130618880\n",
      "entities: {'hashtags': [], 'urls': [{'url': 'https://t.co/89DFLZ44UM', 'expanded_url': 'https://www.youtube.com/watch?v=mZri8V1Ife4', 'display_url': 'youtube.com/watch?v=mZri8V…', 'indices': [102, 125]}], 'user_mentions': [{'screen_name': 'cronistaesporte', 'name': 'Tiago Cordeiro', 'id': 155419031, 'id_str': '155419031', 'indices': [3, 19]}], 'symbols': []}\n",
      "reply_count: 0\n",
      "retweet_count: 0\n",
      "favorite_count: 0\n",
      "retweeted: False\n",
      "\n",
      "id: 1156202745025744897\n",
      "entities: {'hashtags': [], 'urls': [], 'user_mentions': [{'screen_name': 'izkierdaviriato', 'name': 'Izquierda Viriato', 'id': 1018749048721956864, 'id_str': '1018749048721956864', 'indices': [3, 19]}], 'symbols': []}\n",
      "reply_count: 0\n",
      "retweet_count: 0\n",
      "favorite_count: 0\n",
      "retweeted: False\n",
      "\n"
     ]
    }
   ],
   "source": [
    "cols = [\"id\", \"entities\", \"reply_count\", \"retweet_count\", \"favorite_count\", \"retweeted\"]\n",
    "\n",
    "record = None\n",
    "for line in file_lines[:20]:\n",
    "    try:\n",
    "        record = json.loads(line)\n",
    "    except:\n",
    "        continue\n",
    "    for col in cols:\n",
    "        print(col+\":\", record[col])\n",
    "    print(\"\")"
   ]
  },
  {
   "cell_type": "code",
   "execution_count": null,
   "metadata": {},
   "outputs": [],
   "source": [
    "# field of interest\n",
    "# \"entities\" -> \"expanded_url\""
   ]
  }
 ],
 "metadata": {
  "kernelspec": {
   "display_name": "hip-long",
   "language": "python",
   "name": "hip-long"
  },
  "language_info": {
   "codemirror_mode": {
    "name": "ipython",
    "version": 3
   },
   "file_extension": ".py",
   "mimetype": "text/x-python",
   "name": "python",
   "nbconvert_exporter": "python",
   "pygments_lexer": "ipython3",
   "version": "3.8.5"
  }
 },
 "nbformat": 4,
 "nbformat_minor": 4
}
