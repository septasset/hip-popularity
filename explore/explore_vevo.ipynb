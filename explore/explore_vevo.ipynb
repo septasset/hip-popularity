{
 "cells": [
  {
   "cell_type": "code",
   "execution_count": 1,
   "metadata": {},
   "outputs": [],
   "source": [
    "from __future__ import print_function, division\n",
    "import os, bz2, json, time\n",
    "from datetime import timedelta\n",
    "\n",
    "import math\n",
    "import numpy as np\n",
    "import pandas as pd\n",
    "from matplotlib import pyplot as plt"
   ]
  },
  {
   "cell_type": "code",
   "execution_count": 2,
   "metadata": {},
   "outputs": [],
   "source": [
    "import sys\n",
    "sys.path.insert(0, '../')\n",
    "from pyhip import HIP"
   ]
  },
  {
   "cell_type": "code",
   "execution_count": 3,
   "metadata": {},
   "outputs": [],
   "source": [
    "vevo_path = \"G:/MLCV dataset/quality_videos/vevo.json\""
   ]
  },
  {
   "cell_type": "code",
   "execution_count": 4,
   "metadata": {},
   "outputs": [],
   "source": [
    "with open(vevo_path, \"r\") as f:\n",
    "    vevo_json = f.readlines()"
   ]
  },
  {
   "cell_type": "code",
   "execution_count": 5,
   "metadata": {},
   "outputs": [
    {
     "name": "stdout",
     "output_type": "stream",
     "text": [
      "dict_keys(['topicDetails', 'statistics', 'contentDetails', 'snippet', 'id', 'insights'])\n"
     ]
    },
    {
     "data": {
      "text/plain": [
       "dict_keys(['startDate', 'dailyShare', 'totalShare', 'avgWatch', 'dailySubscriber', 'totalSubscriber', 'days', 'totalView', 'dailyView', 'dailyWatch'])"
      ]
     },
     "execution_count": 5,
     "metadata": {},
     "output_type": "execute_result"
    }
   ],
   "source": [
    "# FMVyXDU9bN4\n",
    "record = json.loads(vevo_json[0])\n",
    "print(record.keys())\n",
    "cols = record['insights']\n",
    "cols.keys()"
   ]
  },
  {
   "cell_type": "code",
   "execution_count": 6,
   "metadata": {},
   "outputs": [],
   "source": [
    "days = []\n",
    "for line in vevo_json:\n",
    "    vevo_record = json.loads(line)\n",
    "    days.append(len(vevo_record['insights']['days'].split(\",\")))"
   ]
  },
  {
   "cell_type": "code",
   "execution_count": 7,
   "metadata": {},
   "outputs": [
    {
     "data": {
      "text/html": [
       "<div>\n",
       "<style scoped>\n",
       "    .dataframe tbody tr th:only-of-type {\n",
       "        vertical-align: middle;\n",
       "    }\n",
       "\n",
       "    .dataframe tbody tr th {\n",
       "        vertical-align: top;\n",
       "    }\n",
       "\n",
       "    .dataframe thead th {\n",
       "        text-align: right;\n",
       "    }\n",
       "</style>\n",
       "<table border=\"1\" class=\"dataframe\">\n",
       "  <thead>\n",
       "    <tr style=\"text-align: right;\">\n",
       "      <th></th>\n",
       "      <th>0</th>\n",
       "    </tr>\n",
       "  </thead>\n",
       "  <tbody>\n",
       "    <tr>\n",
       "      <th>count</th>\n",
       "      <td>67649.000000</td>\n",
       "    </tr>\n",
       "    <tr>\n",
       "      <th>mean</th>\n",
       "      <td>835.434404</td>\n",
       "    </tr>\n",
       "    <tr>\n",
       "      <th>std</th>\n",
       "      <td>414.928623</td>\n",
       "    </tr>\n",
       "    <tr>\n",
       "      <th>min</th>\n",
       "      <td>3.000000</td>\n",
       "    </tr>\n",
       "    <tr>\n",
       "      <th>25%</th>\n",
       "      <td>489.000000</td>\n",
       "    </tr>\n",
       "    <tr>\n",
       "      <th>50%</th>\n",
       "      <td>819.000000</td>\n",
       "    </tr>\n",
       "    <tr>\n",
       "      <th>75%</th>\n",
       "      <td>1187.000000</td>\n",
       "    </tr>\n",
       "    <tr>\n",
       "      <th>max</th>\n",
       "      <td>1633.000000</td>\n",
       "    </tr>\n",
       "  </tbody>\n",
       "</table>\n",
       "</div>"
      ],
      "text/plain": [
       "                  0\n",
       "count  67649.000000\n",
       "mean     835.434404\n",
       "std      414.928623\n",
       "min        3.000000\n",
       "25%      489.000000\n",
       "50%      819.000000\n",
       "75%     1187.000000\n",
       "max     1633.000000"
      ]
     },
     "execution_count": 7,
     "metadata": {},
     "output_type": "execute_result"
    }
   ],
   "source": [
    "pd_days = pd.DataFrame(days)\n",
    "pd_days.describe()"
   ]
  },
  {
   "cell_type": "code",
   "execution_count": 8,
   "metadata": {},
   "outputs": [
    {
     "name": "stdout",
     "output_type": "stream",
     "text": [
      "dataset size: 67556\n"
     ]
    }
   ],
   "source": [
    "vevo_videos = {}\n",
    "for line in vevo_json:\n",
    "    vevo_record = json.loads(line)\n",
    "    try:\n",
    "        vevo_videos[vevo_record['id']] = ([int(x) for x in vevo_record['insights']['dailyShare'].split(\",\")],\\\n",
    "                                      [int(x) for x in vevo_record['insights']['dailyView'].split(\",\")],\\\n",
    "                                      [float(x) for x in vevo_record['insights']['dailyWatch'].split(\",\")])\n",
    "    except:\n",
    "        continue\n",
    "print(\"dataset size:\", len(vevo_videos))"
   ]
  },
  {
   "cell_type": "markdown",
   "metadata": {},
   "source": [
    "## Evaluate HIP on Vevo"
   ]
  },
  {
   "cell_type": "code",
   "execution_count": null,
   "metadata": {},
   "outputs": [],
   "source": [
    "test_vid = 'FMVyXDU9bN4'\n",
    "daily_share, daily_view, daily_watch = vevo_videos[test_vid]\n",
    "print(\"Video {} has record of {} days\".format(test_vid, len(daily_share)))\n",
    "num_train = 90\n",
    "num_test = 30\n",
    "num_initialization = 25"
   ]
  },
  {
   "cell_type": "code",
   "execution_count": null,
   "metadata": {},
   "outputs": [],
   "source": [
    "hip_model = HIP()\n",
    "hip_model.initial(daily_share, daily_view, num_train, num_test, num_initialization)\n",
    "hip_model.fit_with_bfgs()\n",
    "hip_model.print_parameters()\n",
    "hip_model.plot_func('YouTubeID={0}'.format(test_vid))"
   ]
  },
  {
   "cell_type": "code",
   "execution_count": null,
   "metadata": {},
   "outputs": [],
   "source": [
    "num_train = 600\n",
    "num_test = 200\n",
    "num_initialization = 25\n",
    "\n",
    "hip_model = HIP()\n",
    "hip_model.initial(daily_share, daily_view, num_train, num_test, num_initialization)\n",
    "hip_model.fit_with_bfgs()\n",
    "hip_model.print_parameters()\n",
    "hip_model.plot_func('YouTubeID={0}'.format(test_vid))"
   ]
  },
  {
   "cell_type": "markdown",
   "metadata": {},
   "source": [
    "### HIP performance variation wrt long term"
   ]
  },
  {
   "cell_type": "code",
   "execution_count": 9,
   "metadata": {},
   "outputs": [
    {
     "name": "stdout",
     "output_type": "stream",
     "text": [
      "--- Finish initialization set 5...\n",
      "--- Finish initialization set 10...\n",
      "--- Finish initialization set 15...\n",
      "--- Finish initialization set 20...\n",
      "--- Finish initialization set 25...\n",
      "--- Model fitting RMSE: 165.96\n",
      "--- Model forecast RMSE: 52.18\n",
      "--- Finish initialization set 5...\n",
      "--- Finish initialization set 10...\n",
      "--- Finish initialization set 15...\n",
      "--- Finish initialization set 20...\n",
      "--- Finish initialization set 25...\n",
      "--- Model fitting RMSE: 591.12\n",
      "--- Model forecast RMSE: 105.97\n",
      "--- Finish initialization set 5...\n",
      "--- Finish initialization set 10...\n",
      "--- Finish initialization set 15...\n",
      "--- Finish initialization set 20...\n",
      "--- Finish initialization set 25...\n",
      "--- Model fitting RMSE: 231.99\n",
      "--- Model forecast RMSE: 135.39\n",
      "--- Finish initialization set 5...\n",
      "--- Finish initialization set 10...\n",
      "--- Finish initialization set 15...\n",
      "--- Finish initialization set 20...\n",
      "--- Finish initialization set 25...\n",
      "--- Model fitting RMSE: 2082.38\n",
      "--- Model forecast RMSE: 4477.89\n",
      "--- Finish initialization set 5...\n",
      "--- Finish initialization set 10...\n",
      "--- Finish initialization set 15...\n",
      "--- Finish initialization set 20...\n",
      "--- Finish initialization set 25...\n",
      "--- Model fitting RMSE: 1631.66\n",
      "--- Model forecast RMSE: 23921.79\n",
      "--- Finish initialization set 5...\n",
      "--- Finish initialization set 10...\n",
      "--- Finish initialization set 15...\n",
      "--- Finish initialization set 20...\n",
      "--- Finish initialization set 25...\n",
      "--- Model fitting RMSE: 1816.03\n",
      "--- Model forecast RMSE: 9724.84\n",
      "--- Finish initialization set 5...\n",
      "--- Finish initialization set 10...\n",
      "--- Finish initialization set 15...\n",
      "--- Finish initialization set 20...\n",
      "--- Finish initialization set 25...\n",
      "--- Model fitting RMSE: 114.28\n",
      "--- Model forecast RMSE: 1336.64\n",
      "--- Finish initialization set 5...\n",
      "--- Finish initialization set 10...\n",
      "--- Finish initialization set 15...\n",
      "--- Finish initialization set 20...\n",
      "--- Finish initialization set 25...\n",
      "--- Model fitting RMSE: 213.46\n",
      "--- Model forecast RMSE: 358.48\n",
      "--- Finish initialization set 5...\n",
      "--- Finish initialization set 10...\n",
      "--- Finish initialization set 15...\n",
      "--- Finish initialization set 20...\n",
      "--- Finish initialization set 25...\n",
      "--- Model fitting RMSE: 400.63\n",
      "--- Model forecast RMSE: 565.85\n",
      "--- Finish initialization set 5...\n",
      "--- Finish initialization set 10...\n",
      "--- Finish initialization set 15...\n",
      "--- Finish initialization set 20...\n",
      "--- Finish initialization set 25...\n",
      "--- Model fitting RMSE: 11.10\n",
      "--- Model forecast RMSE: 24.81\n",
      ">>> Total time: 0:18:38.600\n"
     ]
    }
   ],
   "source": [
    "start_time = time.time()\n",
    "size = 10\n",
    "count = 0\n",
    "\n",
    "num_train = 90\n",
    "num_test = 540\n",
    "num_initialization = 25\n",
    "\n",
    "preds_y = []\n",
    "gts_y = []\n",
    "test_vids = []\n",
    "for test_vid in list(vevo_videos.keys()):\n",
    "    daily_share, daily_view, daily_watch = vevo_videos[test_vid]\n",
    "    if len(daily_view) <= (num_train + num_test): continue\n",
    "    test_vids.append(test_vid)\n",
    "    hip_model = HIP()\n",
    "    hip_model.initial(daily_share, daily_view, num_train, num_test, num_initialization)\n",
    "    hip_model.fit_with_bfgs()\n",
    "    \n",
    "    y_predict = hip_model.predict(hip_model.get_parameters_abbr(), hip_model.x)\n",
    "    preds_y.append(y_predict)\n",
    "    gts_y.append(np.array(hip_model.y))\n",
    "    count += 1\n",
    "    \n",
    "    if count >= size: break\n",
    "print('>>> Total time: {0}'.format(str(timedelta(seconds=time.time() - start_time)))[:-3])"
   ]
  },
  {
   "cell_type": "code",
   "execution_count": 40,
   "metadata": {},
   "outputs": [],
   "source": [
    "preds_y_eval = []\n",
    "gts_y_eval = []\n",
    "eval_days = np.arange(30, num_test, 10)\n",
    "for i in range(len(preds_y)):\n",
    "    pred_y_accu = [np.sum(preds_y[i][:num_train+eval_day]) for eval_day in eval_days]\n",
    "    gt_y_accu = [np.sum(gts_y[i][:num_train+eval_day]) for eval_day in eval_days]\n",
    "    preds_y_eval.append(pred_y_accu)\n",
    "    gts_y_eval.append(gt_y_accu)"
   ]
  },
  {
   "cell_type": "code",
   "execution_count": 41,
   "metadata": {},
   "outputs": [
    {
     "data": {
      "text/html": [
       "<div>\n",
       "<style scoped>\n",
       "    .dataframe tbody tr th:only-of-type {\n",
       "        vertical-align: middle;\n",
       "    }\n",
       "\n",
       "    .dataframe tbody tr th {\n",
       "        vertical-align: top;\n",
       "    }\n",
       "\n",
       "    .dataframe thead th {\n",
       "        text-align: right;\n",
       "    }\n",
       "</style>\n",
       "<table border=\"1\" class=\"dataframe\">\n",
       "  <thead>\n",
       "    <tr style=\"text-align: right;\">\n",
       "      <th></th>\n",
       "      <th>30</th>\n",
       "      <th>40</th>\n",
       "      <th>50</th>\n",
       "      <th>60</th>\n",
       "      <th>70</th>\n",
       "      <th>80</th>\n",
       "      <th>90</th>\n",
       "      <th>100</th>\n",
       "      <th>110</th>\n",
       "      <th>120</th>\n",
       "      <th>...</th>\n",
       "      <th>440</th>\n",
       "      <th>450</th>\n",
       "      <th>460</th>\n",
       "      <th>470</th>\n",
       "      <th>480</th>\n",
       "      <th>490</th>\n",
       "      <th>500</th>\n",
       "      <th>510</th>\n",
       "      <th>520</th>\n",
       "      <th>530</th>\n",
       "    </tr>\n",
       "  </thead>\n",
       "  <tbody>\n",
       "    <tr>\n",
       "      <th>0</th>\n",
       "      <td>0.0</td>\n",
       "      <td>0.0</td>\n",
       "      <td>0.0</td>\n",
       "      <td>0.0</td>\n",
       "      <td>0.0</td>\n",
       "      <td>0.0</td>\n",
       "      <td>0.0</td>\n",
       "      <td>0.0</td>\n",
       "      <td>0.0</td>\n",
       "      <td>0.022222</td>\n",
       "      <td>...</td>\n",
       "      <td>0.044444</td>\n",
       "      <td>0.044444</td>\n",
       "      <td>0.044444</td>\n",
       "      <td>0.044444</td>\n",
       "      <td>0.044444</td>\n",
       "      <td>0.044444</td>\n",
       "      <td>0.044444</td>\n",
       "      <td>0.044444</td>\n",
       "      <td>0.044444</td>\n",
       "      <td>0.044444</td>\n",
       "    </tr>\n",
       "  </tbody>\n",
       "</table>\n",
       "<p>1 rows × 51 columns</p>\n",
       "</div>"
      ],
      "text/plain": [
       "   30   40   50   60   70   80   90   100  110       120  ...       440  \\\n",
       "0  0.0  0.0  0.0  0.0  0.0  0.0  0.0  0.0  0.0  0.022222  ...  0.044444   \n",
       "\n",
       "        450       460       470       480       490       500       510  \\\n",
       "0  0.044444  0.044444  0.044444  0.044444  0.044444  0.044444  0.044444   \n",
       "\n",
       "        520       530  \n",
       "0  0.044444  0.044444  \n",
       "\n",
       "[1 rows x 51 columns]"
      ]
     },
     "metadata": {},
     "output_type": "display_data"
    }
   ],
   "source": [
    "df_preds_eval = pd.DataFrame(preds_y_eval, columns =eval_days)#, index = test_vids)\n",
    "df_gts_eval = pd.DataFrame(gts_y_eval, columns =eval_days)#, index = test_vids)\n",
    "pop_scales = np.linspace(0, 1, len(df_preds_eval[eval_days[0]]))\n",
    "\n",
    "df_perc_errors = []\n",
    "for eval_day in eval_days:\n",
    "    perc_error = []\n",
    "    pred_sort = df_preds_eval.sort_values(by=[eval_day], inplace=False)\n",
    "    gt_sort = df_gts_eval.sort_values(by=[eval_day], inplace=False)\n",
    "    pred_sort[eval_day] = pop_scales\n",
    "    gt_sort[eval_day] = pop_scales\n",
    "    \n",
    "    for ind in pred_sort.index:\n",
    "        perc_error.append(np.abs(pred_sort.loc[ind, eval_day]-gt_sort.loc[ind, eval_day]))\n",
    "    df_perc_error = pd.DataFrame(perc_error, columns =[eval_day], index = pred_sort.index)\n",
    "    df_perc_errors.append(df_perc_error)\n",
    "\n",
    "mean_perc_errors = []\n",
    "for df in df_perc_errors:\n",
    "    mean_perc_errors.append(np.sum(df.to_numpy())/size)\n",
    "df_mean_perc_errors = pd.DataFrame([mean_perc_errors], columns =eval_days)\n",
    "display(df_mean_perc_errors)"
   ]
  },
  {
   "cell_type": "code",
   "execution_count": 43,
   "metadata": {},
   "outputs": [
    {
     "data": {
      "image/png": "[encoded data removed]",
      "text/plain": [
       "<Figure size 864x432 with 1 Axes>"
      ]
     },
     "metadata": {
      "needs_background": "light"
     },
     "output_type": "display_data"
    }
   ],
   "source": [
    "fig = plt.figure(figsize=(12, 6))\n",
    "ax1 = fig.add_subplot(111)\n",
    "ax1.plot(df_mean_perc_errors.loc[0,:])\n",
    "ax1.set_xlabel(\"days\")\n",
    "ax1.set_ylabel(\"mean absolute percentile error\")\n",
    "pass"
   ]
  },
  {
   "cell_type": "code",
   "execution_count": null,
   "metadata": {},
   "outputs": [],
   "source": []
  }
 ],
 "metadata": {
  "kernelspec": {
   "display_name": "hip-long",
   "language": "python",
   "name": "hip-long"
  },
  "language_info": {
   "codemirror_mode": {
    "name": "ipython",
    "version": 3
   },
   "file_extension": ".py",
   "mimetype": "text/x-python",
   "name": "python",
   "nbconvert_exporter": "python",
   "pygments_lexer": "ipython3",
   "version": "3.7.3"
  }
 },
 "nbformat": 4,
 "nbformat_minor": 2
}
