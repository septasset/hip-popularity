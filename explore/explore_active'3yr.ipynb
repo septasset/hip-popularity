{
 "cells": [
  {
   "cell_type": "code",
   "execution_count": null,
   "metadata": {},
   "outputs": [],
   "source": [
    "import h5py\n",
    "active3yr_file = \"G:/pyProject/ACTIVE'3YR/active_3YR.h5\" #\"G:/MLCV dataset/ACTIVE'3YR/active_3YR.h5\" \n",
    "active3yr = h5py.File(active3yr_file, \"r\")"
   ]
  },
  {
   "cell_type": "code",
   "execution_count": null,
   "metadata": {},
   "outputs": [],
   "source": [
    "# df -> ['axis0', 'axis1', 'block0_items', 'block0_values']\n",
    "for x in ['axis0', 'axis1', 'block0_items', 'block0_values']:\n",
    "    print(x,\":\", len(active3yr['df'][x][:]), active3yr['df'][x][:])\n",
    "len(active3yr['df'][\"block0_values\"][0][:])"
   ]
  },
  {
   "cell_type": "code",
   "execution_count": null,
   "metadata": {},
   "outputs": [],
   "source": [
    "vals = np.array(active3yr['df'][\"block0_values\"][0][:])\n",
    "pd_tmpt = pd.DataFrame(vals)\n",
    "pd.DataFrame.describe(pd_tmpt)"
   ]
  },
  {
   "cell_type": "code",
   "execution_count": null,
   "metadata": {},
   "outputs": [],
   "source": [
    "# ds2_file = \"G:/pyProject/ACTIVE'3YR/Active_3yr_part1_data.csv\"\n",
    "# pd_ds2 = pd.read_csv()"
   ]
  }
 ],
 "metadata": {
  "kernelspec": {
   "display_name": "hip-long",
   "language": "python",
   "name": "hip-long"
  },
  "language_info": {
   "codemirror_mode": {
    "name": "ipython",
    "version": 3
   },
   "file_extension": ".py",
   "mimetype": "text/x-python",
   "name": "python",
   "nbconvert_exporter": "python",
   "pygments_lexer": "ipython3",
   "version": "3.7.3"
  }
 },
 "nbformat": 4,
 "nbformat_minor": 2
}
