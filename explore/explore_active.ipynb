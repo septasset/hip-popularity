{
 "cells": [
  {
   "cell_type": "code",
   "execution_count": 21,
   "metadata": {},
   "outputs": [],
   "source": [
    "from __future__ import print_function, division\n",
    "import os, bz2, json, time\n",
    "from datetime import timedelta\n",
    "import numpy as np\n",
    "import pandas as pd"
   ]
  },
  {
   "cell_type": "code",
   "execution_count": 2,
   "metadata": {},
   "outputs": [
    {
     "data": {
      "text/plain": [
       "14041"
      ]
     },
     "execution_count": 2,
     "metadata": {},
     "output_type": "execute_result"
    }
   ],
   "source": [
    "with bz2.BZ2File('../data/active-dataset.json.bz2') as f:\n",
    "    dataset = json.loads(f.readline())\n",
    "len(dataset)"
   ]
  },
  {
   "cell_type": "code",
   "execution_count": 3,
   "metadata": {},
   "outputs": [
    {
     "name": "stdout",
     "output_type": "stream",
     "text": [
      "([254, 1399, 493, 242, 175, 216, 372, 729, 305, 154, 75, 68, 60, 44, 44, 44, 39, 24, 25, 28, 15, 17, 18, 14, 16, 15, 8, 12, 9, 1, 3, 5, 8, 3, 7, 7, 3, 4, 4, 1, 3, 3, 2, 3, 6, 0, 4, 4, 2, 4, 0, 8, 6, 3, 5, 4, 3, 2, 2, 1, 4, 13, 12, 12, 13, 5, 7, 2, 9, 4, 2, 3, 0, 7, 1, 1, 3, 1, 1, 5, 3, 10, 0, 4, 5, 1, 0, 2, 3, 2, 1, 0, 0, 1, 0, 1, 1, 2, 1, 2, 0, 0, 2, 1, 0, 0, 1, 1, 1, 2, 6, 1, 0, 1, 0, 2, 2, 0, 1, 0, 0, 0, 2, 1, 0, 0, 1, 4, 4, 4], [90158, 695628, 312298, 170348, 82346, 61530, 76116, 229360, 109262, 40695, 26952, 18167, 13951, 11266, 11866, 18949, 18264, 13971, 8641, 7085, 5337, 4063, 4119, 5385, 4898, 4270, 3447, 3061, 2491, 1897, 1836, 2192, 2087, 2118, 2010, 1993, 1792, 1921, 1977, 1671, 1594, 1404, 1574, 1483, 1459, 1671, 1400, 1252, 1383, 1251, 1375, 1176, 1528, 1270, 1760, 1526, 1295, 1049, 1034, 1308, 1353, 1965, 2950, 2402, 1800, 1636, 2010, 1573, 1443, 1254, 1307, 1224, 888, 1021, 861, 982, 855, 1176, 1275, 1729, 2061, 2982, 1760, 1872, 1708, 1139, 1084, 1152, 901, 629, 585, 601, 465, 498, 627, 482, 629, 658, 714, 747, 566, 664, 546, 433, 357, 463, 379, 373, 450, 493, 452, 452, 423, 1056, 1407, 1153, 1081, 664, 576, 471, 400, 572, 639, 711, 525, 499, 893, 999, 1308, 1073], [59311.9833333, 455426.75, 206253.816667, 111922.883333, 54197.5833333, 39846.9166667, 48874.6, 140056.1, 67111.15, 25781.6166667, 17420.75, 11541.3833333, 8736.55, 6965.5, 7364.95, 10960.7333333, 10369.85, 8146.73333333, 5219.46666667, 4291.95, 3246.73333333, 2515.03333333, 2542.63333333, 3362.85, 3130.1, 2641.46666667, 2103.23333333, 1882.2, 1562.2, 1214.43333333, 1159.06666667, 1419.38333333, 1338.36666667, 1338.43333333, 1264.23333333, 1254.81666667, 1156.98333333, 1238.76666667, 1284.61666667, 1065.78333333, 1026.78333333, 888.783333333, 995.516666667, 977.733333333, 934.933333333, 1106.48333333, 891.566666667, 780.7, 862.15, 780.933333333, 872.616666667, 748.05, 995.416666667, 795.266666667, 1092.55, 940.783333333, 796.766666667, 646.85, 676.533333333, 823.933333333, 854.15, 1191.56666667, 1781.65, 1453.65, 1122.51666667, 1046.38333333, 1260.71666667, 973.916666667, 883.75, 760.25, 789.366666667, 764.933333333, 564.266666667, 663.516666667, 538.466666667, 588.9, 538.616666667, 712.183333333, 772.55, 1035.38333333, 1231.91666667, 1800.83333333, 1056.8, 1086.13333333, 967.933333333, 685.716666667, 665.716666667, 700.133333333, 555.583333333, 376.616666667, 362.283333333, 389.25, 287.5, 315.516666667, 388.6, 296.416666667, 363.8, 394.95, 418.55, 449.366666667, 336.866666667, 408.2, 348.616666667, 254.1, 220.916666667, 279.583333333, 219.6, 216.8, 272.25, 280.133333333, 275.25, 269.766666667, 250.8, 625.683333333, 825.4, 685.2, 650.6, 401.55, 354.466666667, 316.733333333, 262.533333333, 351.066666667, 398.933333333, 442.75, 315.7, 316.016666667, 553.366666667, 606.7, 785.616666667, 651.333333333])\n"
     ]
    }
   ],
   "source": [
    "active_videos = {}\n",
    "for video in dataset:\n",
    "    active_videos[video['YoutubeID']] = (video['numShare'], video['dailyViewcount'], video['watchTime'])\n",
    "print(active_videos['00-6OyXVA0M']) # or 'X0ZEt_GZfkA'"
   ]
  },
  {
   "cell_type": "code",
   "execution_count": 4,
   "metadata": {},
   "outputs": [],
   "source": [
    "active_stats = {}\n",
    "for video in dataset:\n",
    "    active_stats[video['YoutubeID']] = (len(video['numShare']), len(video['dailyViewcount']), len(video['watchTime']))"
   ]
  },
  {
   "cell_type": "code",
   "execution_count": 5,
   "metadata": {},
   "outputs": [
    {
     "data": {
      "text/html": [
       "<div>\n",
       "<style scoped>\n",
       "    .dataframe tbody tr th:only-of-type {\n",
       "        vertical-align: middle;\n",
       "    }\n",
       "\n",
       "    .dataframe tbody tr th {\n",
       "        vertical-align: top;\n",
       "    }\n",
       "\n",
       "    .dataframe thead th {\n",
       "        text-align: right;\n",
       "    }\n",
       "</style>\n",
       "<table border=\"1\" class=\"dataframe\">\n",
       "  <thead>\n",
       "    <tr style=\"text-align: right;\">\n",
       "      <th></th>\n",
       "      <th>n1</th>\n",
       "      <th>n2</th>\n",
       "      <th>n3</th>\n",
       "    </tr>\n",
       "  </thead>\n",
       "  <tbody>\n",
       "    <tr>\n",
       "      <th>count</th>\n",
       "      <td>14041.000000</td>\n",
       "      <td>14041.000000</td>\n",
       "      <td>14041.000000</td>\n",
       "    </tr>\n",
       "    <tr>\n",
       "      <th>mean</th>\n",
       "      <td>179.388363</td>\n",
       "      <td>179.388363</td>\n",
       "      <td>179.388363</td>\n",
       "    </tr>\n",
       "    <tr>\n",
       "      <th>std</th>\n",
       "      <td>29.523757</td>\n",
       "      <td>29.523757</td>\n",
       "      <td>29.523757</td>\n",
       "    </tr>\n",
       "    <tr>\n",
       "      <th>min</th>\n",
       "      <td>119.000000</td>\n",
       "      <td>119.000000</td>\n",
       "      <td>119.000000</td>\n",
       "    </tr>\n",
       "    <tr>\n",
       "      <th>25%</th>\n",
       "      <td>154.000000</td>\n",
       "      <td>154.000000</td>\n",
       "      <td>154.000000</td>\n",
       "    </tr>\n",
       "    <tr>\n",
       "      <th>50%</th>\n",
       "      <td>180.000000</td>\n",
       "      <td>180.000000</td>\n",
       "      <td>180.000000</td>\n",
       "    </tr>\n",
       "    <tr>\n",
       "      <th>75%</th>\n",
       "      <td>204.000000</td>\n",
       "      <td>204.000000</td>\n",
       "      <td>204.000000</td>\n",
       "    </tr>\n",
       "    <tr>\n",
       "      <th>max</th>\n",
       "      <td>237.000000</td>\n",
       "      <td>237.000000</td>\n",
       "      <td>237.000000</td>\n",
       "    </tr>\n",
       "  </tbody>\n",
       "</table>\n",
       "</div>"
      ],
      "text/plain": [
       "                 n1            n2            n3\n",
       "count  14041.000000  14041.000000  14041.000000\n",
       "mean     179.388363    179.388363    179.388363\n",
       "std       29.523757     29.523757     29.523757\n",
       "min      119.000000    119.000000    119.000000\n",
       "25%      154.000000    154.000000    154.000000\n",
       "50%      180.000000    180.000000    180.000000\n",
       "75%      204.000000    204.000000    204.000000\n",
       "max      237.000000    237.000000    237.000000"
      ]
     },
     "execution_count": 5,
     "metadata": {},
     "output_type": "execute_result"
    }
   ],
   "source": [
    "pd_active = pd.DataFrame.from_dict(active_stats, orient=\"index\", columns=(\"n1\", \"n2\", \"n3\"))\n",
    "pd.DataFrame.describe(pd_active)"
   ]
  },
  {
   "cell_type": "markdown",
   "metadata": {},
   "source": [
    "---"
   ]
  },
  {
   "cell_type": "code",
   "execution_count": 7,
   "metadata": {},
   "outputs": [],
   "source": [
    "import h5py\n",
    "active3yr_file = \"G:/pyProject/ACTIVE'3YR/active_3YR.h5\" #\"G:/MLCV dataset/ACTIVE'3YR/active_3YR.h5\" \n",
    "active3yr = h5py.File(active3yr_file, \"r\")"
   ]
  },
  {
   "cell_type": "code",
   "execution_count": 23,
   "metadata": {},
   "outputs": [
    {
     "name": "stdout",
     "output_type": "stream",
     "text": [
      "axis0 : 7 [b'id' b'channelId' b'channelName' b'views' b'shares' b'categoryName'\n",
      " b'publishedTime']\n",
      "axis1 : 246644 [     0      1      2 ... 456299 456312 456322]\n",
      "block0_items : 7 [b'id' b'channelId' b'channelName' b'views' b'shares' b'categoryName'\n",
      " b'publishedTime']\n",
      "block0_values : 1 [array([128,   4, 149, ..., 148,  98,  46], dtype=uint8)]\n"
     ]
    },
    {
     "data": {
      "text/plain": [
       "162241154"
      ]
     },
     "execution_count": 23,
     "metadata": {},
     "output_type": "execute_result"
    }
   ],
   "source": [
    "# df -> ['axis0', 'axis1', 'block0_items', 'block0_values']\n",
    "for x in ['axis0', 'axis1', 'block0_items', 'block0_values']:\n",
    "    print(x,\":\", len(active3yr['df'][x][:]), active3yr['df'][x][:])\n",
    "len(active3yr['df'][\"block0_values\"][0][:])"
   ]
  },
  {
   "cell_type": "code",
   "execution_count": 30,
   "metadata": {},
   "outputs": [
    {
     "data": {
      "text/html": [
       "<div>\n",
       "<style scoped>\n",
       "    .dataframe tbody tr th:only-of-type {\n",
       "        vertical-align: middle;\n",
       "    }\n",
       "\n",
       "    .dataframe tbody tr th {\n",
       "        vertical-align: top;\n",
       "    }\n",
       "\n",
       "    .dataframe thead th {\n",
       "        text-align: right;\n",
       "    }\n",
       "</style>\n",
       "<table border=\"1\" class=\"dataframe\">\n",
       "  <thead>\n",
       "    <tr style=\"text-align: right;\">\n",
       "      <th></th>\n",
       "      <th>0</th>\n",
       "    </tr>\n",
       "  </thead>\n",
       "  <tbody>\n",
       "    <tr>\n",
       "      <th>count</th>\n",
       "      <td>1.622412e+08</td>\n",
       "    </tr>\n",
       "    <tr>\n",
       "      <th>mean</th>\n",
       "      <td>6.396546e+01</td>\n",
       "    </tr>\n",
       "    <tr>\n",
       "      <th>std</th>\n",
       "      <td>5.315897e+01</td>\n",
       "    </tr>\n",
       "    <tr>\n",
       "      <th>min</th>\n",
       "      <td>0.000000e+00</td>\n",
       "    </tr>\n",
       "    <tr>\n",
       "      <th>25%</th>\n",
       "      <td>1.100000e+01</td>\n",
       "    </tr>\n",
       "    <tr>\n",
       "      <th>50%</th>\n",
       "      <td>7.500000e+01</td>\n",
       "    </tr>\n",
       "    <tr>\n",
       "      <th>75%</th>\n",
       "      <td>7.700000e+01</td>\n",
       "    </tr>\n",
       "    <tr>\n",
       "      <th>max</th>\n",
       "      <td>2.550000e+02</td>\n",
       "    </tr>\n",
       "  </tbody>\n",
       "</table>\n",
       "</div>"
      ],
      "text/plain": [
       "                  0\n",
       "count  1.622412e+08\n",
       "mean   6.396546e+01\n",
       "std    5.315897e+01\n",
       "min    0.000000e+00\n",
       "25%    1.100000e+01\n",
       "50%    7.500000e+01\n",
       "75%    7.700000e+01\n",
       "max    2.550000e+02"
      ]
     },
     "execution_count": 30,
     "metadata": {},
     "output_type": "execute_result"
    }
   ],
   "source": [
    "vals = np.array(active3yr['df'][\"block0_values\"][0][:])\n",
    "pd_tmpt = pd.DataFrame(vals)\n",
    "pd.DataFrame.describe(pd_tmpt)"
   ]
  },
  {
   "cell_type": "markdown",
   "metadata": {},
   "source": [
    "---"
   ]
  },
  {
   "cell_type": "code",
   "execution_count": null,
   "metadata": {},
   "outputs": [],
   "source": [
    "ds2_file = \"G:/pyProject/ACTIVE'3YR/Active_3yr_part1_data.csv\"\n",
    "pd_ds2 = pd.read_csv()"
   ]
  }
 ],
 "metadata": {
  "kernelspec": {
   "display_name": "hip-long",
   "language": "python",
   "name": "hip-long"
  },
  "language_info": {
   "codemirror_mode": {
    "name": "ipython",
    "version": 3
   },
   "file_extension": ".py",
   "mimetype": "text/x-python",
   "name": "python",
   "nbconvert_exporter": "python",
   "pygments_lexer": "ipython3",
   "version": "3.7.4"
  }
 },
 "nbformat": 4,
 "nbformat_minor": 2
}
