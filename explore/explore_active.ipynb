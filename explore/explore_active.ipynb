{
 "cells": [
  {
   "cell_type": "code",
   "execution_count": 1,
   "metadata": {},
   "outputs": [],
   "source": [
    "from __future__ import print_function, division\n",
    "import os, bz2, json, time\n",
    "from datetime import timedelta\n",
    "\n",
    "import math\n",
    "import numpy as np\n",
    "import pandas as pd\n",
    "from matplotlib import pyplot as plt"
   ]
  },
  {
   "cell_type": "markdown",
   "metadata": {},
   "source": [
    "## Exploring ACTIVE dataset"
   ]
  },
  {
   "cell_type": "code",
   "execution_count": 2,
   "metadata": {},
   "outputs": [
    {
     "name": "stdout",
     "output_type": "stream",
     "text": [
      "14041\n"
     ]
    }
   ],
   "source": [
    "with bz2.BZ2File('../data/active-dataset.json.bz2') as f:\n",
    "    dataset = json.loads(f.readline())\n",
    "print(len(dataset))\n",
    "attributes = [\"YoutubeID\",\"numTweet\",\"numShare\",\"numSubscriber\",\"watchTime\",\"dailyViewcount\",\\\n",
    "              \"description\",\"title\",\"channelId\",\"channelTitle\",\"category\",\"uploadDate\",\"duration\",\\\n",
    "              \"definition\",\"dimension\",\"caption\",\"regionRestriction.blocked\",\\\n",
    "              \"regionRestriction.allowed\",\"topicIds\",\"relevantTopicIds\",\"totalShare\",\\\n",
    "              \"totalViewcount\",\"totalTweet\",\"dailyTweets\"]"
   ]
  },
  {
   "cell_type": "code",
   "execution_count": 3,
   "metadata": {},
   "outputs": [
    {
     "name": "stdout",
     "output_type": "stream",
     "text": [
      "YoutubeID : 00-6OyXVA0M\n",
      "numTweet : length 5010\n",
      "numShare : length 130\n",
      "numSubscriber : length 130\n",
      "watchTime : length 130\n",
      "dailyViewcount : length 130\n",
      "description : Bill's response to Victoria Osteen's congregational message.\n",
      "The Osteen video was already out before I did the added clip of Bill Cosby.\n",
      "title : Bill Cosby responds to Victoria Osteen\n",
      "channelId : UCpzGw-b-rEPjRs2LT0ZVHTQ\n",
      "channelTitle : Bryant Harris\n",
      "category : Entertainment\n",
      "uploadDate : 2014-08-29 06:19:14\n",
      "duration : PT39S\n",
      "definition : sd\n",
      "dimension : 2d\n",
      "caption : false\n",
      "regionRestriction.blocked : {}\n",
      "regionRestriction.allowed : {}\n",
      "topicIds : length 3\n",
      "relevantTopicIds : length 1\n",
      "totalShare : 5206\n",
      "totalViewcount : 2174286\n",
      "totalTweet : 3857\n",
      "dailyTweets : length 130\n"
     ]
    }
   ],
   "source": [
    "# example video 00-6OyXVA0M\n",
    "example_ind = 0\n",
    "for att in attributes:\n",
    "    if type(dataset[example_ind][att]) is list:\n",
    "        print(att,\": length\",len(dataset[example_ind][att]))\n",
    "    else:\n",
    "        print(att,\":\",dataset[example_ind][att]) "
   ]
  },
  {
   "cell_type": "code",
   "execution_count": 4,
   "metadata": {},
   "outputs": [
    {
     "data": {
      "text/html": [
       "<div>\n",
       "<style scoped>\n",
       "    .dataframe tbody tr th:only-of-type {\n",
       "        vertical-align: middle;\n",
       "    }\n",
       "\n",
       "    .dataframe tbody tr th {\n",
       "        vertical-align: top;\n",
       "    }\n",
       "\n",
       "    .dataframe thead th {\n",
       "        text-align: right;\n",
       "    }\n",
       "</style>\n",
       "<table border=\"1\" class=\"dataframe\">\n",
       "  <thead>\n",
       "    <tr style=\"text-align: right;\">\n",
       "      <th></th>\n",
       "      <th>dailyTweets</th>\n",
       "      <th>numShare</th>\n",
       "      <th>dailyViewcount</th>\n",
       "      <th>watchTime</th>\n",
       "    </tr>\n",
       "  </thead>\n",
       "  <tbody>\n",
       "    <tr>\n",
       "      <th>00-6OyXVA0M</th>\n",
       "      <td>[2588, 455, 157, 100, 86, 76, 102, 64, 28, 23,...</td>\n",
       "      <td>[254, 1399, 493, 242, 175, 216, 372, 729, 305,...</td>\n",
       "      <td>[90158, 695628, 312298, 170348, 82346, 61530, ...</td>\n",
       "      <td>[59311.9833333, 455426.75, 206253.816667, 1119...</td>\n",
       "    </tr>\n",
       "    <tr>\n",
       "      <th>00ATf2HR-FA</th>\n",
       "      <td>[75, 25, 18, 18, 15, 5, 10, 2, 0, 1, 2, 0, 1, ...</td>\n",
       "      <td>[12, 47, 14, 32, 32, 12, 5, 4, 3, 4, 1, 0, 3, ...</td>\n",
       "      <td>[14939, 40664, 21261, 30914, 31073, 20395, 117...</td>\n",
       "      <td>[2937.13333333, 9039.33333333, 5082.71666667, ...</td>\n",
       "    </tr>\n",
       "    <tr>\n",
       "      <th>00bumpN0Mhw</th>\n",
       "      <td>[507, 227, 119, 88, 68, 77, 89, 74, 59, 41, 41...</td>\n",
       "      <td>[583, 316, 178, 107, 92, 84, 135, 122, 133, 90...</td>\n",
       "      <td>[89627, 63829, 46999, 42951, 42902, 36271, 416...</td>\n",
       "      <td>[235606.866667, 177160.183333, 133966.883333, ...</td>\n",
       "    </tr>\n",
       "    <tr>\n",
       "      <th>00f0ct78HcU</th>\n",
       "      <td>[39, 20, 5, 3, 4, 1, 2, 1, 2, 3, 2, 1, 0, 2, 0...</td>\n",
       "      <td>[38, 11, 4, 4, 0, 1, 0, 0, 0, 0, 1, 0, 0, 0, 0...</td>\n",
       "      <td>[91431, 52484, 26459, 14774, 7700, 5314, 4872,...</td>\n",
       "      <td>[119054.283333, 68698.1166667, 34243.9166667, ...</td>\n",
       "    </tr>\n",
       "    <tr>\n",
       "      <th>00g2ZbI3ung</th>\n",
       "      <td>[60, 3, 1, 0, 1, 2, 4, 2, 2, 2, 0, 0, 1, 1, 0,...</td>\n",
       "      <td>[18, 3, 1, 1, 5, 5, 3, 2, 1, 1, 1, 0, 2, 1, 0,...</td>\n",
       "      <td>[15512, 5027, 2691, 1861, 2563, 3891, 2751, 22...</td>\n",
       "      <td>[11655.7333333, 3733.05, 2094.01666667, 1368.9...</td>\n",
       "    </tr>\n",
       "  </tbody>\n",
       "</table>\n",
       "</div>"
      ],
      "text/plain": [
       "                                                   dailyTweets  \\\n",
       "00-6OyXVA0M  [2588, 455, 157, 100, 86, 76, 102, 64, 28, 23,...   \n",
       "00ATf2HR-FA  [75, 25, 18, 18, 15, 5, 10, 2, 0, 1, 2, 0, 1, ...   \n",
       "00bumpN0Mhw  [507, 227, 119, 88, 68, 77, 89, 74, 59, 41, 41...   \n",
       "00f0ct78HcU  [39, 20, 5, 3, 4, 1, 2, 1, 2, 3, 2, 1, 0, 2, 0...   \n",
       "00g2ZbI3ung  [60, 3, 1, 0, 1, 2, 4, 2, 2, 2, 0, 0, 1, 1, 0,...   \n",
       "\n",
       "                                                      numShare  \\\n",
       "00-6OyXVA0M  [254, 1399, 493, 242, 175, 216, 372, 729, 305,...   \n",
       "00ATf2HR-FA  [12, 47, 14, 32, 32, 12, 5, 4, 3, 4, 1, 0, 3, ...   \n",
       "00bumpN0Mhw  [583, 316, 178, 107, 92, 84, 135, 122, 133, 90...   \n",
       "00f0ct78HcU  [38, 11, 4, 4, 0, 1, 0, 0, 0, 0, 1, 0, 0, 0, 0...   \n",
       "00g2ZbI3ung  [18, 3, 1, 1, 5, 5, 3, 2, 1, 1, 1, 0, 2, 1, 0,...   \n",
       "\n",
       "                                                dailyViewcount  \\\n",
       "00-6OyXVA0M  [90158, 695628, 312298, 170348, 82346, 61530, ...   \n",
       "00ATf2HR-FA  [14939, 40664, 21261, 30914, 31073, 20395, 117...   \n",
       "00bumpN0Mhw  [89627, 63829, 46999, 42951, 42902, 36271, 416...   \n",
       "00f0ct78HcU  [91431, 52484, 26459, 14774, 7700, 5314, 4872,...   \n",
       "00g2ZbI3ung  [15512, 5027, 2691, 1861, 2563, 3891, 2751, 22...   \n",
       "\n",
       "                                                     watchTime  \n",
       "00-6OyXVA0M  [59311.9833333, 455426.75, 206253.816667, 1119...  \n",
       "00ATf2HR-FA  [2937.13333333, 9039.33333333, 5082.71666667, ...  \n",
       "00bumpN0Mhw  [235606.866667, 177160.183333, 133966.883333, ...  \n",
       "00f0ct78HcU  [119054.283333, 68698.1166667, 34243.9166667, ...  \n",
       "00g2ZbI3ung  [11655.7333333, 3733.05, 2094.01666667, 1368.9...  "
      ]
     },
     "execution_count": 4,
     "metadata": {},
     "output_type": "execute_result"
    }
   ],
   "source": [
    "active_series = {}\n",
    "for video in dataset:\n",
    "    active_series[video['YoutubeID']] = (video['dailyTweets'], video['numShare'], video['dailyViewcount'], video['watchTime'])\n",
    "pd_active = pd.DataFrame.from_dict(active_series, orient=\"index\", columns=(\"dailyTweets\", \"numShare\", \"dailyViewcount\", \"watchTime\"))\n",
    "pd_active.head()"
   ]
  },
  {
   "cell_type": "markdown",
   "metadata": {},
   "source": [
    "## Reproducing fitting and forecasting"
   ]
  },
  {
   "cell_type": "code",
   "execution_count": 5,
   "metadata": {},
   "outputs": [],
   "source": [
    "import sys\n",
    "sys.path.insert(0, '../')\n",
    "from pyhip import HIP"
   ]
  },
  {
   "cell_type": "code",
   "execution_count": 6,
   "metadata": {},
   "outputs": [
    {
     "name": "stdout",
     "output_type": "stream",
     "text": [
      "dataset size: 14041\n"
     ]
    }
   ],
   "source": [
    "active_videos = {}\n",
    "for video in dataset:\n",
    "    active_videos[video['YoutubeID']] = (video['numShare'], video['dailyViewcount'], video['watchTime'])\n",
    "print(\"dataset size:\", len(active_videos))"
   ]
  },
  {
   "cell_type": "code",
   "execution_count": 7,
   "metadata": {},
   "outputs": [
    {
     "name": "stdout",
     "output_type": "stream",
     "text": [
      "Video 00-6OyXVA0M has record of 130 days\n"
     ]
    }
   ],
   "source": [
    "test_vid = '00-6OyXVA0M'\n",
    "daily_share, daily_view, daily_watch = active_videos[test_vid]\n",
    "print(\"Video {} has record of {} days\".format(test_vid, len(daily_share)))\n",
    "num_train = 90\n",
    "num_test = 30\n",
    "num_initialization = 25"
   ]
  },
  {
   "cell_type": "code",
   "execution_count": 8,
   "metadata": {},
   "outputs": [
    {
     "name": "stdout",
     "output_type": "stream",
     "text": [
      "--- Finish initialization set 5...\n",
      "--- Finish initialization set 10...\n",
      "--- Finish initialization set 15...\n",
      "--- Finish initialization set 20...\n",
      "--- Finish initialization set 25...\n",
      "--- Model fitting RMSE: 14209.49\n",
      "--- Model forecast RMSE: 417.63\n",
      "--- mu=436.93, theta=134.85, C=0.07\n",
      "--- c=0.00, gamma=0.00, eta=0.00\n",
      "--- endo=1.07, viral=468.63\n"
     ]
    },
    {
     "data": {
      "image/png": "[encoded data removed]",
      "text/plain": [
       "<Figure size 576x432 with 2 Axes>"
      ]
     },
     "metadata": {
      "needs_background": "light"
     },
     "output_type": "display_data"
    }
   ],
   "source": [
    "hip_model = HIP()\n",
    "hip_model.initial(daily_share, daily_view, num_train, num_test, num_initialization)\n",
    "hip_model.fit_with_bfgs()\n",
    "hip_model.print_parameters()\n",
    "hip_model.plot_func('YouTubeID={0}'.format(test_vid))"
   ]
  },
  {
   "cell_type": "markdown",
   "metadata": {},
   "source": [
    "## Reproduce visualizations in paper"
   ]
  },
  {
   "cell_type": "code",
   "execution_count": 9,
   "metadata": {},
   "outputs": [
    {
     "data": {
      "text/html": [
       "<div>\n",
       "<style scoped>\n",
       "    .dataframe tbody tr th:only-of-type {\n",
       "        vertical-align: middle;\n",
       "    }\n",
       "\n",
       "    .dataframe tbody tr th {\n",
       "        vertical-align: top;\n",
       "    }\n",
       "\n",
       "    .dataframe thead th {\n",
       "        text-align: right;\n",
       "    }\n",
       "</style>\n",
       "<table border=\"1\" class=\"dataframe\">\n",
       "  <thead>\n",
       "    <tr style=\"text-align: right;\">\n",
       "      <th></th>\n",
       "      <th>share_day60</th>\n",
       "    </tr>\n",
       "  </thead>\n",
       "  <tbody>\n",
       "    <tr>\n",
       "      <th>00-6OyXVA0M</th>\n",
       "      <td>5025</td>\n",
       "    </tr>\n",
       "    <tr>\n",
       "      <th>00ATf2HR-FA</th>\n",
       "      <td>190</td>\n",
       "    </tr>\n",
       "    <tr>\n",
       "      <th>00bumpN0Mhw</th>\n",
       "      <td>4531</td>\n",
       "    </tr>\n",
       "    <tr>\n",
       "      <th>00f0ct78HcU</th>\n",
       "      <td>67</td>\n",
       "    </tr>\n",
       "    <tr>\n",
       "      <th>00g2ZbI3ung</th>\n",
       "      <td>82</td>\n",
       "    </tr>\n",
       "  </tbody>\n",
       "</table>\n",
       "</div>"
      ],
      "text/plain": [
       "             share_day60\n",
       "00-6OyXVA0M         5025\n",
       "00ATf2HR-FA          190\n",
       "00bumpN0Mhw         4531\n",
       "00f0ct78HcU           67\n",
       "00g2ZbI3ung           82"
      ]
     },
     "execution_count": 9,
     "metadata": {},
     "output_type": "execute_result"
    }
   ],
   "source": [
    "# shares: Popularity scale at 60 days\n",
    "days = 60\n",
    "shares = {}\n",
    "for sample in dataset:\n",
    "    counts = 0 \n",
    "    for day in range(days):\n",
    "        counts += sample[\"numShare\"][day]\n",
    "    shares[sample[\"YoutubeID\"]] = counts\n",
    "pd_shares = pd.DataFrame.from_dict(shares, orient=\"index\", columns=(\"share_day{}\".format(days),))\n",
    "pd_shares.head()"
   ]
  },
  {
   "cell_type": "code",
   "execution_count": 10,
   "metadata": {},
   "outputs": [
    {
     "data": {
      "text/html": [
       "<div>\n",
       "<style scoped>\n",
       "    .dataframe tbody tr th:only-of-type {\n",
       "        vertical-align: middle;\n",
       "    }\n",
       "\n",
       "    .dataframe tbody tr th {\n",
       "        vertical-align: top;\n",
       "    }\n",
       "\n",
       "    .dataframe thead th {\n",
       "        text-align: right;\n",
       "    }\n",
       "</style>\n",
       "<table border=\"1\" class=\"dataframe\">\n",
       "  <thead>\n",
       "    <tr style=\"text-align: right;\">\n",
       "      <th></th>\n",
       "      <th>share_day60</th>\n",
       "    </tr>\n",
       "  </thead>\n",
       "  <tbody>\n",
       "    <tr>\n",
       "      <th>XhTrsy3DBxU</th>\n",
       "      <td>0</td>\n",
       "    </tr>\n",
       "    <tr>\n",
       "      <th>WXv-U0JNApc</th>\n",
       "      <td>0</td>\n",
       "    </tr>\n",
       "    <tr>\n",
       "      <th>cEija9njOyo</th>\n",
       "      <td>0</td>\n",
       "    </tr>\n",
       "    <tr>\n",
       "      <th>2fkJOAfD9M0</th>\n",
       "      <td>0</td>\n",
       "    </tr>\n",
       "    <tr>\n",
       "      <th>7mgjRO9v7Yg</th>\n",
       "      <td>0</td>\n",
       "    </tr>\n",
       "    <tr>\n",
       "      <th>-i7ZM-aeDzo</th>\n",
       "      <td>0</td>\n",
       "    </tr>\n",
       "    <tr>\n",
       "      <th>K878L-IlYMQ</th>\n",
       "      <td>0</td>\n",
       "    </tr>\n",
       "    <tr>\n",
       "      <th>_Beh7wJcIGY</th>\n",
       "      <td>1</td>\n",
       "    </tr>\n",
       "    <tr>\n",
       "      <th>3rfPwnJ9iE4</th>\n",
       "      <td>1</td>\n",
       "    </tr>\n",
       "    <tr>\n",
       "      <th>WKDE0KCDkvI</th>\n",
       "      <td>1</td>\n",
       "    </tr>\n",
       "  </tbody>\n",
       "</table>\n",
       "</div>"
      ],
      "text/plain": [
       "             share_day60\n",
       "XhTrsy3DBxU            0\n",
       "WXv-U0JNApc            0\n",
       "cEija9njOyo            0\n",
       "2fkJOAfD9M0            0\n",
       "7mgjRO9v7Yg            0\n",
       "-i7ZM-aeDzo            0\n",
       "K878L-IlYMQ            0\n",
       "_Beh7wJcIGY            1\n",
       "3rfPwnJ9iE4            1\n",
       "WKDE0KCDkvI            1"
      ]
     },
     "metadata": {},
     "output_type": "display_data"
    },
    {
     "data": {
      "text/html": [
       "<div>\n",
       "<style scoped>\n",
       "    .dataframe tbody tr th:only-of-type {\n",
       "        vertical-align: middle;\n",
       "    }\n",
       "\n",
       "    .dataframe tbody tr th {\n",
       "        vertical-align: top;\n",
       "    }\n",
       "\n",
       "    .dataframe thead th {\n",
       "        text-align: right;\n",
       "    }\n",
       "</style>\n",
       "<table border=\"1\" class=\"dataframe\">\n",
       "  <thead>\n",
       "    <tr style=\"text-align: right;\">\n",
       "      <th></th>\n",
       "      <th>share_day60</th>\n",
       "    </tr>\n",
       "  </thead>\n",
       "  <tbody>\n",
       "    <tr>\n",
       "      <th>0HDdjwpPM3Y</th>\n",
       "      <td>95119</td>\n",
       "    </tr>\n",
       "    <tr>\n",
       "      <th>7RMQksXpQSk</th>\n",
       "      <td>107896</td>\n",
       "    </tr>\n",
       "    <tr>\n",
       "      <th>1Nr_tqkMsJs</th>\n",
       "      <td>113597</td>\n",
       "    </tr>\n",
       "    <tr>\n",
       "      <th>b8I-7Wk_Vbc</th>\n",
       "      <td>127461</td>\n",
       "    </tr>\n",
       "    <tr>\n",
       "      <th>9G7HxYcwE3g</th>\n",
       "      <td>129473</td>\n",
       "    </tr>\n",
       "    <tr>\n",
       "      <th>8Gv0H-vPoDc</th>\n",
       "      <td>146939</td>\n",
       "    </tr>\n",
       "    <tr>\n",
       "      <th>VPRjCeoBqrI</th>\n",
       "      <td>176699</td>\n",
       "    </tr>\n",
       "    <tr>\n",
       "      <th>6eh5ee491xA</th>\n",
       "      <td>231022</td>\n",
       "    </tr>\n",
       "    <tr>\n",
       "      <th>YoB8t0B4jx4</th>\n",
       "      <td>271455</td>\n",
       "    </tr>\n",
       "    <tr>\n",
       "      <th>8iPcqtHoR3U</th>\n",
       "      <td>443212</td>\n",
       "    </tr>\n",
       "  </tbody>\n",
       "</table>\n",
       "</div>"
      ],
      "text/plain": [
       "             share_day60\n",
       "0HDdjwpPM3Y        95119\n",
       "7RMQksXpQSk       107896\n",
       "1Nr_tqkMsJs       113597\n",
       "b8I-7Wk_Vbc       127461\n",
       "9G7HxYcwE3g       129473\n",
       "8Gv0H-vPoDc       146939\n",
       "VPRjCeoBqrI       176699\n",
       "6eh5ee491xA       231022\n",
       "YoB8t0B4jx4       271455\n",
       "8iPcqtHoR3U       443212"
      ]
     },
     "execution_count": 10,
     "metadata": {},
     "output_type": "execute_result"
    }
   ],
   "source": [
    "pd_shares.sort_values(by=[\"share_day60\"], inplace=True)\n",
    "display(pd_shares.head(10))\n",
    "pd_shares.tail(10)"
   ]
  },
  {
   "cell_type": "code",
   "execution_count": 11,
   "metadata": {},
   "outputs": [],
   "source": [
    "bin_width = len(pd_shares) // 40\n",
    "pop_scales = []\n",
    "for i in range(40):\n",
    "    if i!=40-1:\n",
    "        log_vals = [math.log(x, 10) if x>=10 else -1 for x in pd_shares[\"share_day{}\".format(days)].\n",
    "                           iloc[bin_width*i:bin_width*i+bin_width]]\n",
    "    else:\n",
    "        log_vals = [math.log(x, 10) if x>=10 else -1 for x in pd_shares[\"share_day{}\".format(days)].\n",
    "                   iloc[bin_width*i:-1]]\n",
    "    pop_scales.append(list(filter(lambda x: x!=-1,log_vals)))"
   ]
  },
  {
   "cell_type": "code",
   "execution_count": 12,
   "metadata": {},
   "outputs": [
    {
     "data": {
      "image/png": "[encoded data removed]",
      "text/plain": [
       "<Figure size 864x432 with 1 Axes>"
      ]
     },
     "metadata": {
      "needs_background": "light"
     },
     "output_type": "display_data"
    }
   ],
   "source": [
    "fig = plt.figure(figsize=(12, 6))\n",
    "ax1 = fig.add_subplot(111)\n",
    "ax1.boxplot(pop_scales)\n",
    "ax1.set_ylabel(\"Log of share upto {} days\".format(days))\n",
    "# yticklabels = [\"10e{}\".format(y.get_text()) for y in ax1.get_yticklabels()]\n",
    "# ax1.set_yticklabels(yticklabels)\n",
    "pass"
   ]
  },
  {
   "cell_type": "code",
   "execution_count": 13,
   "metadata": {},
   "outputs": [],
   "source": [
    "def plot_pop_percentile(pop_att, days, dataset):\n",
    "    shares = {}\n",
    "    for sample in dataset:\n",
    "        counts = 0 \n",
    "        for day in range(days):\n",
    "            counts += sample[pop_att][day]\n",
    "        shares[sample[\"YoutubeID\"]] = counts\n",
    "    col_name = \"{}_day{}\".format(pop_att, days)\n",
    "    pd_shares = pd.DataFrame.from_dict(shares, orient=\"index\", columns=(col_name,))\n",
    "    pd_shares.sort_values(by=[col_name], inplace=True)\n",
    "    fig = plt.figure(figsize=(12, 6))\n",
    "    ax1 = fig.add_subplot(111)\n",
    "    ax1.boxplot(pop_scales)\n",
    "    ax1.set_ylabel(\"Log of share upto {} days\".format(days))\n",
    "    pass"
   ]
  },
  {
   "cell_type": "code",
   "execution_count": null,
   "metadata": {},
   "outputs": [],
   "source": []
  }
 ],
 "metadata": {
  "kernelspec": {
   "display_name": "hip-long",
   "language": "python",
   "name": "hip-long"
  },
  "language_info": {
   "codemirror_mode": {
    "name": "ipython",
    "version": 3
   },
   "file_extension": ".py",
   "mimetype": "text/x-python",
   "name": "python",
   "nbconvert_exporter": "python",
   "pygments_lexer": "ipython3",
   "version": "3.7.3"
  }
 },
 "nbformat": 4,
 "nbformat_minor": 2
}
