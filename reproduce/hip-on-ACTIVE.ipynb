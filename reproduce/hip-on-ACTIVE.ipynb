{
 "cells": [
  {
   "cell_type": "code",
   "execution_count": 1,
   "metadata": {},
   "outputs": [],
   "source": [
    "from __future__ import print_function, division\n",
    "import os, bz2, json, time\n",
    "from datetime import timedelta\n",
    "\n",
    "import math\n",
    "import numpy as np\n",
    "import pandas as pd\n",
    "from matplotlib import pyplot as plt\n",
    "\n",
    "\n",
    "import sys\n",
    "sys.path.insert(0, '../')\n",
    "from pyhip import HIP"
   ]
  },
  {
   "cell_type": "code",
   "execution_count": 2,
   "metadata": {},
   "outputs": [],
   "source": [
    "dataset_path = \"../data/active-dataset.json.bz2\"\n",
    "vidsOrder_path = \"../data/active-dataset-vids-order.json\"\n",
    "\n",
    "output_folder = \"../output/active_output\""
   ]
  },
  {
   "cell_type": "code",
   "execution_count": 3,
   "metadata": {},
   "outputs": [
    {
     "name": "stdout",
     "output_type": "stream",
     "text": [
      "#videos evaluated on HIP: 800\n",
      "00-6OyXVA0M: {'category': 'Entertainment', 'hipParams': [436.91249394708854, 555.6561615624704, 10.455729533740234, 0.009096105449466808, 0.0, 0.0, 1.0725620759963126, 468.6157715366156], 'predictViewcount': [110975.7734625605, 618748.4265383878, 257258.06635510508, 123137.11162190908, 84790.28534167168, 100109.41854426476, 169304.15340230704, 329963.14732377225, 155581.31787920068, 77810.07187921746, 38032.524295931486, 32283.065155570424, 28398.79686321676, 21145.414434624883, 20654.701124138963, 20621.502881049113, 18434.694449525592, 11733.062820447245, 11716.589618170869, 13026.212637938346, 7434.950184137273, 7930.50931668581, 8400.947888275772, 6685.1245080265135, 7442.868842595107, 7057.220050042333, 3972.742282472278, 5511.717986450817, 4305.096876507967, 728.1653488780993, 1360.0000751826283, 2276.5705977673083, 3649.3168541160903, 1557.6248302094411, 3163.7654994538293, 3272.4257848682837, 1532.1270068003046, 1851.3030125603054, 1872.8962369567982, 563.6196022074907, 1348.868056587162, 1401.9924950675697, 968.6740304345384, 1376.2712166106523, 2714.5838837592305, 183.64982920800105, 1760.0744434829835, 1866.724347692231, 1000.1145491352701, 1815.3107569622175, 122.81127596391771, 3503.60850670758, 2858.504700622359, 1504.1239906171816, 2286.3210175692893, 1902.3265237864946, 1439.435638225895, 971.2071725809931, 939.5300974091883, 500.4745532952158, 1781.5085965462195, 5800.386878650054, 5635.363684028658, 5624.199364631901, 6060.356558526298, 2594.563963360924, 3233.9175753729733, 1092.6093157402331, 4006.130778063548, 2018.6768678206734, 1010.3945977778151, 1379.0937394705622, 93.29987230486927, 3064.6994768368468, 644.2487044293789, 480.49787189167574, 1343.2446195413218, 527.7870646093558, 472.6188888953529, 2216.5365703500493, 1460.6929004280578, 4467.945242388718, 302.2700405703014, 1768.0994603880185, 2304.179758361407, 592.7972398999743, 40.104530390065726, 876.538180955061, 1370.0379470763885, 966.5122083902431, 502.29997490144734, 33.982116063434155, 2.2989931711131013, 437.06802780469053, 29.56897708662908, 438.91292488764753, 466.60628391432834, 905.3923175541387, 498.1650289966931, 907.5273623317453, 61.39697730136353, 4.153691644138196, 874.1059977261416, 496.0484146134227, 33.55917905785917, 2.270380200519602, 437.06609205048744, 466.48134007407737, 468.47137077748016, 905.5184963345864, 2682.736035109154, 618.4077196446874, 41.83715698495223, 439.7429044497084, 29.749940600760656, 875.837661565072, 933.0780608688882, 63.12555951632653, 441.1831294184001, 29.8473761860464], 'dailyViewcount': [90158, 695628, 312298, 170348, 82346, 61530, 76116, 229360, 109262, 40695, 26952, 18167, 13951, 11266, 11866, 18949, 18264, 13971, 8641, 7085, 5337, 4063, 4119, 5385, 4898, 4270, 3447, 3061, 2491, 1897, 1836, 2192, 2087, 2118, 2010, 1993, 1792, 1921, 1977, 1671, 1594, 1404, 1574, 1483, 1459, 1671, 1400, 1252, 1383, 1251, 1375, 1176, 1528, 1270, 1760, 1526, 1295, 1049, 1034, 1308, 1353, 1965, 2950, 2402, 1800, 1636, 2010, 1573, 1443, 1254, 1307, 1224, 888, 1021, 861, 982, 855, 1176, 1275, 1729, 2061, 2982, 1760, 1872, 1708, 1139, 1084, 1152, 901, 629, 585, 601, 465, 498, 627, 482, 629, 658, 714, 747, 566, 664, 546, 433, 357, 463, 379, 373, 450, 493, 452, 452, 423, 1056, 1407, 1153, 1081, 664, 576, 471]}\n"
     ]
    }
   ],
   "source": [
    "active_hip_res = {}\n",
    "for (dirpath, dirnames, dirfiles) in os.walk(output_folder):\n",
    "    # trivial loop\n",
    "    for output_json in dirfiles:\n",
    "        res_path = os.path.join(output_folder, output_json)\n",
    "        with open(res_path, \"r\") as infile:\n",
    "            active_hip_res = {**active_hip_res, **json.loads(infile.readline())}\n",
    "print(\"#videos evaluated on HIP:\",len(active_hip_res))\n",
    "vids = list(active_hip_res.keys())\n",
    "print(vids[0]+\":\" ,active_hip_res[vids[0]])"
   ]
  },
  {
   "cell_type": "markdown",
   "metadata": {},
   "source": [
    "### read results from file and evaluate\n",
    "+ train, test done by hip-on-ACTIVE.py"
   ]
  },
  {
   "cell_type": "code",
   "execution_count": 4,
   "metadata": {},
   "outputs": [],
   "source": [
    "def pop_perc_at(days, viewcounts, vids, num_train):\n",
    "    \"\"\" compute popularity percentile for a series at several evaluation days\n",
    "    :param days: list, time points to chop and compute popularity percentile \n",
    "    :param viewcounts: list, viewcount history for multiple videos\n",
    "    :return: list of dataframe\n",
    "    \"\"\"\n",
    "    viewcount_eval = []\n",
    "    for i in range(len(viewcounts)):\n",
    "        viewcount_accu = [np.sum(viewcounts[i][:num_train+day]) for day in days]\n",
    "        viewcount_eval.append(viewcount_accu)\n",
    "        \n",
    "    df_viewcount_eval = pd.DataFrame(viewcount_eval, columns =days, index = vids)\n",
    "    \n",
    "    pop_perc_col = np.linspace(0, 1, len(df_viewcount_eval[days[0]]))\n",
    "    pop_percs = []\n",
    "    for day in days:\n",
    "        df_viewcount_sort = df_viewcount_eval.loc[:,[day]].sort_values(by=[day], inplace=False)\n",
    "        df_viewcount_sort[day] = pop_perc_col\n",
    "        pop_percs.append(df_viewcount_sort)\n",
    "    return pop_percs"
   ]
  },
  {
   "cell_type": "code",
   "execution_count": 5,
   "metadata": {},
   "outputs": [],
   "source": [
    "def perc_error(days, percs_pred, percs_gt):\n",
    "    \"\"\" compute HIP prediction percentile error at different days\n",
    "    \"\"\"\n",
    "    perc_error = []\n",
    "    for i, day in enumerate(days):\n",
    "        error = []\n",
    "        perc_pred = percs_pred[i]\n",
    "        perc_gt = percs_gt[i]\n",
    "        for ind in perc_pred.index:\n",
    "            error.append(np.abs(perc_pred.loc[ind, day]-perc_gt.loc[ind, day]))\n",
    "        perc_error.append(np.mean(error))\n",
    "    return perc_error\n",
    "\n",
    "def perc_error_cate(days, percs_pred, percs_gt, dataset):\n",
    "    \"\"\" compute HIP prediction percentile error at different days,\n",
    "        and break down to different categories\n",
    "    \"\"\"\n",
    "    perc_error = []\n",
    "    for i, day in enumerate(days):\n",
    "        error = {}\n",
    "        perc_pred = percs_pred[i]\n",
    "        perc_gt = percs_gt[i]\n",
    "        for ind in perc_pred.index:\n",
    "            if dataset[ind][\"category\"] in error:\n",
    "                error[dataset[ind][\"category\"]].append(np.abs(perc_pred.loc[ind, day]-perc_gt.loc[ind, day]))\n",
    "            else:\n",
    "                error[dataset[ind][\"category\"]] = [np.abs(perc_pred.loc[ind, day]-perc_gt.loc[ind, day])]                \n",
    "        perc_error.append({cate: np.mean(error[cate]) for cate in error.keys()})\n",
    "    return perc_error"
   ]
  },
  {
   "cell_type": "code",
   "execution_count": 6,
   "metadata": {},
   "outputs": [],
   "source": [
    "# copy train params\n",
    "num_train = 90\n",
    "num_test = 30\n",
    "num_initialization = 25"
   ]
  },
  {
   "cell_type": "code",
   "execution_count": 7,
   "metadata": {},
   "outputs": [],
   "source": [
    "days = [15,30]\n",
    "viewcounts_pred = [active_hip_res[vid][\"predictViewcount\"] for vid in vids]\n",
    "viewcounts_gt = [active_hip_res[vid][\"dailyViewcount\"] for vid in vids]\n",
    "\n",
    "pop_percs_pred = pop_perc_at(days, viewcounts_pred, vids, num_train)\n",
    "pop_percs_gt = pop_perc_at(days, viewcounts_gt, vids, num_train)"
   ]
  },
  {
   "cell_type": "code",
   "execution_count": 8,
   "metadata": {},
   "outputs": [
    {
     "name": "stdout",
     "output_type": "stream",
     "text": [
      "Mean absolute percentile error at [15, 30]:[0.0064267834793491855, 0.009130162703379225]\n",
      "Mean absolute percentile error at [15, 30]:\n",
      "[{'Education': 0.002145539066690507, 'Music': 0.005789256274776971, 'People & Blogs': 0.008400330922127238, 'News & Politics': 0.005844935034772846, 'Nonprofits & Activism': 0.005632040050062576, 'Film & Animation': 0.01243742177722152, 'Entertainment': 0.006219896082223988, 'Sports': 0.007008760951188983, 'Howto & Style': 0.00346587080003852, 'Travel & Events': 0.0018773466833541946, 'Gaming': 0.005466391813296036, 'Autos & Vehicles': 0.006257822277847301, 'Comedy': 0.005666173626123557, 'Science & Technology': 0.006492490613266568, 'Pets & Animals': 0.006883604505632024, 'Shows': 0.0012515644555695093}, {'Education': 0.00366529590559628, 'Music': 0.008711628451820934, 'People & Blogs': 0.010511020131096078, 'News & Politics': 0.008206133956104925, 'Nonprofits & Activism': 0.006257822277847301, 'Film & Animation': 0.021276595744680847, 'Entertainment': 0.008258429096977285, 'Sports': 0.009553608677513564, 'Howto & Style': 0.004909983633387885, 'Travel & Events': 0.0012515644555694608, 'Gaming': 0.007730251049105502, 'Comedy': 0.0088519740584822, 'Autos & Vehicles': 0.007509386733416769, 'Science & Technology': 0.011342302878598253, 'Pets & Animals': 0.008760951188986288, 'Shows': 0.0025031289111389077}]\n"
     ]
    }
   ],
   "source": [
    "mAPE = perc_error(days, pop_percs_pred, pop_percs_gt)\n",
    "print(\"Mean absolute percentile error at {}:{}\".format(days, mAPE))\n",
    "mAPE_cate = perc_error_cate(days, pop_percs_pred, pop_percs_gt, active_hip_res)\n",
    "print(\"Mean absolute percentile error at {}:\\n{}\".format(days, mAPE_cate))"
   ]
  },
  {
   "cell_type": "markdown",
   "metadata": {},
   "source": [
    "## analysis and visualization"
   ]
  },
  {
   "cell_type": "code",
   "execution_count": 9,
   "metadata": {},
   "outputs": [
    {
     "data": {
      "text/plain": [
       "<BarContainer object of 2 artists>"
      ]
     },
     "execution_count": 9,
     "metadata": {},
     "output_type": "execute_result"
    },
    {
     "data": {
      "image/png": "[encoded data removed]",
      "text/plain": [
       "<Figure size 432x216 with 1 Axes>"
      ]
     },
     "metadata": {
      "needs_background": "light"
     },
     "output_type": "display_data"
    }
   ],
   "source": [
    "figure1 = plt.figure(figsize=(6,3))\n",
    "ax1 = figure1.add_subplot(111)\n",
    "ax1.bar(days, mAPE)"
   ]
  },
  {
   "cell_type": "code",
   "execution_count": 10,
   "metadata": {},
   "outputs": [
    {
     "data": {
      "text/plain": [
       "<BarContainer object of 16 artists>"
      ]
     },
     "execution_count": 10,
     "metadata": {},
     "output_type": "execute_result"
    },
    {
     "data": {
      "image/png": "[encoded data removed]",
      "text/plain": [
       "<Figure size 1296x432 with 2 Axes>"
      ]
     },
     "metadata": {
      "needs_background": "light"
     },
     "output_type": "display_data"
    }
   ],
   "source": [
    "categories = ['Education', 'Music', 'People & Blogs', 'News & Politics', 'Nonprofits & Activism',\\\n",
    "              'Film & Animation', 'Entertainment', 'Sports', 'Howto & Style', 'Travel & Events',\\\n",
    "              'Gaming', 'Autos & Vehicles', 'Comedy', 'Science & Technology', 'Pets & Animals', 'Shows']\n",
    "figure2 = plt.figure(figsize=(18,6))\n",
    "ax2 = figure2.add_subplot(211)\n",
    "ax2.bar([cate.replace(\"&\",\"&\\n\") for cate in categories], [mAPE_cate[0][cate] for cate in categories])\n",
    "ax2 = figure2.add_subplot(212)\n",
    "ax2.bar([cate.replace(\"&\",\"&\\n\") for cate in categories], [mAPE_cate[1][cate] for cate in categories])"
   ]
  },
  {
   "cell_type": "code",
   "execution_count": null,
   "metadata": {},
   "outputs": [],
   "source": []
  }
 ],
 "metadata": {
  "kernelspec": {
   "display_name": "hip-long",
   "language": "python",
   "name": "hip-long"
  },
  "language_info": {
   "codemirror_mode": {
    "name": "ipython",
    "version": 3
   },
   "file_extension": ".py",
   "mimetype": "text/x-python",
   "name": "python",
   "nbconvert_exporter": "python",
   "pygments_lexer": "ipython3",
   "version": "3.7.4"
  }
 },
 "nbformat": 4,
 "nbformat_minor": 2
}
