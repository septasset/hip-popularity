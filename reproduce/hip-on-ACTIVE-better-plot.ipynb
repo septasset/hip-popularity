{
 "cells": [
  {
   "cell_type": "code",
   "execution_count": 1,
   "metadata": {},
   "outputs": [],
   "source": [
    "from __future__ import print_function, division\n",
    "import os, bz2, json, time\n",
    "from datetime import timedelta\n",
    "\n",
    "import math\n",
    "import numpy as np\n",
    "import pandas as pd\n",
    "from matplotlib import pyplot as plt\n",
    "\n",
    "\n",
    "import sys\n",
    "sys.path.insert(0, '../')\n",
    "from pyhip import HIP"
   ]
  },
  {
   "cell_type": "code",
   "execution_count": 2,
   "metadata": {},
   "outputs": [],
   "source": [
    "dataset_path = \"../data/active-dataset.json.bz2\"\n",
    "vidsOrder_path = \"../data/active-dataset-vids-order.json\"\n",
    "\n",
    "output_folder = \"../output/active_output\""
   ]
  },
  {
   "cell_type": "code",
   "execution_count": 3,
   "metadata": {},
   "outputs": [
    {
     "name": "stdout",
     "output_type": "stream",
     "text": [
      "#videos evaluated on HIP: 14041\n"
     ]
    }
   ],
   "source": [
    "active_hip_res = {}\n",
    "for (dirpath, dirnames, dirfiles) in os.walk(output_folder):\n",
    "    # trivial loop\n",
    "    for output_json in dirfiles:\n",
    "        res_path = os.path.join(output_folder, output_json)\n",
    "        with open(res_path, \"r\") as infile:\n",
    "            active_hip_res = {**active_hip_res, **json.loads(infile.readline())}\n",
    "print(\"#videos evaluated on HIP:\",len(active_hip_res))\n",
    "vids = list(active_hip_res.keys())\n",
    "# print(vids[0]+\":\" ,active_hip_res[vids[0]])"
   ]
  },
  {
   "cell_type": "code",
   "execution_count": 4,
   "metadata": {},
   "outputs": [],
   "source": [
    "plt.rcParams.update({'axes.labelsize': 20, \n",
    "                     'xtick.labelsize': 14,\n",
    "                     'ytick.labelsize': 14})"
   ]
  },
  {
   "cell_type": "markdown",
   "metadata": {},
   "source": [
    "## Define util funcs"
   ]
  },
  {
   "cell_type": "code",
   "execution_count": 5,
   "metadata": {},
   "outputs": [],
   "source": [
    "def total_views_at(days, viewcounts, vids, accumulate=True):\n",
    "    \"\"\" compute total number of views at several evaluation days\n",
    "    :return: a dataframe\n",
    "    :param accumulate: when false, sum from last day to current day\n",
    "    \"\"\"\n",
    "    viewcount_eval = []\n",
    "    for i in range(len(viewcounts)):\n",
    "        if accumulate:\n",
    "            viewcount_accu = [np.sum(viewcounts[i][:day]) for day in days]\n",
    "        else:\n",
    "            viewcount_accu = []\n",
    "            for j in range(len(days)):\n",
    "                if j==0: viewcount_accu.append(np.sum(viewcounts[i][:days[j]]))\n",
    "                else: viewcount_accu.append(np.sum(viewcounts[i][days[j-1]:days[j]]))        \n",
    "        viewcount_eval.append(viewcount_accu)\n",
    "    \n",
    "    df_viewcount_eval = pd.DataFrame(viewcount_eval, columns =days, index = vids)\n",
    "    return df_viewcount_eval\n",
    "\n",
    "def pop_perc_at(days, viewcounts, vids, accumulate=True):\n",
    "    \"\"\" compute popularity percentile for a series at several evaluation days\n",
    "    :param days: list, time points(from day 0) to chop and compute popularity percentile \n",
    "    :param viewcounts: list, viewcount history for multiple videos\n",
    "    :param accumulate: when false, sum from last day to current day\n",
    "    :return: list of dataframe\n",
    "    \"\"\"\n",
    "    df_viewcount_eval = total_views_at(days, viewcounts, vids, accumulate)\n",
    "    \n",
    "    pop_perc_col = np.linspace(0, 1, len(df_viewcount_eval.index))\n",
    "    pop_percs = []\n",
    "    for day in days:\n",
    "        df_viewcount_sort = df_viewcount_eval.loc[:,[day]].sort_values(by=[day], inplace=False)\n",
    "        df_viewcount_sort[day] = pop_perc_col\n",
    "        pop_percs.append(df_viewcount_sort)\n",
    "    return pop_percs\n",
    "\n",
    "def perc_error(days, percs_pred, percs_gt):\n",
    "    \"\"\" compute HIP prediction percentile error at different days\n",
    "    \"\"\"\n",
    "    perc_error = []\n",
    "    for i, day in enumerate(days):\n",
    "        error = []\n",
    "        perc_pred = percs_pred[i]\n",
    "        perc_gt = percs_gt[i]\n",
    "        for ind in perc_pred.index:\n",
    "            error.append(np.abs(perc_pred.loc[ind, day]-perc_gt.loc[ind, day]))\n",
    "#         display(pd.DataFrame(error).describe())\n",
    "        perc_error.append(np.mean(error))\n",
    "    return perc_error\n",
    "#     return perc_error, error\n",
    "\n",
    "def perc_error_cate(days, percs_pred, percs_gt, dataset):\n",
    "    \"\"\" compute HIP prediction percentile error at different days,\n",
    "        and break down to different categories\n",
    "    \"\"\"\n",
    "    perc_error = []\n",
    "    for i, day in enumerate(days):\n",
    "        error = {}\n",
    "        perc_pred = percs_pred[i]\n",
    "        perc_gt = percs_gt[i]\n",
    "        for ind in perc_pred.index:\n",
    "            if dataset[ind][\"category\"] in error:\n",
    "                error[dataset[ind][\"category\"]].append(np.abs(perc_pred.loc[ind, day]-perc_gt.loc[ind, day]))\n",
    "            else:\n",
    "                error[dataset[ind][\"category\"]] = [np.abs(perc_pred.loc[ind, day]-perc_gt.loc[ind, day])]                \n",
    "        perc_error.append({cate: np.mean(error[cate]) for cate in error.keys()})\n",
    "    return perc_error"
   ]
  },
  {
   "cell_type": "markdown",
   "metadata": {},
   "source": [
    "### Read results from file and evaluate\n",
    "+ train, test done by hip-on-ACTIVE.py"
   ]
  },
  {
   "cell_type": "code",
   "execution_count": 6,
   "metadata": {},
   "outputs": [],
   "source": [
    "categories = ['Education', 'Music', 'People & Blogs', 'News & Politics', 'Nonprofits & Activism',\\\n",
    "              'Film & Animation', 'Entertainment', 'Sports', 'Howto & Style', 'Travel & Events',\\\n",
    "              'Gaming', 'Autos & Vehicles', 'Comedy', 'Science & Technology', 'Pets & Animals', 'Shows', 'NA']"
   ]
  },
  {
   "cell_type": "code",
   "execution_count": 7,
   "metadata": {},
   "outputs": [],
   "source": [
    "# train params\n",
    "num_train = 90\n",
    "num_test = 30\n",
    "num_initialization = 25\n",
    "days = [num_train,num_train+num_test] # days = [num_train+num_test//2,num_train+num_test] # days = [num_train+num_test-1,num_train+num_test]"
   ]
  },
  {
   "cell_type": "code",
   "execution_count": 8,
   "metadata": {},
   "outputs": [
    {
     "name": "stdout",
     "output_type": "stream",
     "text": [
      "Mean absolute percentile error at [90, 120]:[0.004181851642858694, 0.06542352260605946]\n",
      "Mean absolute percentile error at [90, 120]:\n",
      "[{'NA': 0.004008517608969076, 'People & Blogs': 0.0050881873961301045, 'Music': 0.0036679244547447643, 'Education': 0.003573023806074655, 'Entertainment': 0.0038146118555475264, 'Howto & Style': 0.0037236048265460076, 'Film & Animation': 0.0047066859932357015, 'Nonprofits & Activism': 0.004706397507953927, 'Shows': 0.002073158323158336, 'Gaming': 0.0034333558793990444, 'News & Politics': 0.004801271259604593, 'Science & Technology': 0.005974662340403081, 'Comedy': 0.0042007706531155846, 'Travel & Events': 0.0034393491124260368, 'Sports': 0.004474440043545735, 'Pets & Animals': 0.006089743589743586, 'Autos & Vehicles': 0.00668431809736158}, {'News & Politics': 0.0767219200552534, 'People & Blogs': 0.07515177061075498, 'Film & Animation': 0.0663223427355981, 'Sports': 0.08589410627012252, 'Entertainment': 0.06530415112286457, 'Travel & Events': 0.09971646942800791, 'Music': 0.046536440459738974, 'NA': 0.06569420672129477, 'Gaming': 0.06996802557953635, 'Comedy': 0.05900496097167806, 'Science & Technology': 0.08337916798564945, 'Nonprofits & Activism': 0.09203942044408969, 'Howto & Style': 0.06474777945366181, 'Autos & Vehicles': 0.08232069862504644, 'Education': 0.0605883915205949, 'Pets & Animals': 0.07349685422602088, 'Shows': 0.041091778591778594}]\n"
     ]
    }
   ],
   "source": [
    "# compute forecasting error on whole dataset\n",
    "# get veiwcounts series and corrsponding popularity percentile\n",
    "viewcounts_pred = [active_hip_res[vid][\"predictViewcount\"] for vid in vids] # (No.vids x 120)\n",
    "viewcounts_gt = [active_hip_res[vid][\"dailyViewcount\"] for vid in vids]\n",
    "\n",
    "pop_percs_pred = pop_perc_at(days, viewcounts_pred, vids, accumulate=False)\n",
    "pop_percs_gt = pop_perc_at(days, viewcounts_gt, vids, accumulate=False)\n",
    "\n",
    "mAPE = perc_error(days, pop_percs_pred, pop_percs_gt)\n",
    "print(\"Mean absolute percentile error at {}:{}\".format(days, mAPE))\n",
    "mAPE_cate = perc_error_cate(days, pop_percs_pred, pop_percs_gt, active_hip_res)\n",
    "print(\"Mean absolute percentile error at {}:\\n{}\".format(days, mAPE_cate))"
   ]
  },
  {
   "cell_type": "code",
   "execution_count": 9,
   "metadata": {},
   "outputs": [],
   "source": [
    "# drop 'NA' videos and small-category videos\n",
    "# categories_todrop = [\"Autos & Vehicles\", \"Travel & Events\", \"Pets & Animals\", \"Shows\", \"Movies\", \"Trailers\", 'NA']\n",
    "# vids_clean = list(filter(lambda vid: active_hip_res[vid][\"category\"] not in categories_todrop, vids))\n",
    "\n",
    "# viewcounts_pred_clean = [active_hip_res[vid][\"predictViewcount\"] for vid in vids_clean] # (No.vids x 120)\n",
    "# viewcounts_gt_clean = [active_hip_res[vid][\"dailyViewcount\"] for vid in vids_clean]\n",
    "# print(\"#videos after dropping some categories:\",len(viewcounts_gt_clean))\n",
    "\n",
    "# pop_percs_pred_clean = pop_perc_at(days, viewcounts_pred_clean, vids_clean, accumulate=False)\n",
    "# pop_percs_gt_clean = pop_perc_at(days, viewcounts_gt_clean, vids_clean, accumulate=False)\n",
    "\n",
    "# mAPE_clean = perc_error(days, pop_percs_pred_clean, pop_percs_gt_clean)\n",
    "# print(\"Mean absolute percentile error at {}:{}\".format(days, mAPE_clean))\n",
    "# mAPE_cate_clean = perc_error_cate(days, pop_percs_pred_clean, pop_percs_gt_clean, active_hip_res)\n",
    "# print(\"Mean absolute percentile error at {}:\\n{}\".format(days, mAPE_cate_clean))\n",
    "\n",
    "# Mean absolute percentile error at [90, 120]:[0.0041962034217382154, 0.06502507056099296]"
   ]
  },
  {
   "cell_type": "markdown",
   "metadata": {},
   "source": [
    "## Reproduce result: analysis and visualization"
   ]
  },
  {
   "cell_type": "code",
   "execution_count": 10,
   "metadata": {},
   "outputs": [
    {
     "data": {
      "image/png": "[encoded data removed]",
      "text/plain": [
       "<Figure size 432x216 with 1 Axes>"
      ]
     },
     "metadata": {
      "needs_background": "light"
     },
     "output_type": "display_data"
    }
   ],
   "source": [
    "# mAPE\n",
    "figure1 = plt.figure(figsize=(6,3))\n",
    "ax1 = figure1.add_subplot(111)\n",
    "ax1.bar(days, mAPE)\n",
    "ax1.set_xlabel(\"day\", color=\"orange\")\n",
    "ax1.set_ylabel(\"mean absolute percentile error\", color=\"orange\")\n",
    "pass"
   ]
  },
  {
   "cell_type": "code",
   "execution_count": 12,
   "metadata": {},
   "outputs": [
    {
     "data": {
      "text/plain": [
       "[{'NA': 0.004008517608969076,\n",
       "  'People & Blogs': 0.0050881873961301045,\n",
       "  'Music': 0.0036679244547447643,\n",
       "  'Education': 0.003573023806074655,\n",
       "  'Entertainment': 0.0038146118555475264,\n",
       "  'Howto & Style': 0.0037236048265460076,\n",
       "  'Film & Animation': 0.0047066859932357015,\n",
       "  'Nonprofits & Activism': 0.004706397507953927,\n",
       "  'Shows': 0.002073158323158336,\n",
       "  'Gaming': 0.0034333558793990444,\n",
       "  'News & Politics': 0.004801271259604593,\n",
       "  'Science & Technology': 0.005974662340403081,\n",
       "  'Comedy': 0.0042007706531155846,\n",
       "  'Travel & Events': 0.0034393491124260368,\n",
       "  'Sports': 0.004474440043545735,\n",
       "  'Pets & Animals': 0.006089743589743586,\n",
       "  'Autos & Vehicles': 0.00668431809736158},\n",
       " {'News & Politics': 0.0767219200552534,\n",
       "  'People & Blogs': 0.07515177061075498,\n",
       "  'Film & Animation': 0.0663223427355981,\n",
       "  'Sports': 0.08589410627012252,\n",
       "  'Entertainment': 0.06530415112286457,\n",
       "  'Travel & Events': 0.09971646942800791,\n",
       "  'Music': 0.046536440459738974,\n",
       "  'NA': 0.06569420672129477,\n",
       "  'Gaming': 0.06996802557953635,\n",
       "  'Comedy': 0.05900496097167806,\n",
       "  'Science & Technology': 0.08337916798564945,\n",
       "  'Nonprofits & Activism': 0.09203942044408969,\n",
       "  'Howto & Style': 0.06474777945366181,\n",
       "  'Autos & Vehicles': 0.08232069862504644,\n",
       "  'Education': 0.0605883915205949,\n",
       "  'Pets & Animals': 0.07349685422602088,\n",
       "  'Shows': 0.041091778591778594}]"
      ]
     },
     "execution_count": 12,
     "metadata": {},
     "output_type": "execute_result"
    }
   ],
   "source": [
    "mAPE_cate"
   ]
  },
  {
   "cell_type": "code",
   "execution_count": 21,
   "metadata": {},
   "outputs": [
    {
     "data": {
      "image/png": "[encoded data removed]",
      "text/plain": [
       "<Figure size 1296x360 with 1 Axes>"
      ]
     },
     "metadata": {
      "needs_background": "light"
     },
     "output_type": "display_data"
    },
    {
     "data": {
      "image/png": "[encoded data removed]",
      "text/plain": [
       "<Figure size 1296x360 with 1 Axes>"
      ]
     },
     "metadata": {
      "needs_background": "light"
     },
     "output_type": "display_data"
    }
   ],
   "source": [
    "# mAPE by category\n",
    "figure2 = plt.figure(figsize=(18,5))\n",
    "ax2 = figure2.add_subplot(111)\n",
    "ax2.bar([cate.replace(\"&\",\"\") for cate in categories], [mAPE_cate[0][cate] for cate in categories])\n",
    "# ax2.set_title(\"Training error\")\n",
    "ax2.set_ylabel(\"MAPE\")\n",
    "ax2.set_xlabel(\"category\")\n",
    "ax2.set_xticklabels(['Education', '\\nMusic', 'People', '\\nNews', 'Activism',\\\n",
    "              '\\nFilm', 'Entertainment', '\\nSports', 'Howto', '\\nTravel',\\\n",
    "              'Gaming', '\\nAutos', 'Comedy', '\\nScience', 'Pets', '\\nShows', 'NA'])\n",
    "figure2.savefig(\"hipACTIVETrain.pdf\", bbox_inches='tight')\n",
    "\n",
    "figure2 = plt.figure(figsize=(18,5))\n",
    "ax2 = figure2.add_subplot(111)\n",
    "ax2.bar([cate.replace(\"&\",\"\") for cate in categories], [mAPE_cate[1][cate] for cate in categories])\n",
    "# ax2.set_title(\"Testing error\")\n",
    "ax2.set_ylabel(\"MAPE\")\n",
    "ax2.set_xlabel(\"category\")\n",
    "ax2.set_xticklabels(['Education', '\\nMusic', 'People', '\\nNews', 'Activism',\\\n",
    "              '\\nFilm', 'Entertainment', '\\nSports', 'Howto', '\\nTravel',\\\n",
    "              'Gaming', '\\nAutos', 'Comedy', '\\nScience', 'Pets', '\\nShows', 'NA'])\n",
    "figure2.savefig(\"hipACTIVETest.pdf\", bbox_inches='tight')\n",
    "pass"
   ]
  },
  {
   "cell_type": "markdown",
   "metadata": {},
   "source": [
    "## Daily viewcount analysis (no HIP involved)"
   ]
  },
  {
   "cell_type": "code",
   "execution_count": null,
   "metadata": {},
   "outputs": [],
   "source": [
    "# T vs 2T\n",
    "T = 60\n",
    "days2 = [T, 2*T]\n",
    "pop_percs_gt = pop_perc_at(days2, viewcounts_gt, vids, True)\n",
    "figure = plt.figure(figsize=(18,9))\n",
    "ax = figure.add_subplot(121)\n",
    "series1 = pop_percs_gt[0][days2[0]]\n",
    "series2 = [pop_percs_gt[1][days2[1]].loc[x] for x in pop_percs_gt[0].index]\n",
    "ax.scatter(series1, series2)\n",
    "ax.set_ylabel(\"Popularity percentile @2T\", color=\"orange\")\n",
    "ax.set_xlabel(\"T\", color=\"orange\")\n",
    "ax = figure.add_subplot(122)\n",
    "ax.set_xlabel(\"Popularity percentile @T\", color=\"orange\")\n",
    "ax.hist2d(series1, series2, bins=50)[0]\n",
    "pass"
   ]
  },
  {
   "cell_type": "code",
   "execution_count": null,
   "metadata": {},
   "outputs": [],
   "source": [
    "def plot_popPerc_totalViews(days, df_total_views, pop_percs_gt):\n",
    "    \"\"\" assume days to be of length 2\n",
    "    \"\"\"\n",
    "    noBins = 40\n",
    "    bin_width = 1.0 / noBins\n",
    "    popPerc_eval = [[] for x in range(noBins)]\n",
    "    for i in range(len(days)):\n",
    "        total_views_binned = [[] for x in range(noBins)]\n",
    "        total_views_log_space = [math.log(max(df_total_views.loc[vid, days[i]], 1), 10) for vid in pop_percs_gt[i].index]\n",
    "        for j in range(len(pop_percs_gt[i][days[i]])):\n",
    "            pop_perc = pop_percs_gt[i][days[i]][j]\n",
    "            noBin = min(int(np.floor(pop_perc / bin_width)), noBins-1)\n",
    "            total_views_binned[noBin].append(total_views_log_space[j])\n",
    "#             if noBin==39 and total_views_log_space[j]<3.333:\n",
    "#                 print(pop_perc)\n",
    "            if i==1:\n",
    "                vid = (pop_percs_gt[i].index)[j]\n",
    "                popPerc_eval[noBin].append(pop_percs_gt[0][days[0]].loc[vid])\n",
    "    \n",
    "    fig = plt.figure(figsize=(14, 7))\n",
    "    ax = fig.add_subplot(111)\n",
    "    ax.boxplot(popPerc_eval)\n",
    "    ax.set_ylabel(r\"Popularity percentile $@day_{120}$\")\n",
    "    ax.set_xlabel(r\"Popularity percentile $@day_{60}$\")\n",
    "    ax.set_xticks([k*2 for k in range(1, noBins//2+1)])\n",
    "    ax.set_xticklabels(['{0:.2f}'.format(k*2*bin_width) for k in range(1, noBins//2+1)])\n",
    "    \n",
    "#     fig.savefig(\"TN2T.pdf\", bbox_inches='tight')\n",
    "    return total_views_binned           \n",
    "\n",
    "df_total_views = total_views_at(days2, viewcounts_gt, vids, accumulate=True)\n",
    "total_views_binned = plot_popPerc_totalViews(days2, df_total_views, pop_percs_gt)"
   ]
  },
  {
   "cell_type": "markdown",
   "metadata": {},
   "source": [
    "### For videos that \"jumped\" in popularity, do all of them have a surge in sharing/tweeting activities?\n",
    "1. Popularity is determined by \n",
    "    - endogenous response\n",
    "    - exogenous sensitivity\n",
    "    - exogenous impulse\n",
    "2. First two is a property of video, so jump of popularity should be caused by surge in exogenous impulse\n",
    "3. This can be examined by sample out videos that jump from T to 2T"
   ]
  },
  {
   "cell_type": "markdown",
   "metadata": {},
   "source": [
    "### Evaluate change on forecasting error on long-term: can HIP model adapts to that\n",
    "1. can look at that on a dataset with longer time series - VEVO-music dataset or engagement'16 datasets\n",
    "    - previous work on Vevo"
   ]
  },
  {
   "cell_type": "markdown",
   "metadata": {},
   "source": [
    "### How to quantify long-term popularity\n",
    "1. Divide into 3 categories\n",
    "    1. videos that have sustain interest\n",
    "    2. videos that receive surge and gain popularity and die\n",
    "    3. videos that receive surge and gain popularity and then sustain interest\n",
    "2. Can look at share pattern and come up with a criterinon to categorise (but can this be explained by endo-exo?)\n",
    "3. Before come up with criterinon, find a way to put viewcounts of all videos into one picture and discover how many clusters there are"
   ]
  },
  {
   "cell_type": "code",
   "execution_count": null,
   "metadata": {},
   "outputs": [],
   "source": []
  }
 ],
 "metadata": {
  "kernelspec": {
   "display_name": "hip-long",
   "language": "python",
   "name": "hip-long"
  },
  "language_info": {
   "codemirror_mode": {
    "name": "ipython",
    "version": 3
   },
   "file_extension": ".py",
   "mimetype": "text/x-python",
   "name": "python",
   "nbconvert_exporter": "python",
   "pygments_lexer": "ipython3",
   "version": "3.7.3"
  }
 },
 "nbformat": 4,
 "nbformat_minor": 2
}
