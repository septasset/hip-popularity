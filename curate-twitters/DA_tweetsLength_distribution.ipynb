{
 "cells": [
  {
   "cell_type": "code",
   "execution_count": 1,
   "metadata": {},
   "outputs": [],
   "source": [
    "from __future__ import print_function, division\n",
    "import os, bz2, json, time, sys, csv\n",
    "from datetime import timedelta, datetime\n",
    "\n",
    "import math\n",
    "import collections\n",
    "import numpy as np\n",
    "import pandas as pd\n",
    "import matplotlib as mpl\n",
    "import scipy.stats as stats\n",
    "\n",
    "from matplotlib import pyplot as plt\n",
    "from tqdm import tqdm\n",
    "\n",
    "from util_read_Copy import engage_read, read_vids, engage_tweets_read, merge_engage_tweets, engage_metadata, compute_period_daily"
   ]
  },
  {
   "cell_type": "code",
   "execution_count": 2,
   "metadata": {},
   "outputs": [],
   "source": [
    "# file_vids_filter_all = \"/home/users/u6314203/pyProject/hip-popularity/data/engage16/filtered/vids_filter_all.csv\" \n",
    "# engage_dataset_base = \"/localdata/u6314203/dataset_engage16/tweeted_videos\" \n",
    "# tweets_dataset_base = \"/localdata/u6314203/dataset_tweets_engage/dataset_tweets_fixTZ\"\n",
    "\n",
    "file_vids_filter_all = \"C:/Users/u6314203/pyProjects/hip-popularity/data/engage16/filtered/vids_filter_all.csv\"\n",
    "engage_dataset_base = \"G:/MLCV dataset/engagement'16/tweeted_videos\"\n",
    "tweets_dataset_base = \"G:/MLCV dataset/engagement'16/tweets_dataset_fixTZ\"\n",
    "\n",
    "categories_eligible = [\"autos\", \"comedy\",\"education\",\"entertainment\", \\\n",
    "                       \"film\",\"gaming\",\"howto\",\"music\",\\\n",
    "                       \"news\",\"people\",\"science\",\"sports\",\\\n",
    "                       \"travel\"]"
   ]
  },
  {
   "cell_type": "code",
   "execution_count": 3,
   "metadata": {},
   "outputs": [
    {
     "name": "stdout",
     "output_type": "stream",
     "text": [
      "Vids(filtered) in each category:\n",
      "autos:25712; comedy:31741; education:41191; entertainment:180128; film:43101; gaming:222236; howto:61027; music:118094; news:38249; people:222658; science:32278; sports:39649; travel:13112\n",
      "Tweets autos size: 25597\n",
      "Tweets comedy size: 31678\n",
      "Tweets education size: 41005\n",
      "Tweets entertainment size: 179517\n",
      "Tweets film size: 42954\n",
      "Tweets gaming size: 221470\n",
      "Tweets howto size: 60796\n",
      "Tweets music size: 117764\n",
      "Tweets news size: 38082\n",
      "Tweets people size: 221975\n",
      "Tweets science size: 32148\n",
      "Tweets sports size: 39537\n",
      "Tweets travel size: 13043\n",
      "Total size: 1065566\n"
     ]
    }
   ],
   "source": [
    "# vids from all category\n",
    "vids_filter_all = read_vids(file_vids_filter_all)\n",
    "\n",
    "dataset = dict()\n",
    "# engage_metadata = dict() \n",
    "for category in categories_eligible[:]:    \n",
    "    tweets_dataset = engage_tweets_read(tweets_dataset_base, category)\n",
    "    dataset.update(tweets_dataset) \n",
    "    \n",
    "print(f\"Total size: {len(dataset)}\")"
   ]
  },
  {
   "cell_type": "code",
   "execution_count": 4,
   "metadata": {},
   "outputs": [],
   "source": [
    "vids = []\n",
    "tweetsLengths = []\n",
    "\n",
    "for vid, vals in dataset.items():\n",
    "    vids.append(vid)\n",
    "    tweetsLengths.append(len(vals['tweets']))"
   ]
  },
  {
   "cell_type": "code",
   "execution_count": 19,
   "metadata": {},
   "outputs": [
    {
     "data": {
      "image/png": "[encoded data removed]",
      "text/plain": [
       "<Figure size 864x576 with 1 Axes>"
      ]
     },
     "metadata": {
      "needs_background": "light"
     },
     "output_type": "display_data"
    }
   ],
   "source": [
    "fig = plt.figure(figsize=(12,8))\n",
    "ax = fig.add_subplot(1,1,1)\n",
    "bins = 40\n",
    "ccdf = np.log2(np.array(tweetsLengths))\n",
    "ax.hist(ccdf, bins=bins, density=True, histtype='step', cumulative=-1, linewidth=3)\n",
    "\n",
    "ax.grid(True)\n",
    "ax.set_xlabel('Length of tweet series (log space)', fontsize=20)\n",
    "ax.set_ylabel(r'$\\rho (X \\geq x)$', fontsize=20)\n",
    "ax.tick_params(axis='both', which='major', labelsize=16)\n",
    "fig.savefig(\"foo.pdf\", bbox_inches='tight')"
   ]
  },
  {
   "cell_type": "code",
   "execution_count": null,
   "metadata": {},
   "outputs": [],
   "source": []
  }
 ],
 "metadata": {
  "kernelspec": {
   "display_name": "hip-long",
   "language": "python",
   "name": "hip-long"
  },
  "language_info": {
   "codemirror_mode": {
    "name": "ipython",
    "version": 3
   },
   "file_extension": ".py",
   "mimetype": "text/x-python",
   "name": "python",
   "nbconvert_exporter": "python",
   "pygments_lexer": "ipython3",
   "version": "3.7.3"
  }
 },
 "nbformat": 4,
 "nbformat_minor": 2
}
