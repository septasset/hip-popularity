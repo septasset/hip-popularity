{
 "cells": [
  {
   "cell_type": "code",
   "execution_count": 1,
   "metadata": {},
   "outputs": [],
   "source": [
    "import os, sys, glob\n",
    "import json, csv, re, datetime\n",
    "import pickle\n",
    "import collections\n",
    "import pandas as pd\n",
    "\n",
    "from matplotlib import pyplot as plt\n",
    "from matplotlib import cm as cm\n",
    "from tqdm import tqdm\n",
    "from collections import Counter\n",
    "\n",
    "from dir_build_dataset_tweets import read_vids"
   ]
  },
  {
   "cell_type": "code",
   "execution_count": 2,
   "metadata": {},
   "outputs": [],
   "source": [
    "# filter criterion: video must have last-day viewcount of 270+\n",
    "# vidsfile    = \"/home/users/u6314203/pyProject/hip-popularity/data/engage16/filtered/vids_filter_all.csv\"\n",
    "# tweets_dataset_base = \"/localdata/u6314203/dataset_tweets\"\n",
    "vidsfile    = \"C:/Users/u6314203/pyProjects/hip-popularity/data/engage16/filtered/vids_filter_all.csv\"\n",
    "tweets_dataset_base = \"G:/MLCV dataset/engagement'16/tweets_dataset_fixTZ\"\n",
    "engage_dataset_base = \"G:/MLCV dataset/engagement'16/tweeted_videos\"\n",
    "\n",
    "categories_eligible = [\"autos\", \"comedy\",\"education\",\"entertainment\", \\\n",
    "                       \"film\",\"gaming\",\"howto\",\"music\",\\\n",
    "                       \"news\",\"people\",\"science\",\"sports\",\\\n",
    "                       \"travel\"]"
   ]
  },
  {
   "cell_type": "code",
   "execution_count": 3,
   "metadata": {},
   "outputs": [
    {
     "name": "stdout",
     "output_type": "stream",
     "text": [
      "Num. videos in 'tweets engage'/'engage16'\n",
      "autos: 25597/25712\n",
      "comedy: 31678/31741\n",
      "education: 41005/41191\n",
      "entertainment: 179517/180128\n",
      "film: 42954/43101\n",
      "gaming: 221470/222236\n",
      "howto: 60796/61027\n",
      "music: 117764/118094\n",
      "news: 38082/38249\n",
      "people: 221975/222658\n",
      "science: 32148/32278\n",
      "sports: 39537/39649\n",
      "travel: 13043/13112\n"
     ]
    }
   ],
   "source": [
    "engage_vids = read_vids(vidsfile)\n",
    "tweets_vids = collections.defaultdict(list)\n",
    "\n",
    "print(\"Num. videos in 'tweets engage'/'engage16'\")\n",
    "for category in categories_eligible[:]:\n",
    "    tweetsFile = os.path.join(tweets_dataset_base, \"{}.json\".format(category))\n",
    "    with open(tweetsFile, \"r\") as f:\n",
    "        tweetsData = json.load(f)\n",
    "    exists, total  = 0, len(engage_vids[category])\n",
    "    for vid, _ in tweetsData.items():\n",
    "        if vid in engage_vids[category]:\n",
    "            tweets_vids[category].append(vid)\n",
    "            exists += 1\n",
    "            \n",
    "    print(\"{}: {}/{}\".format(category, exists, total))"
   ]
  },
  {
   "cell_type": "markdown",
   "metadata": {},
   "source": [
    "#### Profile each category"
   ]
  },
  {
   "cell_type": "code",
   "execution_count": 4,
   "metadata": {},
   "outputs": [],
   "source": [
    "def engage_days(test_category, eval_days = [90, 135, 180, 225, 270]):\n",
    "    # read days info in engage16\n",
    "    with open(os.path.join(engage_dataset_base, test_category+\".json\"), \"r\") as f:\n",
    "        dataset_json = f.readlines()\n",
    "\n",
    "    # dict-like dataset\n",
    "    dataset = {}\n",
    "    # attributes\n",
    "    vids_set = set()\n",
    "\n",
    "#     for line in tqdm(dataset_json, desc=\"{} in engage\".format(test_category)):\n",
    "    for line in dataset_json:\n",
    "        record = json.loads(line)\n",
    "        try:        \n",
    "            day = [int(x) for x in record['insights']['days'].split(\",\")]\n",
    "            day_zero = record['insights']['startDate']\n",
    "\n",
    "            \"\"\"!!!\"\"\"\n",
    "            if len(day) < eval_days[-1]: continue\n",
    "        except:\n",
    "            continue\n",
    "        dataset[record['id']] = (day_zero, day)\n",
    "\n",
    "        if record['id'] in vids_set:\n",
    "            continue\n",
    "        vids_set.add(record['id'])\n",
    "        \n",
    "    return dataset\n",
    "\n",
    "def tweets_days(test_category):\n",
    "    with open(os.path.join(tweets_dataset_base, test_category+\".json\"), \"r\") as f:\n",
    "        dataset_json = f.readlines()\n",
    "        \n",
    "    dataset = json.loads(dataset_json[0])\n",
    "    return dataset        "
   ]
  },
  {
   "cell_type": "code",
   "execution_count": 5,
   "metadata": {},
   "outputs": [],
   "source": [
    "def get_diff_tweets_vs_engage(test_category, engage_dataset, tweets_dataset):    \n",
    "    diff_tweetsToEngage = {\n",
    "        \"vids\": [],\n",
    "        \"day_zero\": [],\n",
    "        \"last_day\": [],\n",
    "        \"length\": []\n",
    "    }\n",
    "    \n",
    "    for vid in tweets_dataset.keys():\n",
    "        diff_tweetsToEngage[\"vids\"].append(vid)\n",
    "        record1 = tweets_dataset[vid]['day_zero'], tweets_dataset[vid]['days']\n",
    "        record2 = engage_dataset[vid]    \n",
    "\n",
    "        diff_tweetsToEngage[\"day_zero\"].append((datetime.datetime.strptime(record1[0], \"%Y-%m-%d\") \n",
    "                                        - datetime.datetime.strptime(record2[0], \"%Y-%m-%d\")).days)\n",
    "\n",
    "        diff_tweetsToEngage[\"last_day\"].append(record1[1][-1] - record2[1][-1])\n",
    "        diff_tweetsToEngage[\"length\"].append(len(record1[1]) - len(record2[1]))\n",
    "    return diff_tweetsToEngage"
   ]
  },
  {
   "cell_type": "code",
   "execution_count": 8,
   "metadata": {},
   "outputs": [],
   "source": [
    "cmap = cm.get_cmap('RdYlBu_r')\n",
    "\n",
    "def display_diff(test_category, diff_tweetsToEngage, save_base='figs/tmp/'):\n",
    "    Cnt = Counter(diff_tweetsToEngage[\"day_zero\"])\n",
    "    most_common_diff = [\n",
    "        [diff for diff, _ in Cnt.most_common(10)], \n",
    "        [cnt  for _, cnt in Cnt.most_common(10)], \n",
    "        [\"{:.3f}\".format(cnt/len(diff_tweetsToEngage['vids'])) for diff, cnt in Cnt.most_common(10)]\n",
    "    ]    \n",
    "    \n",
    "    df = pd.DataFrame(most_common_diff[1:], columns = most_common_diff[0])\n",
    "    print(\"Top 10 difference at `day_zero` ({})\".format(test_category))\n",
    "    display(df)\n",
    "    \n",
    "    # fig1: last_day\n",
    "    fig = plt.figure(figsize=(12, 6))\n",
    "    ax = fig.add_subplot(111)\n",
    "    bin_width = 50\n",
    "    bins = [x for x in range(min(diff_tweetsToEngage[\"last_day\"])//bin_width*bin_width,\n",
    "                             max(diff_tweetsToEngage[\"last_day\"])//bin_width*bin_width+bin_width, bin_width)]\n",
    "    ax.hist(diff_tweetsToEngage[\"last_day\"], rwidth=0.9, bins=bins, log=True)\n",
    "    ax.set_ylim(bottom=1)\n",
    "    ax.set_xticks(bins)\n",
    "    ax.set_title(\"`last_day` difference between tweets-engage and engage16 ({})\".format(test_category))\n",
    "    ax.set_xlabel(\"`last_day` difference\")\n",
    "    ax.set_ylabel(\"Num. videos (log)\")\n",
    "    plt.savefig(save_base+\"last_day({}, logY)\".format(test_category))\n",
    "    \n",
    "    # fig2: length\n",
    "    fig = plt.figure(figsize=(12, 6))\n",
    "    ax = fig.add_subplot(111)\n",
    "    bin_width = 50\n",
    "    bins = [x for x in range(min(diff_tweetsToEngage[\"length\"])//bin_width*bin_width,\n",
    "                             max(diff_tweetsToEngage[\"length\"])//bin_width*bin_width+bin_width, bin_width)]\n",
    "    ax.hist(diff_tweetsToEngage[\"length\"], rwidth=0.9, bins=bins, log=True)\n",
    "    ax.set_ylim(bottom=1)\n",
    "    ax.set_xticks(bins)\n",
    "    ax.set_title(\"`length` difference between tweets-engage and engage16 ({})\".format(test_category))\n",
    "    ax.set_xlabel(\"`length` difference\")\n",
    "    ax.set_ylabel(\"Num. videos (log)\")\n",
    "    plt.savefig(save_base+\"length({}, logY)\".format(test_category))\n",
    "    "
   ]
  },
  {
   "cell_type": "markdown",
   "metadata": {},
   "source": [
    "#### Problem\n",
    "1. <s>tweets max 61 days, engage max ~400 days</s>\n",
    "2. <s>diff_day_zero should not be negative</s> -> user at Youtube can modify publish date\n",
    "3. <s>In `date`.bz2 file, there can be tweets in both `date`-1 and `date`</s> -> use `created_at` field\n",
    "4. tweets data are worse missing in last day and length\n",
    "    - Most videos have 250-300 less records of tweets compared to engage"
   ]
  },
  {
   "cell_type": "code",
   "execution_count": 10,
   "metadata": {},
   "outputs": [
    {
     "name": "stdout",
     "output_type": "stream",
     "text": [
      "autos stats done\n",
      "comedy stats done\n",
      "education stats done\n",
      "entertainment stats done\n",
      "film stats done\n",
      "gaming stats done\n",
      "howto stats done\n",
      "music stats done\n",
      "news stats done\n",
      "people stats done\n",
      "science stats done\n",
      "sports stats done\n",
      "travel stats done\n",
      "Top 10 difference at `day_zero` (all_cats)\n"
     ]
    },
    {
     "data": {
      "text/html": [
       "<div>\n",
       "<style scoped>\n",
       "    .dataframe tbody tr th:only-of-type {\n",
       "        vertical-align: middle;\n",
       "    }\n",
       "\n",
       "    .dataframe tbody tr th {\n",
       "        vertical-align: top;\n",
       "    }\n",
       "\n",
       "    .dataframe thead th {\n",
       "        text-align: right;\n",
       "    }\n",
       "</style>\n",
       "<table border=\"1\" class=\"dataframe\">\n",
       "  <thead>\n",
       "    <tr style=\"text-align: right;\">\n",
       "      <th></th>\n",
       "      <th>0</th>\n",
       "      <th>1</th>\n",
       "      <th>2</th>\n",
       "      <th>3</th>\n",
       "      <th>4</th>\n",
       "      <th>5</th>\n",
       "      <th>6</th>\n",
       "      <th>7</th>\n",
       "      <th>8</th>\n",
       "      <th>9</th>\n",
       "    </tr>\n",
       "  </thead>\n",
       "  <tbody>\n",
       "    <tr>\n",
       "      <th>0</th>\n",
       "      <td>791863</td>\n",
       "      <td>91410</td>\n",
       "      <td>25075</td>\n",
       "      <td>15873</td>\n",
       "      <td>12121</td>\n",
       "      <td>9997</td>\n",
       "      <td>8751</td>\n",
       "      <td>7413</td>\n",
       "      <td>6223</td>\n",
       "      <td>5678</td>\n",
       "    </tr>\n",
       "    <tr>\n",
       "      <th>1</th>\n",
       "      <td>0.743</td>\n",
       "      <td>0.086</td>\n",
       "      <td>0.024</td>\n",
       "      <td>0.015</td>\n",
       "      <td>0.011</td>\n",
       "      <td>0.009</td>\n",
       "      <td>0.008</td>\n",
       "      <td>0.007</td>\n",
       "      <td>0.006</td>\n",
       "      <td>0.005</td>\n",
       "    </tr>\n",
       "  </tbody>\n",
       "</table>\n",
       "</div>"
      ],
      "text/plain": [
       "        0      1      2      3      4      5      6      7      8      9\n",
       "0  791863  91410  25075  15873  12121   9997   8751   7413   6223   5678\n",
       "1   0.743  0.086  0.024  0.015  0.011  0.009  0.008  0.007  0.006  0.005"
      ]
     },
     "metadata": {},
     "output_type": "display_data"
    },
    {
     "data": {
      "image/png": "[encoded data removed]",
      "text/plain": [
       "<Figure size 864x432 with 1 Axes>"
      ]
     },
     "metadata": {
      "needs_background": "light"
     },
     "output_type": "display_data"
    },
    {
     "data": {
      "image/png": "[encoded data removed]",
      "text/plain": [
       "<Figure size 864x432 with 1 Axes>"
      ]
     },
     "metadata": {
      "needs_background": "light"
     },
     "output_type": "display_data"
    }
   ],
   "source": [
    "# all categories\n",
    "diff = {\n",
    "    \"vids\": [],\n",
    "    \"day_zero\": [],\n",
    "    \"last_day\": [],\n",
    "    \"length\": []\n",
    "}\n",
    "\n",
    "for test_category in categories_eligible[:]:\n",
    "    engage_dataset = engage_days(test_category)\n",
    "    tweets_dataset = tweets_days(test_category)\n",
    "        \n",
    "    diff_tweetsToEngage = get_diff_tweets_vs_engage(test_category, engage_dataset, tweets_dataset)\n",
    "    \n",
    "    for key in diff.keys():\n",
    "        diff[key] = diff[key] + diff_tweetsToEngage[key]\n",
    "    print(test_category, \"stats done\")\n",
    "    \n",
    "display_diff(\"all_cats\", diff, save_base=\"figs/diff_tweets-engage_engage16/\")"
   ]
  },
  {
   "cell_type": "code",
   "execution_count": 9,
   "metadata": {
    "scrolled": false
   },
   "outputs": [
    {
     "name": "stdout",
     "output_type": "stream",
     "text": [
      "Top 10 difference at `day_zero` (autos)\n"
     ]
    },
    {
     "data": {
      "text/html": [
       "<div>\n",
       "<style scoped>\n",
       "    .dataframe tbody tr th:only-of-type {\n",
       "        vertical-align: middle;\n",
       "    }\n",
       "\n",
       "    .dataframe tbody tr th {\n",
       "        vertical-align: top;\n",
       "    }\n",
       "\n",
       "    .dataframe thead th {\n",
       "        text-align: right;\n",
       "    }\n",
       "</style>\n",
       "<table border=\"1\" class=\"dataframe\">\n",
       "  <thead>\n",
       "    <tr style=\"text-align: right;\">\n",
       "      <th></th>\n",
       "      <th>0</th>\n",
       "      <th>1</th>\n",
       "      <th>2</th>\n",
       "      <th>3</th>\n",
       "      <th>4</th>\n",
       "      <th>5</th>\n",
       "      <th>6</th>\n",
       "      <th>7</th>\n",
       "      <th>8</th>\n",
       "      <th>10</th>\n",
       "    </tr>\n",
       "  </thead>\n",
       "  <tbody>\n",
       "    <tr>\n",
       "      <th>0</th>\n",
       "      <td>18483</td>\n",
       "      <td>2621</td>\n",
       "      <td>705</td>\n",
       "      <td>449</td>\n",
       "      <td>279</td>\n",
       "      <td>216</td>\n",
       "      <td>211</td>\n",
       "      <td>167</td>\n",
       "      <td>144</td>\n",
       "      <td>134</td>\n",
       "    </tr>\n",
       "    <tr>\n",
       "      <th>1</th>\n",
       "      <td>0.722</td>\n",
       "      <td>0.102</td>\n",
       "      <td>0.028</td>\n",
       "      <td>0.018</td>\n",
       "      <td>0.011</td>\n",
       "      <td>0.008</td>\n",
       "      <td>0.008</td>\n",
       "      <td>0.007</td>\n",
       "      <td>0.006</td>\n",
       "      <td>0.005</td>\n",
       "    </tr>\n",
       "  </tbody>\n",
       "</table>\n",
       "</div>"
      ],
      "text/plain": [
       "      0      1      2      3      4      5      6      7      8      10\n",
       "0  18483   2621    705    449    279    216    211    167    144    134\n",
       "1  0.722  0.102  0.028  0.018  0.011  0.008  0.008  0.007  0.006  0.005"
      ]
     },
     "metadata": {},
     "output_type": "display_data"
    },
    {
     "name": "stdout",
     "output_type": "stream",
     "text": [
      "Top 10 difference at `day_zero` (comedy)\n"
     ]
    },
    {
     "data": {
      "text/html": [
       "<div>\n",
       "<style scoped>\n",
       "    .dataframe tbody tr th:only-of-type {\n",
       "        vertical-align: middle;\n",
       "    }\n",
       "\n",
       "    .dataframe tbody tr th {\n",
       "        vertical-align: top;\n",
       "    }\n",
       "\n",
       "    .dataframe thead th {\n",
       "        text-align: right;\n",
       "    }\n",
       "</style>\n",
       "<table border=\"1\" class=\"dataframe\">\n",
       "  <thead>\n",
       "    <tr style=\"text-align: right;\">\n",
       "      <th></th>\n",
       "      <th>0</th>\n",
       "      <th>1</th>\n",
       "      <th>2</th>\n",
       "      <th>3</th>\n",
       "      <th>4</th>\n",
       "      <th>5</th>\n",
       "      <th>6</th>\n",
       "      <th>8</th>\n",
       "      <th>7</th>\n",
       "      <th>10</th>\n",
       "    </tr>\n",
       "  </thead>\n",
       "  <tbody>\n",
       "    <tr>\n",
       "      <th>0</th>\n",
       "      <td>24161</td>\n",
       "      <td>2442</td>\n",
       "      <td>672</td>\n",
       "      <td>415</td>\n",
       "      <td>307</td>\n",
       "      <td>273</td>\n",
       "      <td>256</td>\n",
       "      <td>224</td>\n",
       "      <td>214</td>\n",
       "      <td>171</td>\n",
       "    </tr>\n",
       "    <tr>\n",
       "      <th>1</th>\n",
       "      <td>0.763</td>\n",
       "      <td>0.077</td>\n",
       "      <td>0.021</td>\n",
       "      <td>0.013</td>\n",
       "      <td>0.010</td>\n",
       "      <td>0.009</td>\n",
       "      <td>0.008</td>\n",
       "      <td>0.007</td>\n",
       "      <td>0.007</td>\n",
       "      <td>0.005</td>\n",
       "    </tr>\n",
       "  </tbody>\n",
       "</table>\n",
       "</div>"
      ],
      "text/plain": [
       "      0      1      2      3      4      5      6      8      7      10\n",
       "0  24161   2442    672    415    307    273    256    224    214    171\n",
       "1  0.763  0.077  0.021  0.013  0.010  0.009  0.008  0.007  0.007  0.005"
      ]
     },
     "metadata": {},
     "output_type": "display_data"
    },
    {
     "data": {
      "image/png": "[encoded data removed]",
      "text/plain": [
       "<Figure size 864x432 with 1 Axes>"
      ]
     },
     "metadata": {
      "needs_background": "light"
     },
     "output_type": "display_data"
    },
    {
     "data": {
      "image/png": "[encoded data removed]",
      "text/plain": [
       "<Figure size 864x432 with 1 Axes>"
      ]
     },
     "metadata": {
      "needs_background": "light"
     },
     "output_type": "display_data"
    },
    {
     "data": {
      "image/png": "[encoded data removed]",
      "text/plain": [
       "<Figure size 864x432 with 1 Axes>"
      ]
     },
     "metadata": {
      "needs_background": "light"
     },
     "output_type": "display_data"
    },
    {
     "data": {
      "image/png": "[encoded data removed]",
      "text/plain": [
       "<Figure size 864x432 with 1 Axes>"
      ]
     },
     "metadata": {
      "needs_background": "light"
     },
     "output_type": "display_data"
    }
   ],
   "source": [
    "# by category\n",
    "for test_category in categories_eligible[:]:\n",
    "    engage_dataset = engage_days(test_category)\n",
    "    tweets_dataset = tweets_days(test_category)\n",
    "        \n",
    "    diff_tweetsToEngage = get_diff_tweets_vs_engage(test_category, engage_dataset, tweets_dataset)\n",
    "    \n",
    "    display_diff(test_category, diff_tweetsToEngage, save_base = \"figs/diff_tweets-engage_engage16/\")"
   ]
  },
  {
   "cell_type": "code",
   "execution_count": null,
   "metadata": {},
   "outputs": [],
   "source": []
  }
 ],
 "metadata": {
  "kernelspec": {
   "display_name": "hip-long",
   "language": "python",
   "name": "hip-long"
  },
  "language_info": {
   "codemirror_mode": {
    "name": "ipython",
    "version": 3
   },
   "file_extension": ".py",
   "mimetype": "text/x-python",
   "name": "python",
   "nbconvert_exporter": "python",
   "pygments_lexer": "ipython3",
   "version": "3.8.5"
  }
 },
 "nbformat": 4,
 "nbformat_minor": 4
}
