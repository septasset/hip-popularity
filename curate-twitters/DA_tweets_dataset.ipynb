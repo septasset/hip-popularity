{
 "cells": [
  {
   "cell_type": "code",
   "execution_count": 1,
   "metadata": {},
   "outputs": [],
   "source": [
    "import os, sys, glob\n",
    "import json, csv, re, datetime\n",
    "import pickle\n",
    "import collections\n",
    "\n",
    "from tqdm import tqdm\n",
    "\n",
    "from dir_build_dataset_tweets import read_vids"
   ]
  },
  {
   "cell_type": "code",
   "execution_count": 2,
   "metadata": {},
   "outputs": [],
   "source": [
    "# filter criterion: video must have last-day viewcount of 270+\n",
    "vidsfile    = \"/home/users/u6314203/pyProject/hip-popularity/data/engage16/filtered/vids_filter_all.csv\"\n",
    "tweets_dataset_base = \"/localdata/u6314203/dataset_tweets\"\n",
    "\n",
    "categories_eligible = [ #\"autos\",\n",
    "                       \"comedy\",\"education\",\"entertainment\", \\\n",
    "                       \"film\",\"gaming\",\"howto\",\"music\",\\\n",
    "                       \"news\",\"people\",\"science\",\"sports\",\\\n",
    "                       \"travel\"]"
   ]
  },
  {
   "cell_type": "code",
   "execution_count": 3,
   "metadata": {},
   "outputs": [
    {
     "name": "stdout",
     "output_type": "stream",
     "text": [
      "Num. videos in tweets dataset that exist in engage16\n",
      "comedy: 31666/31741\n",
      "education: 40956/41191\n",
      "entertainment: 179404/180128\n",
      "film: 42915/43101\n",
      "gaming: 221360/222236\n",
      "howto: 60732/61027\n",
      "music: 117640/118094\n",
      "news: 38068/38249\n",
      "people: 221792/222658\n",
      "science: 32121/32278\n",
      "sports: 39502/39649\n",
      "travel: 13025/13112\n"
     ]
    }
   ],
   "source": [
    "engage_vids = read_vids(vidsfile)\n",
    "tweets_vids = collections.defaultdict(list)\n",
    "\n",
    "print(\"Num. videos in tweets dataset that exist in engage16\")\n",
    "for category in categories_eligible[:]:\n",
    "    tweetsFile = os.path.join(tweets_dataset_base, \"{}.json\".format(category))\n",
    "    with open(tweetsFile, \"r\") as f:\n",
    "        tweetsData = json.load(f)\n",
    "    exists, total  = 0, len(engage_vids[category])\n",
    "    for vid, _ in tweetsData.items():\n",
    "        if vid in engage_vids[category]:\n",
    "            tweets_vids[category].append(vid)\n",
    "            exists += 1\n",
    "            \n",
    "    print(\"{}: {}/{}\".format(category, exists, total))"
   ]
  },
  {
   "cell_type": "code",
   "execution_count": 4,
   "metadata": {},
   "outputs": [],
   "source": [
    "category = \"comedy\""
   ]
  }
 ],
 "metadata": {
  "kernelspec": {
   "display_name": "hip-long",
   "language": "python",
   "name": "hip-long"
  },
  "language_info": {
   "codemirror_mode": {
    "name": "ipython",
    "version": 3
   },
   "file_extension": ".py",
   "mimetype": "text/x-python",
   "name": "python",
   "nbconvert_exporter": "python",
   "pygments_lexer": "ipython3",
   "version": "3.8.5"
  }
 },
 "nbformat": 4,
 "nbformat_minor": 4
}
