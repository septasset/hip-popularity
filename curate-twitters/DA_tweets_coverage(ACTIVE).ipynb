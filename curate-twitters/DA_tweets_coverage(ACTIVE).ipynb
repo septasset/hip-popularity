{
 "cells": [
  {
   "cell_type": "code",
   "execution_count": 1,
   "metadata": {},
   "outputs": [],
   "source": [
    "import os, sys, glob\n",
    "import json, csv, bz2, re, datetime\n",
    "import pickle\n",
    "import collections\n",
    "import pandas as pd\n",
    "\n",
    "from matplotlib import pyplot as plt\n",
    "from matplotlib import cm as cm\n",
    "from tqdm import tqdm\n",
    "from collections import Counter\n",
    "\n",
    "from dir_build_dataset_tweets import read_vids"
   ]
  },
  {
   "cell_type": "code",
   "execution_count": 2,
   "metadata": {},
   "outputs": [],
   "source": [
    "dataset_base = \"G:/MLCV dataset/ACTIVE/active-dataset.json.bz2\"\n",
    "\n",
    "attributes = [\"YoutubeID\",\"numTweet\",\"numShare\",\"numSubscriber\",\"watchTime\",\"dailyViewcount\",\\\n",
    "              \"description\",\"title\",\"channelId\",\"channelTitle\",\"category\",\"uploadDate\",\"duration\",\\\n",
    "              \"definition\",\"dimension\",\"caption\",\"regionRestriction.blocked\",\\\n",
    "              \"regionRestriction.allowed\",\"topicIds\",\"relevantTopicIds\",\"totalShare\",\\\n",
    "              \"totalViewcount\",\"totalTweet\",\"dailyTweets\"]"
   ]
  },
  {
   "cell_type": "code",
   "execution_count": 3,
   "metadata": {},
   "outputs": [
    {
     "name": "stdout",
     "output_type": "stream",
     "text": [
      "14041\n",
      "Max history 237 days\n"
     ]
    }
   ],
   "source": [
    "with bz2.BZ2File(dataset_base) as f:\n",
    "    dataset = json.loads(f.readline())\n",
    "    \n",
    "print(len(dataset))\n",
    "print(\"Max history 237 days\")\n",
    "\n",
    "# dataset: [{attr -> val}]"
   ]
  },
  {
   "cell_type": "code",
   "execution_count": 7,
   "metadata": {},
   "outputs": [],
   "source": [
    "def get_diff_tweets_vs_viewcount(dataset):    \n",
    "    diff_tweetsToViewcount = {\n",
    "        \"vids\": [],\n",
    "        \"day_zero\": [],\n",
    "        \"last_day\": [],\n",
    "        \"length\": []\n",
    "    }\n",
    "    \n",
    "    for entry in dataset:\n",
    "        vid = entry[\"YoutubeID\"]       \n",
    "        tweets_series = entry[\"dailyTweets\"]\n",
    "        viewcount_series = entry[\"dailyViewcount\"]\n",
    "\n",
    "        tweets_info = [None, None, 0]\n",
    "        viewcount_info = [None, None, 0]\n",
    "        for i in range(len(tweets_series)):\n",
    "            if (type(tweets_series[i]) == int or type(tweets_series[i]) == float) and tweets_series[i] >0:\n",
    "                if tweets_info[0] is None: tweets_info[0] = i\n",
    "                tweets_info[1] = i\n",
    "                tweets_info[2] += 1\n",
    "                \n",
    "            if (type(viewcount_series[i]) == int or type(viewcount_series[i]) == float) and viewcount_series[i] >0:\n",
    "                if viewcount_info[0] is None: viewcount_info[0] = i\n",
    "                viewcount_info[1] = i\n",
    "                viewcount_info[2] += 1 \n",
    "\n",
    "        diff_tweetsToViewcount['vids'].append(vid)    \n",
    "        diff_tweetsToViewcount['day_zero'].append(tweets_info[0]-viewcount_info[0])\n",
    "        diff_tweetsToViewcount['last_day'].append(tweets_info[1]-viewcount_info[1])\n",
    "        diff_tweetsToViewcount['length'].append(tweets_info[2]-viewcount_info[2])\n",
    "        \n",
    "#         if tweets_info[1]-viewcount_info[1] < -200:\n",
    "#             print(vid)\n",
    "#             print(tweets_series)\n",
    "#             print(viewcount_series)\n",
    "        \n",
    "    return diff_tweetsToViewcount"
   ]
  },
  {
   "cell_type": "code",
   "execution_count": 8,
   "metadata": {},
   "outputs": [],
   "source": [
    "def display_diff(test_category, diff_tweetsToEngage, save_base='figs/tmp/'):\n",
    "    Cnt = Counter(diff_tweetsToEngage[\"day_zero\"])\n",
    "    most_common_diff = [\n",
    "        [diff for diff, _ in Cnt.most_common(10)], \n",
    "        [cnt  for _, cnt in Cnt.most_common(10)], \n",
    "        [\"{:.3f}\".format(cnt/len(diff_tweetsToEngage['vids'])) for diff, cnt in Cnt.most_common(10)]\n",
    "    ]    \n",
    "    \n",
    "    df = pd.DataFrame(most_common_diff[1:], columns = most_common_diff[0])\n",
    "    print(\"Top 10 difference at `day_zero` ({})\".format(test_category))\n",
    "    display(df)\n",
    "    \n",
    "    fig = plt.figure(figsize=(12, 6))\n",
    "    ax = fig.add_subplot(111)\n",
    "    bin_width = 50\n",
    "    bins = [x for x in range(min(diff_tweetsToEngage[\"last_day\"])//bin_width*bin_width,\n",
    "                             max(diff_tweetsToEngage[\"last_day\"])//bin_width*bin_width+bin_width, bin_width)]\n",
    "    ax.hist(diff_tweetsToEngage[\"last_day\"], rwidth=0.9, bins=bins, log=True)\n",
    "    ax.set_ylim(bottom=1)\n",
    "    ax.set_xticks(bins)\n",
    "    ax.set_title(\"`last_day` difference between tweets and viewcounts in ACTIVE ({})\".format(test_category))\n",
    "    ax.set_xlabel(\"`last_day` difference\")\n",
    "    ax.set_ylabel(\"Num. videos (log)\")\n",
    "    plt.savefig(save_base+\"last_day({}, logY)\".format(test_category))\n",
    "    \n",
    "    fig = plt.figure(figsize=(12, 6))\n",
    "    ax = fig.add_subplot(111)\n",
    "    bin_width = 50\n",
    "    bins = [x for x in range(min(diff_tweetsToEngage[\"length\"])//bin_width*bin_width,\n",
    "                             max(diff_tweetsToEngage[\"length\"])//bin_width*bin_width+bin_width, bin_width)]\n",
    "    ax.hist(diff_tweetsToEngage[\"length\"], rwidth=0.9, bins=bins, log=True)\n",
    "    ax.set_ylim(bottom=1)\n",
    "    ax.set_xticks(bins)\n",
    "    ax.set_title(\"`length` difference between tweets and viewcounts in ACTIVE ({})\".format(test_category))\n",
    "    ax.set_xlabel(\"`last_day` difference\")\n",
    "    ax.set_ylabel(\"Num. videos (log)\")    \n",
    "    plt.savefig(save_base+\"length({}, logY)\".format(test_category))"
   ]
  },
  {
   "cell_type": "code",
   "execution_count": 9,
   "metadata": {},
   "outputs": [
    {
     "name": "stdout",
     "output_type": "stream",
     "text": [
      "Top 10 difference at `day_zero` (all_cats)\n"
     ]
    },
    {
     "data": {
      "text/html": [
       "<div>\n",
       "<style scoped>\n",
       "    .dataframe tbody tr th:only-of-type {\n",
       "        vertical-align: middle;\n",
       "    }\n",
       "\n",
       "    .dataframe tbody tr th {\n",
       "        vertical-align: top;\n",
       "    }\n",
       "\n",
       "    .dataframe thead th {\n",
       "        text-align: right;\n",
       "    }\n",
       "</style>\n",
       "<table border=\"1\" class=\"dataframe\">\n",
       "  <thead>\n",
       "    <tr style=\"text-align: right;\">\n",
       "      <th></th>\n",
       "      <th>0</th>\n",
       "      <th>1</th>\n",
       "      <th>2</th>\n",
       "      <th>3</th>\n",
       "      <th>5</th>\n",
       "      <th>4</th>\n",
       "      <th>6</th>\n",
       "      <th>8</th>\n",
       "      <th>10</th>\n",
       "      <th>7</th>\n",
       "    </tr>\n",
       "  </thead>\n",
       "  <tbody>\n",
       "    <tr>\n",
       "      <th>0</th>\n",
       "      <td>13266</td>\n",
       "      <td>344</td>\n",
       "      <td>105</td>\n",
       "      <td>60</td>\n",
       "      <td>35</td>\n",
       "      <td>35</td>\n",
       "      <td>24</td>\n",
       "      <td>19</td>\n",
       "      <td>17</td>\n",
       "      <td>15</td>\n",
       "    </tr>\n",
       "    <tr>\n",
       "      <th>1</th>\n",
       "      <td>0.945</td>\n",
       "      <td>0.024</td>\n",
       "      <td>0.007</td>\n",
       "      <td>0.004</td>\n",
       "      <td>0.002</td>\n",
       "      <td>0.002</td>\n",
       "      <td>0.002</td>\n",
       "      <td>0.001</td>\n",
       "      <td>0.001</td>\n",
       "      <td>0.001</td>\n",
       "    </tr>\n",
       "  </tbody>\n",
       "</table>\n",
       "</div>"
      ],
      "text/plain": [
       "      0      1      2      3      5      4      6      8      10     7 \n",
       "0  13266    344    105     60     35     35     24     19     17     15\n",
       "1  0.945  0.024  0.007  0.004  0.002  0.002  0.002  0.001  0.001  0.001"
      ]
     },
     "metadata": {},
     "output_type": "display_data"
    },
    {
     "data": {
      "image/png": "[encoded data removed]",
      "text/plain": [
       "<Figure size 864x432 with 1 Axes>"
      ]
     },
     "metadata": {
      "needs_background": "light"
     },
     "output_type": "display_data"
    },
    {
     "data": {
      "image/png": "[encoded data removed]",
      "text/plain": [
       "<Figure size 864x432 with 1 Axes>"
      ]
     },
     "metadata": {
      "needs_background": "light"
     },
     "output_type": "display_data"
    }
   ],
   "source": [
    "diff = get_diff_tweets_vs_viewcount(dataset)\n",
    "display_diff(\"all_cats\", diff, \"figs/ACTIVE/\")"
   ]
  },
  {
   "cell_type": "code",
   "execution_count": null,
   "metadata": {},
   "outputs": [],
   "source": []
  }
 ],
 "metadata": {
  "kernelspec": {
   "display_name": "hip-long",
   "language": "python",
   "name": "hip-long"
  },
  "language_info": {
   "codemirror_mode": {
    "name": "ipython",
    "version": 3
   },
   "file_extension": ".py",
   "mimetype": "text/x-python",
   "name": "python",
   "nbconvert_exporter": "python",
   "pygments_lexer": "ipython3",
   "version": "3.7.3"
  }
 },
 "nbformat": 4,
 "nbformat_minor": 2
}
